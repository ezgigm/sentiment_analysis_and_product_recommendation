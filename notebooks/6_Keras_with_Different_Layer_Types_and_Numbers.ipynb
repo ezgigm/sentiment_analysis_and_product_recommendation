{
 "cells": [
  {
   "cell_type": "markdown",
   "metadata": {},
   "source": [
    "# Keras with Different Layer Types and Numbers"
   ]
  },
  {
   "cell_type": "markdown",
   "metadata": {},
   "source": [
    "This notebook was run in Google Colab to get more quick results same time without hurting my computer.\n",
    "\n",
    "### Aim of This Notebook:\n",
    "\n",
    "My aim in this notebook is to find better results than CNN with 3-conv layers and RNN with 2-GRU layers models. So, I tried CNN with 2-conv layers and RNN with 2-CuDNNGRU layer and 2-LSTM layers.\n",
    "\n",
    "The detailed comparison of results for all 5 Keras models can be found at the end of this notebook with feature advices. "
   ]
  },
  {
   "cell_type": "code",
   "execution_count": 0,
   "metadata": {
    "colab": {},
    "colab_type": "code",
    "id": "8neitrJ7lqZA"
   },
   "outputs": [],
   "source": [
    "# necessary imports\n",
    "\n",
    "import pandas as pd\n",
    "import numpy as np\n",
    "\n",
    "from sklearn.metrics import f1_score, roc_auc_score, accuracy_score\n",
    "from sklearn.model_selection import train_test_split\n",
    "import re\n",
    "\n",
    "import matplotlib.pyplot as plt\n",
    "import seaborn as sns; sns.set()\n",
    "%matplotlib inline\n",
    "\n",
    "#tensorflow imports\n",
    "import tensorflow\n",
    "from tensorflow.python.keras import models, layers, optimizers\n",
    "from tensorflow.python.keras.preprocessing.text import Tokenizer, text_to_word_sequence\n",
    "from tensorflow.python.keras.preprocessing.sequence import pad_sequences\n"
   ]
  },
  {
   "cell_type": "code",
   "execution_count": 10,
   "metadata": {
    "colab": {
     "base_uri": "https://localhost:8080/",
     "height": 122
    },
    "colab_type": "code",
    "id": "W8EBMG9Plqaa",
    "outputId": "40f2a018-a5aa-434c-c1ef-1d60f44d0e3c"
   },
   "outputs": [
    {
     "name": "stdout",
     "output_type": "stream",
     "text": [
      "Go to this URL in a browser: https://accounts.google.com/o/oauth2/auth?client_id=947318989803-6bn6qk8qdgf4n4g3pfee6491hc0brc4i.apps.googleusercontent.com&redirect_uri=urn%3aietf%3awg%3aoauth%3a2.0%3aoob&response_type=code&scope=email%20https%3a%2f%2fwww.googleapis.com%2fauth%2fdocs.test%20https%3a%2f%2fwww.googleapis.com%2fauth%2fdrive%20https%3a%2f%2fwww.googleapis.com%2fauth%2fdrive.photos.readonly%20https%3a%2f%2fwww.googleapis.com%2fauth%2fpeopleapi.readonly\n",
      "\n",
      "Enter your authorization code:\n",
      "··········\n",
      "Mounted at /content/drive\n"
     ]
    }
   ],
   "source": [
    "# this cell is to connect my google drive with colab notebook to get data\n",
    "from google.colab import drive\n",
    "drive.mount('/content/drive')"
   ]
  },
  {
   "cell_type": "code",
   "execution_count": 0,
   "metadata": {
    "colab": {},
    "colab_type": "code",
    "id": "qNVwgeH_lqbM"
   },
   "outputs": [],
   "source": [
    "# this cell is for geting data from path in the drive\n",
    "path = '/content/drive/My Drive/train/train.csv'\n",
    "df = pd.read_csv(path)"
   ]
  },
  {
   "cell_type": "code",
   "execution_count": 0,
   "metadata": {
    "colab": {},
    "colab_type": "code",
    "id": "RMdeR89Llqbs"
   },
   "outputs": [],
   "source": [
    "df.dropna(inplace=True) # last check to make sure about nulls"
   ]
  },
  {
   "cell_type": "markdown",
   "metadata": {
    "colab": {},
    "colab_type": "code",
    "id": "oGlbaSUTlqbw"
   },
   "source": [
    "To make sure about using same sample data in each notebook, I always get same data and divide with same random state and test_size for validation."
   ]
  },
  {
   "cell_type": "code",
   "execution_count": 0,
   "metadata": {
    "colab": {},
    "colab_type": "code",
    "id": "4a-3vu6Nlqb_"
   },
   "outputs": [],
   "source": [
    "train_data, test_data = train_test_split(df, test_size=0.2,random_state = 42)"
   ]
  },
  {
   "cell_type": "markdown",
   "metadata": {},
   "source": [
    "Now, I will split my train and test to X and y as text and target."
   ]
  },
  {
   "cell_type": "code",
   "execution_count": 0,
   "metadata": {
    "colab": {},
    "colab_type": "code",
    "id": "Ezso4Q7flqcE"
   },
   "outputs": [],
   "source": [
    "train_target = train_data.sentiment\n",
    "train_texts = train_data.review_clean\n",
    "\n",
    "test_target = test_data.sentiment\n",
    "test_texts = test_data.review_clean"
   ]
  },
  {
   "cell_type": "markdown",
   "metadata": {},
   "source": [
    "Like previous notebook, I inspired by https://www.kaggle.com/muonneutrino/sentiment-analysis-with-amazon-reviews to build model. I changed layers and layer types to get better results."
   ]
  },
  {
   "cell_type": "markdown",
   "metadata": {},
   "source": [
    "# Preparing Data to Model"
   ]
  },
  {
   "cell_type": "code",
   "execution_count": 0,
   "metadata": {
    "colab": {},
    "colab_type": "code",
    "id": "1qxLjVxQlqcO"
   },
   "outputs": [],
   "source": [
    "# I get together my text\n",
    "def converting_texts(texts):\n",
    "    collected_texts = []\n",
    "    for text in texts:\n",
    "        collected_texts.append(text)\n",
    "    return collected_texts\n",
    "        \n",
    "train_texts = converting_texts(train_texts)\n",
    "test_texts = converting_texts(test_texts)"
   ]
  },
  {
   "cell_type": "markdown",
   "metadata": {},
   "source": [
    "I need to tokenize my text and padding sequences before modeling my data. I will use Keras proprocessing tools for this."
   ]
  },
  {
   "cell_type": "code",
   "execution_count": 0,
   "metadata": {
    "colab": {},
    "colab_type": "code",
    "id": "E4JTCuhslqcW"
   },
   "outputs": [],
   "source": [
    "max_feat= 12000 #seting max features to define max number of tokenizer words\n",
    "\n",
    "tokenizer = Tokenizer(num_words=max_feat)\n",
    "tokenizer.fit_on_texts(train_texts)\n",
    "# updates internal vocabulary based on a list of texts\n",
    "# in the case where texts contains lists, we assume each entry of the lists to be a token\n",
    "# required before using texts_to_sequences or texts_to_matrix\n",
    "\n",
    "train_texts = tokenizer.texts_to_sequences(train_texts)\n",
    "test_texts = tokenizer.texts_to_sequences(test_texts)\n",
    "# transforms each text in texts to a sequence of integers\n",
    "# Only top num_words-1 most frequent words will be taken into account \n",
    "# Only words known by the tokenizer will be taken into account"
   ]
  },
  {
   "cell_type": "markdown",
   "metadata": {},
   "source": [
    "To use batches productively, I need to turn my sequences to same lenght. I prefer to set everything to maximum lenght of the longest sentence in train data."
   ]
  },
  {
   "cell_type": "code",
   "execution_count": 0,
   "metadata": {
    "colab": {},
    "colab_type": "code",
    "id": "QjtN-UPJlqcb"
   },
   "outputs": [],
   "source": [
    "max_len = max(len(train_ex) for train_ex in train_texts) #setting the max length\n",
    "\n",
    "# using pad_sequence tool from Keras\n",
    "# transforms a list of sequences to into a 2D Numpy array of shape \n",
    "# the maxlen argument for the length of the longest sequence in the list\n",
    "train_texts = pad_sequences(train_texts, maxlen=max_len)\n",
    "test_texts = pad_sequences(test_texts, maxlen=max_len)"
   ]
  },
  {
   "cell_type": "markdown",
   "metadata": {},
   "source": [
    "# Building Model"
   ]
  },
  {
   "cell_type": "markdown",
   "metadata": {},
   "source": [
    "In this model, I reduced the layer number in CNN. I set one convolutional layer with batch normalization and max pooling. Additionaly, one convolutional layer with global max pooling. "
   ]
  },
  {
   "cell_type": "code",
   "execution_count": 0,
   "metadata": {
    "colab": {},
    "colab_type": "code",
    "id": "2TpNmPSMlqcg"
   },
   "outputs": [],
   "source": [
    "def build_model():\n",
    "    sequences = layers.Input(shape=(max_len,))\n",
    "    embedded = layers.Embedding(max_feat, 64)(sequences)\n",
    "    x = layers.Conv1D(64, 3, activation='relu')(embedded)\n",
    "    x = layers.BatchNormalization()(x)\n",
    "    x = layers.MaxPool1D(3)(x)\n",
    "    x = layers.Conv1D(64, 5, activation='relu')(x)\n",
    "    x = layers.GlobalMaxPool1D()(x)\n",
    "    x = layers.Flatten()(x)\n",
    "    x = layers.Dense(100, activation='relu')(x)\n",
    "    predictions = layers.Dense(1, activation='sigmoid')(x)\n",
    "    model = models.Model(inputs=sequences, outputs=predictions)\n",
    "    model.compile(\n",
    "        optimizer='rmsprop',\n",
    "        loss='binary_crossentropy',\n",
    "        metrics=['binary_accuracy']\n",
    "    )\n",
    "    return model\n",
    "    \n",
    "model = build_model()"
   ]
  },
  {
   "cell_type": "markdown",
   "metadata": {},
   "source": [
    "# Fitting Model to Pre-processed Data"
   ]
  },
  {
   "cell_type": "code",
   "execution_count": 22,
   "metadata": {
    "colab": {
     "base_uri": "https://localhost:8080/",
     "height": 102
    },
    "colab_type": "code",
    "id": "t6Po8kWmlqcw",
    "outputId": "8dbd125b-97a5-41e1-9248-300c5d89924f"
   },
   "outputs": [
    {
     "name": "stdout",
     "output_type": "stream",
     "text": [
      "Epoch 1/2\n",
      "500/500 [==============================] - 56s 112ms/step - loss: 0.2157 - binary_accuracy: 0.9233 - val_loss: 0.1995 - val_binary_accuracy: 0.9208\n",
      "Epoch 2/2\n",
      "500/500 [==============================] - 55s 111ms/step - loss: 0.1456 - binary_accuracy: 0.9436 - val_loss: 0.1830 - val_binary_accuracy: 0.9384\n"
     ]
    },
    {
     "data": {
      "text/plain": [
       "<tensorflow.python.keras.callbacks.History at 0x7f9fd4730048>"
      ]
     },
     "execution_count": 22,
     "metadata": {
      "tags": []
     },
     "output_type": "execute_result"
    }
   ],
   "source": [
    "model.fit(\n",
    "    train_target, \n",
    "    train_labels, \n",
    "    batch_size=128,\n",
    "    epochs=2,\n",
    "    validation_data=(test_texts, test_target) )"
   ]
  },
  {
   "cell_type": "markdown",
   "metadata": {},
   "source": [
    "It gives good results with less loss and high accuracy."
   ]
  },
  {
   "cell_type": "markdown",
   "metadata": {},
   "source": [
    "# RNN Model with CuDNNGRU Layers"
   ]
  },
  {
   "cell_type": "markdown",
   "metadata": {},
   "source": [
    "I changed the layer types for RNN to see the difference."
   ]
  },
  {
   "cell_type": "code",
   "execution_count": 0,
   "metadata": {
    "colab": {},
    "colab_type": "code",
    "id": "_72Lbyablqd1"
   },
   "outputs": [],
   "source": [
    "def build_rnn_model():\n",
    "    sequences = layers.Input(shape=(max_len,))\n",
    "    embedded = layers.Embedding(max_feat, 64)(sequences)\n",
    "    x = layers.CuDNNGRU(128, return_sequences=True)(embedded)\n",
    "    x = layers.CuDNNGRU(128)(x)\n",
    "    x = layers.Dense(32, activation='relu')(x)\n",
    "    x = layers.Dense(100, activation='relu')(x)\n",
    "    predictions = layers.Dense(1, activation='sigmoid')(x)\n",
    "    model = models.Model(inputs=sequences, outputs=predictions)\n",
    "    model.compile(\n",
    "        optimizer='rmsprop',\n",
    "        loss='binary_crossentropy',\n",
    "        metrics=['binary_accuracy']\n",
    "    )\n",
    "    return model\n",
    "    \n",
    "rnn_model = build_rnn_model()"
   ]
  },
  {
   "cell_type": "code",
   "execution_count": 28,
   "metadata": {
    "colab": {
     "base_uri": "https://localhost:8080/",
     "height": 102
    },
    "colab_type": "code",
    "id": "DEz1HZGklqd-",
    "outputId": "20633893-b53b-43aa-d1a6-cb2c4fd11d3b"
   },
   "outputs": [
    {
     "name": "stdout",
     "output_type": "stream",
     "text": [
      "Epoch 1/2\n",
      "500/500 [==============================] - 331s 661ms/step - loss: 0.2204 - binary_accuracy: 0.9177 - val_loss: 0.1871 - val_binary_accuracy: 0.9280\n",
      "Epoch 2/2\n",
      "500/500 [==============================] - 329s 658ms/step - loss: 0.1611 - binary_accuracy: 0.9361 - val_loss: 0.1792 - val_binary_accuracy: 0.9369\n"
     ]
    },
    {
     "data": {
      "text/plain": [
       "<tensorflow.python.keras.callbacks.History at 0x7f9fd03a2240>"
      ]
     },
     "execution_count": 28,
     "metadata": {
      "tags": []
     },
     "output_type": "execute_result"
    }
   ],
   "source": [
    "rnn_model.fit(\n",
    "    train_texts, \n",
    "    train_target, \n",
    "    batch_size=128,\n",
    "    epochs=2,\n",
    "    validation_data=(test_texts, test_target) )"
   ]
  },
  {
   "cell_type": "markdown",
   "metadata": {},
   "source": [
    "It gives a bit better than CNN."
   ]
  },
  {
   "cell_type": "markdown",
   "metadata": {},
   "source": [
    "# RNN with LSTM Layers"
   ]
  },
  {
   "cell_type": "markdown",
   "metadata": {},
   "source": [
    "I will try LSTM layers this time."
   ]
  },
  {
   "cell_type": "code",
   "execution_count": 0,
   "metadata": {
    "colab": {},
    "colab_type": "code",
    "id": "mN8DwiCxlqeI"
   },
   "outputs": [],
   "source": [
    "def build_lstm_model():\n",
    "    sequences = layers.Input(shape=(MAX_LENGTH,))\n",
    "    embedded = layers.Embedding(MAX_FEATURES, 64)(sequences)\n",
    "    x = layers.LSTM(128, return_sequences=True)(embedded)\n",
    "    x = layers.LSTM(128)(x)\n",
    "    x = layers.Dense(32, activation='relu')(x)\n",
    "    x = layers.Dense(100, activation='relu')(x)\n",
    "    predictions = layers.Dense(1, activation='sigmoid')(x)\n",
    "    model = models.Model(inputs=sequences, outputs=predictions)\n",
    "    model.compile(\n",
    "        optimizer='rmsprop',\n",
    "        loss='binary_crossentropy',\n",
    "        metrics=['binary_accuracy']\n",
    "    )\n",
    "    return model\n",
    "    \n",
    "rnn_model = build_lstm_model()"
   ]
  },
  {
   "cell_type": "code",
   "execution_count": 26,
   "metadata": {
    "colab": {
     "base_uri": "https://localhost:8080/",
     "height": 102
    },
    "colab_type": "code",
    "id": "38nly0ekoXmf",
    "outputId": "fb3238e2-6f5e-4db4-c6e1-e7cedaa3fdf1"
   },
   "outputs": [
    {
     "name": "stdout",
     "output_type": "stream",
     "text": [
      "Epoch 1/2\n",
      "500/500 [==============================] - 392s 783ms/step - loss: 0.2149 - binary_accuracy: 0.9245 - val_loss: 0.1718 - val_binary_accuracy: 0.9322\n",
      "Epoch 2/2\n",
      "500/500 [==============================] - 391s 781ms/step - loss: 0.1652 - binary_accuracy: 0.9367 - val_loss: 0.1656 - val_binary_accuracy: 0.9375\n"
     ]
    },
    {
     "data": {
      "text/plain": [
       "<tensorflow.python.keras.callbacks.History at 0x7f9fd639e048>"
      ]
     },
     "execution_count": 26,
     "metadata": {
      "tags": []
     },
     "output_type": "execute_result"
    }
   ],
   "source": [
    "rnn_model.fit(\n",
    "    train_texts, \n",
    "    train_target, \n",
    "    batch_size=128,\n",
    "    epochs=2,\n",
    "    validation_data=(test_texts, test_target) )"
   ]
  },
  {
   "cell_type": "markdown",
   "metadata": {
    "colab": {},
    "colab_type": "code",
    "id": "hSw7jRbfvVOq"
   },
   "source": [
    "It gives higher values."
   ]
  },
  {
   "cell_type": "markdown",
   "metadata": {},
   "source": [
    "# Comparing All 5 Results"
   ]
  },
  {
   "cell_type": "markdown",
   "metadata": {},
   "source": [
    "I checked all results and there is no huge differences between train and validation results which show overfitting. So, I will compare validation results."
   ]
  },
  {
   "cell_type": "code",
   "execution_count": 7,
   "metadata": {},
   "outputs": [],
   "source": [
    "df_results = pd.DataFrame(columns=[\"Model\", \"val_loss\",'val_acc']) # to see all results"
   ]
  },
  {
   "cell_type": "code",
   "execution_count": 8,
   "metadata": {},
   "outputs": [],
   "source": [
    "df_results = df_results.append({       # written in results \n",
    "     \"Model\": 'CNN-3-Conv' ,\"val_loss\": 0.2632  ,'val_acc' : 0.9175}, ignore_index=True)\n",
    "df_results = df_results.append({       # written in results \n",
    "     \"Model\": 'RNN-2-GRU' ,\"val_loss\": 0.1615  ,'val_acc' : 0.9377}, ignore_index=True)\n",
    "df_results = df_results.append({       # written in results \n",
    "     \"Model\": 'CNN-2-Conv' ,\"val_loss\": 0.1839  ,'val_acc' : 0.9384}, ignore_index=True)\n",
    "df_results = df_results.append({       # written in results \n",
    "     \"Model\": 'RNN-2-CuDNNGRU' ,\"val_loss\": 0.1792  ,'val_acc' : 0.9369}, ignore_index=True)\n",
    "df_results = df_results.append({       # written in results \n",
    "     \"Model\": 'RNN-2-LSTM' ,\"val_loss\": 0.1656  ,'val_acc' : 0.9375}, ignore_index=True)"
   ]
  },
  {
   "cell_type": "code",
   "execution_count": 9,
   "metadata": {
    "scrolled": true
   },
   "outputs": [
    {
     "data": {
      "text/html": [
       "<div>\n",
       "<style scoped>\n",
       "    .dataframe tbody tr th:only-of-type {\n",
       "        vertical-align: middle;\n",
       "    }\n",
       "\n",
       "    .dataframe tbody tr th {\n",
       "        vertical-align: top;\n",
       "    }\n",
       "\n",
       "    .dataframe thead th {\n",
       "        text-align: right;\n",
       "    }\n",
       "</style>\n",
       "<table border=\"1\" class=\"dataframe\">\n",
       "  <thead>\n",
       "    <tr style=\"text-align: right;\">\n",
       "      <th></th>\n",
       "      <th>Model</th>\n",
       "      <th>val_loss</th>\n",
       "      <th>val_acc</th>\n",
       "    </tr>\n",
       "  </thead>\n",
       "  <tbody>\n",
       "    <tr>\n",
       "      <td>0</td>\n",
       "      <td>CNN-3-Conv</td>\n",
       "      <td>0.2632</td>\n",
       "      <td>0.9175</td>\n",
       "    </tr>\n",
       "    <tr>\n",
       "      <td>1</td>\n",
       "      <td>RNN-2-GRU</td>\n",
       "      <td>0.1615</td>\n",
       "      <td>0.9377</td>\n",
       "    </tr>\n",
       "    <tr>\n",
       "      <td>2</td>\n",
       "      <td>CNN-2-Conv</td>\n",
       "      <td>0.1839</td>\n",
       "      <td>0.9384</td>\n",
       "    </tr>\n",
       "    <tr>\n",
       "      <td>3</td>\n",
       "      <td>RNN-2-CuDNNGRU</td>\n",
       "      <td>0.1792</td>\n",
       "      <td>0.9369</td>\n",
       "    </tr>\n",
       "    <tr>\n",
       "      <td>4</td>\n",
       "      <td>RNN-2-LSTM</td>\n",
       "      <td>0.1656</td>\n",
       "      <td>0.9375</td>\n",
       "    </tr>\n",
       "  </tbody>\n",
       "</table>\n",
       "</div>"
      ],
      "text/plain": [
       "            Model  val_loss  val_acc\n",
       "0      CNN-3-Conv    0.2632   0.9175\n",
       "1       RNN-2-GRU    0.1615   0.9377\n",
       "2      CNN-2-Conv    0.1839   0.9384\n",
       "3  RNN-2-CuDNNGRU    0.1792   0.9369\n",
       "4      RNN-2-LSTM    0.1656   0.9375"
      ]
     },
     "execution_count": 9,
     "metadata": {},
     "output_type": "execute_result"
    }
   ],
   "source": [
    "df_results"
   ]
  },
  {
   "cell_type": "markdown",
   "metadata": {},
   "source": [
    "According to accuracy CNN with 2-Conv is highest but its loss is higher than RNN-2-GRU also. So, I decided to best model with Keras as RNN with GRU layers."
   ]
  },
  {
   "cell_type": "code",
   "execution_count": 11,
   "metadata": {},
   "outputs": [
    {
     "data": {
      "image/png": "[encoded data removed]",
      "text/plain": [
       "<Figure size 720x432 with 1 Axes>"
      ]
     },
     "metadata": {
      "needs_background": "light"
     },
     "output_type": "display_data"
    }
   ],
   "source": [
    "plt.figure(figsize=(10,6))\n",
    "ax = sns.barplot(x='Model', y= 'val_loss',data=df_results)"
   ]
  },
  {
   "cell_type": "markdown",
   "metadata": {},
   "source": [
    "# Future Advices:\n",
    "\n",
    "- More layers can be added.\n",
    "- Models can be run for more epoches.\n"
   ]
  },
  {
   "cell_type": "code",
   "execution_count": null,
   "metadata": {},
   "outputs": [],
   "source": []
  }
 ],
 "metadata": {
  "accelerator": "GPU",
  "colab": {
   "name": "Keras_LSTM_GRU.ipynb",
   "provenance": []
  },
  "kernelspec": {
   "display_name": "Python 3",
   "language": "python",
   "name": "python3"
  },
  "language_info": {
   "codemirror_mode": {
    "name": "ipython",
    "version": 3
   },
   "file_extension": ".py",
   "mimetype": "text/x-python",
   "name": "python",
   "nbconvert_exporter": "python",
   "pygments_lexer": "ipython3",
   "version": "3.6.9"
  }
 },
 "nbformat": 4,
 "nbformat_minor": 1
}
