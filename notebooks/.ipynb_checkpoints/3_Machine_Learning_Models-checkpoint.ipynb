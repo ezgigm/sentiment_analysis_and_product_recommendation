{
 "cells": [
  {
   "cell_type": "markdown",
   "metadata": {},
   "source": [
    "# Binary-Classification with ML Models"
   ]
  },
  {
   "cell_type": "markdown",
   "metadata": {},
   "source": [
    "## Aim of This Notebook"
   ]
  },
  {
   "cell_type": "markdown",
   "metadata": {},
   "source": [
    "To classify reviews as positive of negative easily helps company to see negative reviewed products easily without reading too much reviews. So, my focus point is negative rated products. So, I divided my target as 0 and 1. 3 and above rated books were collected together as 1 and 1-2 were classified as 0.\n",
    "\n",
    "My aim in this notebook is to predict reviews as positive or negative from text. To do this, I used machine learning algoritms. Also, deep learning solutions can be found in same repo. "
   ]
  },
  {
   "cell_type": "markdown",
   "metadata": {},
   "source": [
    "## Importing Necessary Libraries"
   ]
  },
  {
   "cell_type": "code",
   "execution_count": 5,
   "metadata": {},
   "outputs": [],
   "source": [
    "# dataframe and series \n",
    "import pandas as pd\n",
    "import numpy as np\n",
    "\n",
    "# sklearn imports for modeling part\n",
    "from sklearn.feature_extraction.text import TfidfVectorizer\n",
    "from sklearn.linear_model import LogisticRegression\n",
    "from sklearn.tree import DecisionTreeClassifier\n",
    "from sklearn.ensemble import RandomForestClassifier, ExtraTreesClassifier\n",
    "\n",
    "from sklearn.model_selection import cross_val_score\n",
    "from sklearn.metrics import accuracy_score,balanced_accuracy_score\n",
    "from sklearn.model_selection import train_test_split\n",
    "\n",
    "from mlxtend.evaluate import confusion_matrix\n",
    "from mlxtend.plotting import plot_confusion_matrix\n",
    "from mlxtend.plotting import plot_decision_regions\n",
    "\n",
    "from sklearn.model_selection import GridSearchCV\n",
    "from sklearn.metrics import roc_auc_score\n",
    "# To plot\n",
    "import matplotlib.pyplot as plt  \n",
    "%matplotlib inline    \n",
    "import matplotlib as mpl\n",
    "import seaborn as sns\n",
    "\n",
    "import nltk\n",
    "from nltk.corpus import stopwords\n",
    "\n",
    "# XGBoost and LGBM classifier imports\n",
    "import xgboost as xgb\n",
    "from xgboost import XGBClassifier\n",
    "\n",
    "import lightgbm as lgb\n",
    "from lightgbm import LGBMClassifier"
   ]
  },
  {
   "cell_type": "code",
   "execution_count": 6,
   "metadata": {},
   "outputs": [],
   "source": [
    "pd.options.display.max_columns=100 # To see the hidden columns in dataframe"
   ]
  },
  {
   "cell_type": "code",
   "execution_count": 7,
   "metadata": {},
   "outputs": [],
   "source": [
    "df = pd.read_csv('cleaned_data.csv', low_memory=False) #taking cleaned data from csv"
   ]
  },
  {
   "cell_type": "code",
   "execution_count": 4,
   "metadata": {},
   "outputs": [
    {
     "data": {
      "text/html": [
       "<div>\n",
       "<style scoped>\n",
       "    .dataframe tbody tr th:only-of-type {\n",
       "        vertical-align: middle;\n",
       "    }\n",
       "\n",
       "    .dataframe tbody tr th {\n",
       "        vertical-align: top;\n",
       "    }\n",
       "\n",
       "    .dataframe thead th {\n",
       "        text-align: right;\n",
       "    }\n",
       "</style>\n",
       "<table border=\"1\" class=\"dataframe\">\n",
       "  <thead>\n",
       "    <tr style=\"text-align: right;\">\n",
       "      <th></th>\n",
       "      <th>overall</th>\n",
       "      <th>verified</th>\n",
       "      <th>reviewTime</th>\n",
       "      <th>reviewerID</th>\n",
       "      <th>asin</th>\n",
       "      <th>style</th>\n",
       "      <th>reviewText</th>\n",
       "      <th>summary</th>\n",
       "      <th>title</th>\n",
       "      <th>day</th>\n",
       "      <th>month</th>\n",
       "      <th>year</th>\n",
       "      <th>sentiment</th>\n",
       "      <th>review_clean</th>\n",
       "    </tr>\n",
       "  </thead>\n",
       "  <tbody>\n",
       "    <tr>\n",
       "      <td>0</td>\n",
       "      <td>4</td>\n",
       "      <td>True</td>\n",
       "      <td>2014-07-03</td>\n",
       "      <td>A2LSKD2H9U8N0J</td>\n",
       "      <td>B000FA5KK0</td>\n",
       "      <td>{'Format:': ' Kindle Edition'}</td>\n",
       "      <td>pretty good story, a little exaggerated, but i...</td>\n",
       "      <td>pretty good story</td>\n",
       "      <td>NaN</td>\n",
       "      <td>3</td>\n",
       "      <td>7</td>\n",
       "      <td>2014</td>\n",
       "      <td>2</td>\n",
       "      <td>pretty good story a little exaggerated but i l...</td>\n",
       "    </tr>\n",
       "    <tr>\n",
       "      <td>1</td>\n",
       "      <td>5</td>\n",
       "      <td>True</td>\n",
       "      <td>2014-05-26</td>\n",
       "      <td>A2QP13XTJND1QS</td>\n",
       "      <td>B000FA5KK0</td>\n",
       "      <td>{'Format:': ' Kindle Edition'}</td>\n",
       "      <td>if you've read other max brand westerns, you k...</td>\n",
       "      <td>A very good book</td>\n",
       "      <td>NaN</td>\n",
       "      <td>26</td>\n",
       "      <td>5</td>\n",
       "      <td>2014</td>\n",
       "      <td>2</td>\n",
       "      <td>if youve read other max brand westerns you kno...</td>\n",
       "    </tr>\n",
       "    <tr>\n",
       "      <td>2</td>\n",
       "      <td>5</td>\n",
       "      <td>True</td>\n",
       "      <td>2016-09-16</td>\n",
       "      <td>A8WQ7MAG3HFOZ</td>\n",
       "      <td>B000FA5KK0</td>\n",
       "      <td>{'Format:': ' Kindle Edition'}</td>\n",
       "      <td>love max, always a fun twist</td>\n",
       "      <td>Five Stars</td>\n",
       "      <td>NaN</td>\n",
       "      <td>16</td>\n",
       "      <td>9</td>\n",
       "      <td>2016</td>\n",
       "      <td>2</td>\n",
       "      <td>love max always a fun twist</td>\n",
       "    </tr>\n",
       "    <tr>\n",
       "      <td>3</td>\n",
       "      <td>5</td>\n",
       "      <td>True</td>\n",
       "      <td>2016-03-03</td>\n",
       "      <td>A1E0MODSRYP7O</td>\n",
       "      <td>B000FA5KK0</td>\n",
       "      <td>{'Format:': ' Kindle Edition'}</td>\n",
       "      <td>as usual for him, a good book</td>\n",
       "      <td>a good</td>\n",
       "      <td>NaN</td>\n",
       "      <td>3</td>\n",
       "      <td>3</td>\n",
       "      <td>2016</td>\n",
       "      <td>2</td>\n",
       "      <td>as usual for him a good book</td>\n",
       "    </tr>\n",
       "    <tr>\n",
       "      <td>4</td>\n",
       "      <td>5</td>\n",
       "      <td>True</td>\n",
       "      <td>2015-09-10</td>\n",
       "      <td>AYUTCGVSM1H7T</td>\n",
       "      <td>B000FA5KK0</td>\n",
       "      <td>{'Format:': ' Kindle Edition'}</td>\n",
       "      <td>mb is one of the original western writers and ...</td>\n",
       "      <td>A Western</td>\n",
       "      <td>NaN</td>\n",
       "      <td>10</td>\n",
       "      <td>9</td>\n",
       "      <td>2015</td>\n",
       "      <td>2</td>\n",
       "      <td>mb is one of the original western writers and ...</td>\n",
       "    </tr>\n",
       "  </tbody>\n",
       "</table>\n",
       "</div>"
      ],
      "text/plain": [
       "   overall  verified  reviewTime      reviewerID        asin  \\\n",
       "0        4      True  2014-07-03  A2LSKD2H9U8N0J  B000FA5KK0   \n",
       "1        5      True  2014-05-26  A2QP13XTJND1QS  B000FA5KK0   \n",
       "2        5      True  2016-09-16   A8WQ7MAG3HFOZ  B000FA5KK0   \n",
       "3        5      True  2016-03-03   A1E0MODSRYP7O  B000FA5KK0   \n",
       "4        5      True  2015-09-10   AYUTCGVSM1H7T  B000FA5KK0   \n",
       "\n",
       "                            style  \\\n",
       "0  {'Format:': ' Kindle Edition'}   \n",
       "1  {'Format:': ' Kindle Edition'}   \n",
       "2  {'Format:': ' Kindle Edition'}   \n",
       "3  {'Format:': ' Kindle Edition'}   \n",
       "4  {'Format:': ' Kindle Edition'}   \n",
       "\n",
       "                                          reviewText            summary title  \\\n",
       "0  pretty good story, a little exaggerated, but i...  pretty good story   NaN   \n",
       "1  if you've read other max brand westerns, you k...   A very good book   NaN   \n",
       "2                       love max, always a fun twist         Five Stars   NaN   \n",
       "3                      as usual for him, a good book             a good   NaN   \n",
       "4  mb is one of the original western writers and ...          A Western   NaN   \n",
       "\n",
       "   day  month  year  sentiment  \\\n",
       "0    3      7  2014          2   \n",
       "1   26      5  2014          2   \n",
       "2   16      9  2016          2   \n",
       "3    3      3  2016          2   \n",
       "4   10      9  2015          2   \n",
       "\n",
       "                                        review_clean  \n",
       "0  pretty good story a little exaggerated but i l...  \n",
       "1  if youve read other max brand westerns you kno...  \n",
       "2                        love max always a fun twist  \n",
       "3                       as usual for him a good book  \n",
       "4  mb is one of the original western writers and ...  "
      ]
     },
     "execution_count": 4,
     "metadata": {},
     "output_type": "execute_result"
    }
   ],
   "source": [
    "df.head() "
   ]
  },
  {
   "cell_type": "markdown",
   "metadata": {},
   "source": [
    "I have already cleaned my data but after converting my data to new column, I would like to make sure my new column is clean or not."
   ]
  },
  {
   "cell_type": "code",
   "execution_count": 5,
   "metadata": {},
   "outputs": [
    {
     "data": {
      "text/plain": [
       "overall             0\n",
       "verified            0\n",
       "reviewTime          0\n",
       "reviewerID          0\n",
       "asin                0\n",
       "style               0\n",
       "reviewText          0\n",
       "summary          1716\n",
       "title           15957\n",
       "day                 0\n",
       "month               0\n",
       "year                0\n",
       "sentiment           0\n",
       "review_clean      242\n",
       "dtype: int64"
      ]
     },
     "execution_count": 5,
     "metadata": {},
     "output_type": "execute_result"
    }
   ],
   "source": [
    "df.isna().sum()  # to check cleaned column"
   ]
  },
  {
   "cell_type": "code",
   "execution_count": 8,
   "metadata": {},
   "outputs": [],
   "source": [
    "df.dropna(subset=['review_clean'], inplace=True) #droping null's in review clean"
   ]
  },
  {
   "cell_type": "code",
   "execution_count": 9,
   "metadata": {
    "scrolled": true
   },
   "outputs": [
    {
     "data": {
      "text/plain": [
       "overall             0\n",
       "verified            0\n",
       "reviewTime          0\n",
       "reviewerID          0\n",
       "asin                0\n",
       "style               0\n",
       "reviewText          0\n",
       "summary          1716\n",
       "title           15957\n",
       "day                 0\n",
       "month               0\n",
       "year                0\n",
       "sentiment           0\n",
       "review_clean        0\n",
       "dtype: int64"
      ]
     },
     "execution_count": 9,
     "metadata": {},
     "output_type": "execute_result"
    }
   ],
   "source": [
    "df.isna().sum() #to check"
   ]
  },
  {
   "cell_type": "markdown",
   "metadata": {},
   "source": [
    "## Taking Samples for Modeling"
   ]
  },
  {
   "cell_type": "markdown",
   "metadata": {},
   "source": [
    "My target is highly unbalanced. To teach my model more about minority class, I will take sample data from each classes balanced."
   ]
  },
  {
   "cell_type": "code",
   "execution_count": 10,
   "metadata": {},
   "outputs": [],
   "source": [
    "def calc_two_sentiment(overall):\n",
    "    '''This function encodes the rating 1 and 2 as 0, others as 1'''\n",
    "    if overall >= 3:\n",
    "        return 1\n",
    "    else:\n",
    "        return 0"
   ]
  },
  {
   "cell_type": "code",
   "execution_count": 11,
   "metadata": {},
   "outputs": [],
   "source": [
    "df['sentiment'] = df['overall'].apply(calc_two_sentiment) # appyling converter to change sentiments from 3 to 2-classed"
   ]
  },
  {
   "cell_type": "code",
   "execution_count": 27,
   "metadata": {},
   "outputs": [
    {
     "data": {
      "text/plain": [
       "1    2031195\n",
       "0     109528\n",
       "Name: sentiment, dtype: int64"
      ]
     },
     "execution_count": 27,
     "metadata": {},
     "output_type": "execute_result"
    }
   ],
   "source": [
    "df['sentiment'].value_counts()"
   ]
  },
  {
   "cell_type": "code",
   "execution_count": 12,
   "metadata": {},
   "outputs": [],
   "source": [
    "df_0 = df.loc[df['sentiment']==0].head(50000)"
   ]
  },
  {
   "cell_type": "code",
   "execution_count": 13,
   "metadata": {},
   "outputs": [],
   "source": [
    "df_1 = df.loc[df['sentiment']==1].head(50000)"
   ]
  },
  {
   "cell_type": "code",
   "execution_count": 14,
   "metadata": {},
   "outputs": [],
   "source": [
    "frames = [df_0, df_1]\n",
    "#getting together samples\n",
    "df_sampled = pd.concat(frames)"
   ]
  },
  {
   "cell_type": "code",
   "execution_count": 15,
   "metadata": {
    "scrolled": false
   },
   "outputs": [
    {
     "data": {
      "text/plain": [
       "1    50000\n",
       "0    50000\n",
       "Name: sentiment, dtype: int64"
      ]
     },
     "execution_count": 15,
     "metadata": {},
     "output_type": "execute_result"
    }
   ],
   "source": [
    "df_sampled['sentiment'].value_counts() #sample classes - balanced chosen"
   ]
  },
  {
   "cell_type": "markdown",
   "metadata": {},
   "source": [
    "# Modeling Functions"
   ]
  },
  {
   "cell_type": "markdown",
   "metadata": {},
   "source": [
    "I will use functions for my modeling and spliting parts because I want to get results easily when I changed something in model."
   ]
  },
  {
   "cell_type": "code",
   "execution_count": 16,
   "metadata": {},
   "outputs": [],
   "source": [
    "def model_split(df) :\n",
    "    '''This function splits data to train and test, then vectorized reviews '''\n",
    "    \n",
    "    # split train-test\n",
    "    X_train, X_test, y_train, y_test = train_test_split(df['review_clean'], \n",
    "                                                        df['sentiment'], test_size=0.2, random_state=42)\n",
    "    print(X_train.shape)\n",
    "    print(X_test.shape)\n",
    "        \n",
    "    # define vectorize and fit to data     \n",
    "    word_vectorizer = TfidfVectorizer(sublinear_tf=True,strip_accents='unicode',\n",
    "        analyzer='word',token_pattern=r'\\w{1,}',stop_words='english',\n",
    "        ngram_range=(1, 1),max_features=10000)\n",
    "\n",
    "    word_vectorizer.fit(df['review_clean'])\n",
    "    \n",
    "    # train - test vectorized features - tranforming to suitable format for modeling\n",
    "    train_word_features = word_vectorizer.transform(X_train) \n",
    "    test_word_features = word_vectorizer.transform(X_test)\n",
    "    \n",
    "    return train_word_features , test_word_features, y_train, y_test \n",
    "\n",
    "def model(df,classifier):\n",
    "    '''this function gives modeling results and confusion matrix also'''\n",
    "    train_word_features,test_word_features,y_train,y_test = model_split(df)\n",
    "    classifier.fit(train_word_features, y_train)\n",
    "    \n",
    "    # calculating results \n",
    "    y_pred_train = classifier.predict(train_word_features)\n",
    "    y_pred = classifier.predict(test_word_features)\n",
    "    \n",
    "    #for smart printing (learned from our lead instructor Bryan Arnold)\n",
    "    print(\"Accuracy:\"); print(\"=\"*len(\"Accuracy:\"))\n",
    "    print(f\"TRAIN: {accuracy_score(y_train, y_pred_train)}\")\n",
    "    print(f\"TEST: {accuracy_score(y_test, y_pred)}\")\n",
    "\n",
    "    print(\"\\nBalanced Accuracy:\"); print(\"=\"*len(\"Balanced Accuracy:\"))\n",
    "    print(f\"TRAIN: {balanced_accuracy_score(y_train, y_pred_train)}\")\n",
    "    print(f\"TEST: {balanced_accuracy_score(y_test, y_pred)}\")\n",
    "    \n",
    "    # plot confusion matrix\n",
    "    cm = confusion_matrix(y_test, y_pred)\n",
    "    plot_confusion_matrix(cm)\n",
    "    plt.show()"
   ]
  },
  {
   "cell_type": "code",
   "execution_count": 33,
   "metadata": {},
   "outputs": [
    {
     "name": "stdout",
     "output_type": "stream",
     "text": [
      "(80000,)\n",
      "(20000,)\n",
      "Accuracy:\n",
      "=========\n",
      "TRAIN: 0.8824875\n",
      "TEST: 0.87025\n",
      "\n",
      "Balanced Accuracy:\n",
      "==================\n",
      "TRAIN: 0.8824932178463699\n",
      "TEST: 0.8702086850563919\n"
     ]
    },
    {
     "data": {
      "image/png": "[encoded data removed]",
      "text/plain": [
       "<Figure size 432x288 with 1 Axes>"
      ]
     },
     "metadata": {
      "needs_background": "light"
     },
     "output_type": "display_data"
    }
   ],
   "source": [
    "# choosing classifier and running model\n",
    "classifier = LogisticRegression(class_weight = \"balanced\", C=0.5, solver='sag')\n",
    "model(df_sampled,classifier)"
   ]
  },
  {
   "cell_type": "markdown",
   "metadata": {},
   "source": [
    "With simple Logreg, I got my baseline model for 2-balanced class data. I do not work on too much this model, because it is my baseline. I will decide after other models. My main concern is this matrix are wrong predictions on 0. I will try to find the best results according to accuracy and true 0 class predictions. "
   ]
  },
  {
   "cell_type": "markdown",
   "metadata": {},
   "source": [
    "### One More Check to See roc-auc Score with Cross-Val"
   ]
  },
  {
   "cell_type": "code",
   "execution_count": 41,
   "metadata": {},
   "outputs": [
    {
     "name": "stdout",
     "output_type": "stream",
     "text": [
      "0.9279297166746745 +/- 0.007239511450023723\n"
     ]
    }
   ],
   "source": [
    "# vectorize data for calculation\n",
    "word_vectorizer = TfidfVectorizer(sublinear_tf=True,strip_accents='unicode',\n",
    "        analyzer='word',token_pattern=r'\\w{1,}',stop_words='english',\n",
    "        ngram_range=(1, 1),max_features=10000)\n",
    "\n",
    "word_vectorizer.fit(df_sampled['review_clean'])\n",
    "    \n",
    "word_features = word_vectorizer.transform(df_sampled['review_clean'])\n",
    "\n",
    "scores = cross_val_score(classifier, word_features, df_sampled['sentiment'], cv=3, scoring='roc_auc')\n",
    "print(scores.mean(), \"+/-\", scores.std())"
   ]
  },
  {
   "cell_type": "markdown",
   "metadata": {},
   "source": [
    "I have pretty good results for baseline."
   ]
  },
  {
   "cell_type": "markdown",
   "metadata": {},
   "source": [
    "# Decision Tree Classifier"
   ]
  },
  {
   "cell_type": "markdown",
   "metadata": {},
   "source": [
    "Decision tree classifier is a supervised classification technique which splits data according to certain parameters continuously."
   ]
  },
  {
   "cell_type": "code",
   "execution_count": 36,
   "metadata": {},
   "outputs": [
    {
     "name": "stdout",
     "output_type": "stream",
     "text": [
      "(80000,)\n",
      "(20000,)\n",
      "Accuracy:\n",
      "=========\n",
      "TRAIN: 0.631475\n",
      "TEST: 0.6291\n",
      "\n",
      "Balanced Accuracy:\n",
      "==================\n",
      "TRAIN: 0.63172354616334\n",
      "TEST: 0.6281000442255418\n"
     ]
    },
    {
     "data": {
      "image/png": "[encoded data removed]",
      "text/plain": [
       "<Figure size 432x288 with 1 Axes>"
      ]
     },
     "metadata": {
      "needs_background": "light"
     },
     "output_type": "display_data"
    }
   ],
   "source": [
    "des_tree = DecisionTreeClassifier(criterion='entropy', max_depth=4, min_samples_leaf=5, \n",
    "                                        random_state=42, class_weight='balanced')\n",
    "model(df_sampled,des_tree)"
   ]
  },
  {
   "cell_type": "markdown",
   "metadata": {},
   "source": [
    "I do not find better results than baseline when I try to tune this model, so I continue to try other models. With simple Logreg, my test accuracy was 87, but this one gives 0.63."
   ]
  },
  {
   "cell_type": "markdown",
   "metadata": {},
   "source": [
    "# Extra-Trees Classifier"
   ]
  },
  {
   "cell_type": "markdown",
   "metadata": {},
   "source": [
    "Extra Trees works like a Random Forest. It builds multiple trees and splits nodes using random subsets of features. There are two main differences it does not samples without replacement, and nodes are split on random splits, not best splits. I also used different parameters and tuned them manually."
   ]
  },
  {
   "cell_type": "code",
   "execution_count": 37,
   "metadata": {},
   "outputs": [
    {
     "name": "stdout",
     "output_type": "stream",
     "text": [
      "(80000,)\n",
      "(20000,)\n",
      "Accuracy:\n",
      "=========\n",
      "TRAIN: 0.7699\n",
      "TEST: 0.7641\n",
      "\n",
      "Balanced Accuracy:\n",
      "==================\n",
      "TRAIN: 0.7698443487870796\n",
      "TEST: 0.7643179628950455\n"
     ]
    },
    {
     "data": {
      "image/png": "[encoded data removed]",
      "text/plain": [
       "<Figure size 432x288 with 1 Axes>"
      ]
     },
     "metadata": {
      "needs_background": "light"
     },
     "output_type": "display_data"
    }
   ],
   "source": [
    "rf_extra = ExtraTreesClassifier(max_depth=5, criterion= 'entropy', min_samples_leaf=3, min_samples_split=18, \n",
    "                          random_state=42, n_estimators = 100, class_weight='balanced', n_jobs = -1)\n",
    "\n",
    "model(df_sampled,rf_extra)"
   ]
  },
  {
   "cell_type": "markdown",
   "metadata": {},
   "source": [
    "I got better than decision tree but not better than baseline."
   ]
  },
  {
   "cell_type": "markdown",
   "metadata": {},
   "source": [
    "# Random Forest Classifier"
   ]
  },
  {
   "cell_type": "markdown",
   "metadata": {},
   "source": [
    "Random forest models can reduce overfitting risk by randomness as building n_estimators, bootstrapping sample and splitting nodes on the best split among a random subset of the features selected at every node and converting non-homogeneous node into best possibles."
   ]
  },
  {
   "cell_type": "code",
   "execution_count": 19,
   "metadata": {},
   "outputs": [
    {
     "name": "stdout",
     "output_type": "stream",
     "text": [
      "(80000,)\n",
      "(20000,)\n",
      "Accuracy:\n",
      "=========\n",
      "TRAIN: 0.99425\n",
      "TEST: 0.85045\n",
      "\n",
      "Balanced Accuracy:\n",
      "==================\n",
      "TRAIN: 0.994250936223373\n",
      "TEST: 0.8503895422718928\n"
     ]
    },
    {
     "data": {
      "image/png": "[encoded data removed]",
      "text/plain": [
       "<Figure size 432x288 with 1 Axes>"
      ]
     },
     "metadata": {
      "needs_background": "light"
     },
     "output_type": "display_data"
    }
   ],
   "source": [
    "rf = RandomForestClassifier(n_estimators=100, random_state=42, n_jobs=-1,class_weight='balanced',\n",
    "                            criterion = 'entropy',max_features = 'sqrt',min_samples_split = 5)\n",
    "model(df_sampled,rf)"
   ]
  },
  {
   "cell_type": "markdown",
   "metadata": {},
   "source": [
    "Random forest give high accuracy but it is overfit. It could not split my target well. I can find best parameters for my model and tune it with grid search. But, it took too much time, so I prefered to changed parameters manually and run for each time. I got the best results with this parameters. There is grid search code below to show how to find best parameters and best score."
   ]
  },
  {
   "cell_type": "code",
   "execution_count": 44,
   "metadata": {},
   "outputs": [],
   "source": [
    "# grid_p = {\"n_estimators\": [20, 50, 100],\n",
    "#           \"criterion\": [\"gini\", \"entropy\"],\n",
    "#           \"max_features\": ['sqrt', 'log2'],\n",
    "#           \"min_samples_split\": [2, 5, 10]}\n",
    "\n",
    "# grid_search = GridSearchCV(rf, grid_p, n_jobs=-1, cv=3, scoring='roc_auc')\n",
    "# grid_search.fit(word_features, df_sampled['sentiment'])"
   ]
  },
  {
   "cell_type": "code",
   "execution_count": null,
   "metadata": {},
   "outputs": [],
   "source": [
    "# grid_search.best_score_"
   ]
  },
  {
   "cell_type": "code",
   "execution_count": null,
   "metadata": {},
   "outputs": [],
   "source": [
    "# best_rf = grid_search.best_estimator_"
   ]
  },
  {
   "cell_type": "markdown",
   "metadata": {},
   "source": [
    "# XGBoost Classifier"
   ]
  },
  {
   "cell_type": "markdown",
   "metadata": {},
   "source": [
    "XGBoost is an efficient and flexiable classifier which implements models with Gradient Boosting. Although, it is very usefull classifier, it can be overfit easily. So, parameter selection is very imporant for XGBoost. I can do grid search also for XGBoost to tune our parameters but it takes too much time. So, I played around our parameters manually and decided the best one."
   ]
  },
  {
   "cell_type": "code",
   "execution_count": 47,
   "metadata": {},
   "outputs": [
    {
     "name": "stdout",
     "output_type": "stream",
     "text": [
      "(80000,)\n",
      "(20000,)\n",
      "Accuracy:\n",
      "=========\n",
      "TRAIN: 0.884125\n",
      "TEST: 0.83025\n",
      "\n",
      "Balanced Accuracy:\n",
      "==================\n",
      "TRAIN: 0.8841447081732923\n",
      "TEST: 0.8301441442657672\n"
     ]
    },
    {
     "data": {
      "image/png": "[encoded data removed]",
      "text/plain": [
       "<Figure size 432x288 with 1 Axes>"
      ]
     },
     "metadata": {
      "needs_background": "light"
     },
     "output_type": "display_data"
    }
   ],
   "source": [
    "xgb = XGBClassifier(objective = 'multi:softmax', booster = 'gbtree', nrounds = 'min.error.idx',\n",
    "                      num_class = 3, maximize = False, eval_metric = 'merror',early_stopping_rounds=10,\n",
    "                        eta = .1,max_depth = 12, colsample_bytree = .4, learning_rate = 0.1,\n",
    "                        max_delta_step=1)\n",
    "model(df_sampled, xgb)"
   ]
  },
  {
   "cell_type": "markdown",
   "metadata": {},
   "source": [
    "It gives good results but not better than baseline. The most important parameters are learning rate, early stopping round, max_depth and max_delta step for my tuning. When I changed them, results significantly changed. So, I set this parameters according to results which I found."
   ]
  },
  {
   "cell_type": "markdown",
   "metadata": {},
   "source": [
    "# LGBM Classifier"
   ]
  },
  {
   "cell_type": "markdown",
   "metadata": {},
   "source": [
    "LGBM also constructs a gradient boosting model. It has some advantages that faster training speed and higher efficiency with lower memory usage. It is capable large data sets with significantly quicker than XGBoost. So, I tried this one also."
   ]
  },
  {
   "cell_type": "code",
   "execution_count": 49,
   "metadata": {},
   "outputs": [
    {
     "name": "stdout",
     "output_type": "stream",
     "text": [
      "(80000,)\n",
      "(20000,)\n",
      "Accuracy:\n",
      "=========\n",
      "TRAIN: 0.8344125\n",
      "TEST: 0.8185\n",
      "\n",
      "Balanced Accuracy:\n",
      "==================\n",
      "TRAIN: 0.8344308904236505\n",
      "TEST: 0.8184018754229739\n"
     ]
    },
    {
     "data": {
      "image/png": "[encoded data removed]",
      "text/plain": [
       "<Figure size 432x288 with 1 Axes>"
      ]
     },
     "metadata": {
      "needs_background": "light"
     },
     "output_type": "display_data"
    }
   ],
   "source": [
    "lgbm = LGBMClassifier(booster = 'gbtree', nrounds = 'min.error.idx', maximize = False,eta = .1,max_depth = 10, \n",
    "                      colsample_bytree = .4,learning_rate = 0.1,max_delta_step=1)\n",
    "model(df_sampled, lgbm)"
   ]
  },
  {
   "cell_type": "markdown",
   "metadata": {},
   "source": [
    "It gives higher than 80% but lower than baseline."
   ]
  },
  {
   "cell_type": "code",
   "execution_count": 18,
   "metadata": {},
   "outputs": [],
   "source": [
    "# to keep results and see in dataframe\n",
    "df_results = pd.DataFrame(columns=[\"Model\", 'train_balanced', 'test_balanced']) # to see all results"
   ]
  },
  {
   "cell_type": "code",
   "execution_count": 20,
   "metadata": {},
   "outputs": [],
   "source": [
    "df_results = df_results.append({       # writing results to df\n",
    "     \"Model\": 'Logreg' ,\n",
    "               'train_balanced' : 0.88,\n",
    "                    'test_balanced' : 0.87}, ignore_index=True)\n",
    "df_results = df_results.append({       # writing results to df\n",
    "     \"Model\": 'Decision Tree' ,\n",
    "               'train_balanced' : 0.63,\n",
    "                    'test_balanced' : 0.63}, ignore_index=True)\n",
    "df_results = df_results.append({       # writing results to df\n",
    "     \"Model\": 'Extra-Tree' ,\n",
    "               'train_balanced' : 0.77,\n",
    "                    'test_balanced' : 0.76}, ignore_index=True)\n",
    "df_results = df_results.append({       # writing results to df\n",
    "     \"Model\": 'Random Forest' ,\n",
    "               'train_balanced' : 0.99,\n",
    "                    'test_balanced' : 0.85}, ignore_index=True)\n",
    "df_results = df_results.append({       # writing results to df\n",
    "     \"Model\": 'XGBM' ,\n",
    "               'train_balanced' : 0.88,\n",
    "                    'test_balanced' : 0.83}, ignore_index=True)\n",
    "df_results = df_results.append({       # writing results to df\n",
    "     \"Model\": 'LGBM' ,\n",
    "               'train_balanced' : 0.83,\n",
    "                    'test_balanced' : 0.81}, ignore_index=True)\n"
   ]
  },
  {
   "cell_type": "code",
   "execution_count": 21,
   "metadata": {},
   "outputs": [
    {
     "data": {
      "text/html": [
       "<div>\n",
       "<style scoped>\n",
       "    .dataframe tbody tr th:only-of-type {\n",
       "        vertical-align: middle;\n",
       "    }\n",
       "\n",
       "    .dataframe tbody tr th {\n",
       "        vertical-align: top;\n",
       "    }\n",
       "\n",
       "    .dataframe thead th {\n",
       "        text-align: right;\n",
       "    }\n",
       "</style>\n",
       "<table border=\"1\" class=\"dataframe\">\n",
       "  <thead>\n",
       "    <tr style=\"text-align: right;\">\n",
       "      <th></th>\n",
       "      <th>Model</th>\n",
       "      <th>train_balanced</th>\n",
       "      <th>test_balanced</th>\n",
       "    </tr>\n",
       "  </thead>\n",
       "  <tbody>\n",
       "    <tr>\n",
       "      <td>0</td>\n",
       "      <td>Logreg</td>\n",
       "      <td>0.88</td>\n",
       "      <td>0.87</td>\n",
       "    </tr>\n",
       "    <tr>\n",
       "      <td>1</td>\n",
       "      <td>Decision Tree</td>\n",
       "      <td>0.63</td>\n",
       "      <td>0.63</td>\n",
       "    </tr>\n",
       "    <tr>\n",
       "      <td>2</td>\n",
       "      <td>Extra-Tree</td>\n",
       "      <td>0.77</td>\n",
       "      <td>0.76</td>\n",
       "    </tr>\n",
       "    <tr>\n",
       "      <td>3</td>\n",
       "      <td>Random Forest</td>\n",
       "      <td>0.99</td>\n",
       "      <td>0.85</td>\n",
       "    </tr>\n",
       "    <tr>\n",
       "      <td>4</td>\n",
       "      <td>XGBM</td>\n",
       "      <td>0.88</td>\n",
       "      <td>0.83</td>\n",
       "    </tr>\n",
       "    <tr>\n",
       "      <td>5</td>\n",
       "      <td>LGBM</td>\n",
       "      <td>0.83</td>\n",
       "      <td>0.81</td>\n",
       "    </tr>\n",
       "  </tbody>\n",
       "</table>\n",
       "</div>"
      ],
      "text/plain": [
       "           Model  train_balanced  test_balanced\n",
       "0         Logreg            0.88           0.87\n",
       "1  Decision Tree            0.63           0.63\n",
       "2     Extra-Tree            0.77           0.76\n",
       "3  Random Forest            0.99           0.85\n",
       "4           XGBM            0.88           0.83\n",
       "5           LGBM            0.83           0.81"
      ]
     },
     "execution_count": 21,
     "metadata": {},
     "output_type": "execute_result"
    }
   ],
   "source": [
    "df_results"
   ]
  },
  {
   "cell_type": "markdown",
   "metadata": {},
   "source": [
    "According to results, my baseline did better than others. I can work on to tune these models and can get better results. But, I would like to try and see how deep learning models will do. So, I drop it here and continue to model with NN."
   ]
  },
  {
   "cell_type": "code",
   "execution_count": 25,
   "metadata": {},
   "outputs": [
    {
     "data": {
      "image/png": "[encoded data removed]",
      "text/plain": [
       "<Figure size 720x432 with 1 Axes>"
      ]
     },
     "metadata": {
      "needs_background": "light"
     },
     "output_type": "display_data"
    }
   ],
   "source": [
    "plt.figure(figsize=(10,6))\n",
    "ax = sns.barplot(x='Model', y= 'test_balanced',data=df_results)"
   ]
  },
  {
   "cell_type": "markdown",
   "metadata": {},
   "source": [
    "# Feature Improvements for This Notebook"
   ]
  },
  {
   "cell_type": "markdown",
   "metadata": {},
   "source": [
    "If I will not get good results with deep learning, the ideas below can be tried; \n",
    "- Gradient boost models can be tuned.\n",
    "- Grid search can be done.\n",
    "- I can come back to text column and do deeper analysis and cleaning and feature engineering."
   ]
  }
 ],
 "metadata": {
  "kernelspec": {
   "display_name": "Python 3",
   "language": "python",
   "name": "python3"
  },
  "language_info": {
   "codemirror_mode": {
    "name": "ipython",
    "version": 3
   },
   "file_extension": ".py",
   "mimetype": "text/x-python",
   "name": "python",
   "nbconvert_exporter": "python",
   "pygments_lexer": "ipython3",
   "version": "3.6.9"
  }
 },
 "nbformat": 4,
 "nbformat_minor": 2
}
