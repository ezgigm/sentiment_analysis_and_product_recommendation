{
 "cells": [
  {
   "cell_type": "markdown",
   "metadata": {
    "colab_type": "text",
    "id": "RXWbEMlvhAtS"
   },
   "source": [
    "# Modeling with Pre-trained BERT"
   ]
  },
  {
   "cell_type": "markdown",
   "metadata": {
    "colab_type": "text",
    "id": "RvD2wq8HhAtT"
   },
   "source": [
    "In this notebook, my aim is to try pre-trained model (BERT) to figure out how results will change when I use pre-trained model. \n",
    "\n",
    "BERT (Bidirectional Encoder Representations from Transformers) is a model which released in late 2018 for transfer learning in NLP. Advantages of pre-trained BERT;\n",
    "\n",
    "- Model already has a lot of information so less time needs to tune model.\n",
    "- It is already pre-trained so less data is needed to train the model.\n",
    "- Because of simple fine-tuning procedure, it generally gives better results.\n",
    "\n",
    "To get my results more quickly, I used Google Colab in this model with offered free GPU. \n",
    "\n",
    "To learn how to use BERT, I used the tutorial below,\n",
    "\n",
    "http://mccormickml.com/2019/07/22/BERT-fine-tuning/\n"
   ]
  },
  {
   "cell_type": "code",
   "execution_count": 3,
   "metadata": {
    "colab": {
     "base_uri": "https://localhost:8080/",
     "height": 34
    },
    "colab_type": "code",
    "id": "brprw0cBT-2C",
    "outputId": "cec944de-154f-4e13-f9bd-63a819e6abc1"
   },
   "outputs": [
    {
     "name": "stdout",
     "output_type": "stream",
     "text": [
      "Found GPU at: /device:GPU:0\n"
     ]
    }
   ],
   "source": [
    "import tensorflow as tf\n",
    "\n",
    "# find the exact GPU name and assign it to this notebook\n",
    "device_name = tf.test.gpu_device_name()\n",
    "\n",
    "# To check the device name is found like below\n",
    "if device_name == '/device:GPU:0':\n",
    "    print('Found GPU at: {}'.format(device_name))\n",
    "else:\n",
    "    raise SystemError('GPU device not found')"
   ]
  },
  {
   "cell_type": "code",
   "execution_count": 4,
   "metadata": {
    "colab": {
     "base_uri": "https://localhost:8080/",
     "height": 51
    },
    "colab_type": "code",
    "id": "IAZGL6_fUFNq",
    "outputId": "a02786d6-9526-4f26-a93a-39ebcc91b5cb"
   },
   "outputs": [
    {
     "name": "stdout",
     "output_type": "stream",
     "text": [
      "There are 1 GPU(s) available.\n",
      "We will use the GPU: Tesla P100-PCIE-16GB\n"
     ]
    }
   ],
   "source": [
    "import torch\n",
    "\n",
    "# If GPU is available setting to use this\n",
    "if torch.cuda.is_available():    \n",
    "\n",
    "    # Setting the PyTorch to use GPU as memory\n",
    "    device = torch.device(\"cuda\")\n",
    "\n",
    "    print('There are %d GPU(s) available.' % torch.cuda.device_count())\n",
    "\n",
    "    print('We will use the GPU:', torch.cuda.get_device_name(0))\n",
    "\n",
    "# To check is GPU is not found\n",
    "else:\n",
    "    print('No GPU available, using the CPU instead.')\n",
    "    device = torch.device(\"cpu\")"
   ]
  },
  {
   "cell_type": "markdown",
   "metadata": {
    "colab_type": "text",
    "id": "VfZE4yyihAte"
   },
   "source": [
    "Now, I have to download transformers package because BERT can be used with it. Transformers library contains PyTorch and Tensorflow implementations, pre-trained model weights, usage scripts and conversion utilities for more than 10 different models, details can be found [here](https://huggingface.co/transformers/)."
   ]
  },
  {
   "cell_type": "code",
   "execution_count": 1,
   "metadata": {
    "colab": {
     "base_uri": "https://localhost:8080/",
     "height": 581
    },
    "colab_type": "code",
    "id": "-N6J8qsxUyKO",
    "outputId": "f2501329-2c4a-4517-f3e8-e06ec24035e4"
   },
   "outputs": [],
   "source": [
    "#  !pip install transformers "
   ]
  },
  {
   "cell_type": "code",
   "execution_count": 6,
   "metadata": {
    "colab": {
     "base_uri": "https://localhost:8080/",
     "height": 34
    },
    "colab_type": "code",
    "id": "AMHulqdGhAtj",
    "outputId": "c629ef95-5e7f-4cab-8cd6-eee4c62c8cfb"
   },
   "outputs": [
    {
     "name": "stderr",
     "output_type": "stream",
     "text": [
      "Using TensorFlow backend.\n"
     ]
    }
   ],
   "source": [
    "# to use pandas dataframe\n",
    "import pandas as pd \n",
    "import numpy as np\n",
    "\n",
    "# for modeling and evaluation\n",
    "from transformers import BertTokenizer\n",
    "from transformers import BertForSequenceClassification, AdamW, BertConfig\n",
    "from transformers import get_linear_schedule_with_warmup\n",
    "from keras.preprocessing.sequence import pad_sequences\n",
    "from sklearn.model_selection import train_test_split\n",
    "from torch.utils.data import TensorDataset, DataLoader, RandomSampler, SequentialSampler\n",
    "import random\n",
    "\n",
    "import time\n",
    "import datetime\n",
    "\n",
    "# to plot\n",
    "import matplotlib.pyplot as plt\n",
    "% matplotlib inline\n",
    "import seaborn as sns"
   ]
  },
  {
   "cell_type": "markdown",
   "metadata": {
    "colab_type": "text",
    "id": "vU_reKedhAtm"
   },
   "source": [
    "To download my data to Google Colab, I need to connect Colab with my Drive. So, I used the cell below and put the confirmation code to this cell."
   ]
  },
  {
   "cell_type": "code",
   "execution_count": 2,
   "metadata": {
    "colab": {
     "base_uri": "https://localhost:8080/",
     "height": 122
    },
    "colab_type": "code",
    "id": "jVbeyyADWb9E",
    "outputId": "76b41a65-9c73-4074-8613-9766b4c114c6"
   },
   "outputs": [],
   "source": [
    "# from google.colab import drive\n",
    "# drive.mount('/content/drive')"
   ]
  },
  {
   "cell_type": "code",
   "execution_count": 0,
   "metadata": {
    "colab": {},
    "colab_type": "code",
    "id": "QrgHKJkuViFo"
   },
   "outputs": [],
   "source": [
    "# taking data to df from Google Drive\n",
    "path = '/content/drive/My Drive/train/train.csv'\n",
    "df = pd.read_csv(path)"
   ]
  },
  {
   "cell_type": "code",
   "execution_count": 11,
   "metadata": {
    "colab": {
     "base_uri": "https://localhost:8080/",
     "height": 68
    },
    "colab_type": "code",
    "id": "cDaK2F8IXob8",
    "outputId": "c9bd8c0f-cdd2-4fbf-abcc-277283e438e7",
    "scrolled": true
   },
   "outputs": [
    {
     "data": {
      "text/plain": [
       "review_clean    0\n",
       "sentiment       0\n",
       "dtype: int64"
      ]
     },
     "execution_count": 11,
     "metadata": {
      "tags": []
     },
     "output_type": "execute_result"
    }
   ],
   "source": [
    "df.isna().sum() # to check the null values"
   ]
  },
  {
   "cell_type": "code",
   "execution_count": 0,
   "metadata": {
    "colab": {},
    "colab_type": "code",
    "id": "z1wXnrg8hzNz"
   },
   "outputs": [],
   "source": [
    "# df.dropna(inplace=True) # if null is available"
   ]
  },
  {
   "cell_type": "markdown",
   "metadata": {
    "colab_type": "text",
    "id": "SHWPl46ChAtx"
   },
   "source": [
    "Now, I will assign my text and target values to lists to prepare them to model. "
   ]
  },
  {
   "cell_type": "code",
   "execution_count": 0,
   "metadata": {
    "colab": {},
    "colab_type": "code",
    "id": "ZSYeOlrUX74v"
   },
   "outputs": [],
   "source": [
    "text = df['review_clean'].values"
   ]
  },
  {
   "cell_type": "code",
   "execution_count": 0,
   "metadata": {
    "colab": {},
    "colab_type": "code",
    "id": "t_TCmxQIYUV2"
   },
   "outputs": [],
   "source": [
    "target = df['sentiment'].values"
   ]
  },
  {
   "cell_type": "markdown",
   "metadata": {
    "colab_type": "text",
    "id": "ff9IRAKshAt2"
   },
   "source": [
    "I have to split my text to tokens to feed it to BERT. I also set lower case True, just in case because I have already preprocessed lower-case before. "
   ]
  },
  {
   "cell_type": "code",
   "execution_count": 14,
   "metadata": {
    "colab": {
     "base_uri": "https://localhost:8080/",
     "height": 66,
     "referenced_widgets": [
      "1221df09c2cd4c969db6546b76504886",
      "ce69c8b1cbbf4ced800784099cd54c3e",
      "6ed090fbe52c47f2b3038d48b05f9d0f",
      "4388cda8b677438f8e89e1c9c4a386b7",
      "ed9f67484fe747b0bab16c18b34e69b9",
      "1b4bbefd5982432fbf1cbe5b62ef6046",
      "178db16194c04743a79c3c4144b658e5",
      "2d1b451e4d4d46d78a463e18b9c87ae3"
     ]
    },
    "colab_type": "code",
    "id": "mzSyvFA5YYZp",
    "outputId": "e28c49fd-778b-447d-9e1a-fac7847a3301"
   },
   "outputs": [
    {
     "data": {
      "application/vnd.jupyter.widget-view+json": {
       "model_id": "1221df09c2cd4c969db6546b76504886",
       "version_major": 2,
       "version_minor": 0
      },
      "text/plain": [
       "HBox(children=(FloatProgress(value=0.0, description='Downloading', max=231508.0, style=ProgressStyle(descripti…"
      ]
     },
     "metadata": {
      "tags": []
     },
     "output_type": "display_data"
    },
    {
     "name": "stdout",
     "output_type": "stream",
     "text": [
      "\n"
     ]
    }
   ],
   "source": [
    "# using Bert-Tokenizer to tokenize text \n",
    "tokenizer = BertTokenizer.from_pretrained('bert-base-uncased', do_lower_case=True)"
   ]
  },
  {
   "cell_type": "markdown",
   "metadata": {
    "colab_type": "text",
    "id": "0qmhhE-phAt5"
   },
   "source": [
    "Now, I will try tokenizer firstly to first text of my data to check and see the results."
   ]
  },
  {
   "cell_type": "code",
   "execution_count": 15,
   "metadata": {
    "colab": {
     "base_uri": "https://localhost:8080/",
     "height": 173
    },
    "colab_type": "code",
    "id": "UAytA7woYd-F",
    "outputId": "8d81eefc-64e5-41fa-aea2-2a7414c3352a"
   },
   "outputs": [
    {
     "name": "stdout",
     "output_type": "stream",
     "text": [
      " Original:  this is a cute little book that is fairly short and easy to read this author fell in love with a silver camper bought it refurbished it and off she went to camp for six months those six months turned into a trip of a life time and a move across the country by the time it was over\n",
      "\n",
      "i give it a little bit lower score than others because i didnt find it laugh out loud hilarious it was funny in a cute way and for someone who owns a camper and goes camping often much of this book is right on target about how not to  and it was right on target about life in a campground\n",
      "\n",
      "overall this is an enjoyable book it is cute and clever it is not a long read and it is right on target in many ways \n",
      "enjoy\n",
      "Tokenized:  ['this', 'is', 'a', 'cute', 'little', 'book', 'that', 'is', 'fairly', 'short', 'and', 'easy', 'to', 'read', 'this', 'author', 'fell', 'in', 'love', 'with', 'a', 'silver', 'camp', '##er', 'bought', 'it', 'refurbished', 'it', 'and', 'off', 'she', 'went', 'to', 'camp', 'for', 'six', 'months', 'those', 'six', 'months', 'turned', 'into', 'a', 'trip', 'of', 'a', 'life', 'time', 'and', 'a', 'move', 'across', 'the', 'country', 'by', 'the', 'time', 'it', 'was', 'over', 'i', 'give', 'it', 'a', 'little', 'bit', 'lower', 'score', 'than', 'others', 'because', 'i', 'didn', '##t', 'find', 'it', 'laugh', 'out', 'loud', 'hilarious', 'it', 'was', 'funny', 'in', 'a', 'cute', 'way', 'and', 'for', 'someone', 'who', 'owns', 'a', 'camp', '##er', 'and', 'goes', 'camping', 'often', 'much', 'of', 'this', 'book', 'is', 'right', 'on', 'target', 'about', 'how', 'not', 'to', 'and', 'it', 'was', 'right', 'on', 'target', 'about', 'life', 'in', 'a', 'campground', 'overall', 'this', 'is', 'an', 'enjoyable', 'book', 'it', 'is', 'cute', 'and', 'clever', 'it', 'is', 'not', 'a', 'long', 'read', 'and', 'it', 'is', 'right', 'on', 'target', 'in', 'many', 'ways', 'enjoy']\n",
      "Token IDs:  [2023, 2003, 1037, 10140, 2210, 2338, 2008, 2003, 7199, 2460, 1998, 3733, 2000, 3191, 2023, 3166, 3062, 1999, 2293, 2007, 1037, 3165, 3409, 2121, 4149, 2009, 18662, 2009, 1998, 2125, 2016, 2253, 2000, 3409, 2005, 2416, 2706, 2216, 2416, 2706, 2357, 2046, 1037, 4440, 1997, 1037, 2166, 2051, 1998, 1037, 2693, 2408, 1996, 2406, 2011, 1996, 2051, 2009, 2001, 2058, 1045, 2507, 2009, 1037, 2210, 2978, 2896, 3556, 2084, 2500, 2138, 1045, 2134, 2102, 2424, 2009, 4756, 2041, 5189, 26316, 2009, 2001, 6057, 1999, 1037, 10140, 2126, 1998, 2005, 2619, 2040, 8617, 1037, 3409, 2121, 1998, 3632, 13215, 2411, 2172, 1997, 2023, 2338, 2003, 2157, 2006, 4539, 2055, 2129, 2025, 2000, 1998, 2009, 2001, 2157, 2006, 4539, 2055, 2166, 1999, 1037, 29144, 3452, 2023, 2003, 2019, 22249, 2338, 2009, 2003, 10140, 1998, 12266, 2009, 2003, 2025, 1037, 2146, 3191, 1998, 2009, 2003, 2157, 2006, 4539, 1999, 2116, 3971, 5959]\n"
     ]
    }
   ],
   "source": [
    "# to see the original text\n",
    "print(' Original: ', text[0])\n",
    "\n",
    "# to see the tokenized text\n",
    "print('Tokenized: ', tokenizer.tokenize(text[0]))\n",
    "\n",
    "# to see the token ids of text\n",
    "print('Token IDs: ', tokenizer.convert_tokens_to_ids(tokenizer.tokenize(text[0])))"
   ]
  },
  {
   "cell_type": "markdown",
   "metadata": {
    "colab_type": "text",
    "id": "ht02twZ0hAt8"
   },
   "source": [
    "Now, I am sure my tokenizer is working and I will apply it to whole rows. In addition to this, BERT needs special formatting such as it needs special tokens at the end of the each text and at the begining of the each text. To prepare my text to BERT, I will do some preprocessing. "
   ]
  },
  {
   "cell_type": "markdown",
   "metadata": {
    "colab_type": "text",
    "id": "syEQwPm-hAt9"
   },
   "source": [
    "# Pre-processing Text for BERT Formating"
   ]
  },
  {
   "cell_type": "markdown",
   "metadata": {
    "colab_type": "text",
    "id": "2AhjjLAwhAt9"
   },
   "source": [
    "In this step;\n",
    "\n",
    "- I will add special tokens to the begining and at the end of each text. At the end of the each text, I have to add [SEP] token. Also, [CLS] token will be added to begining of the each sentence for classification problems. \n",
    "- I will set all texts to a single constant length. For BERT, all texts must be padded to fixed lenght and it can be 512 token maximum. Padding is doing with [PAD] token, which is indexed as 0 in BERT vocabulary. If the tokens of the text is less than maximum token number [PAD] token assigns after the [SEP] token until reaching maximum token number. Also, attention mask value for these [PAD] tokens are 0. Because, if the token is padding, attention mask is 1, if not it is 0. In this notebook, I tried both 512 and 128 max lenght tokens. Training and evaluations of 512 took 2 times more than 128 and the results were not significantly different. So, I advice to set 128, if somebody wants to run this notebook with same data. The handycap of setting max length to 512 is that for my data, I also have some texts which are longer than 512, but when I checked their number, I found them not too much. So I assume that if I set the lenght to 512, I will not lose too much information. This is one of the weekest points of BERT, it allows maximum 512 tokens.\n",
    "- I will map tokens to their corresponding ids.\n",
    "\n",
    "To begin these steps, I will use .encode tool of BertTokenizer."
   ]
  },
  {
   "cell_type": "code",
   "execution_count": 16,
   "metadata": {
    "colab": {
     "base_uri": "https://localhost:8080/",
     "height": 156
    },
    "colab_type": "code",
    "id": "9Vm0MhHKYkIa",
    "outputId": "67c776bf-c022-40c1-c4cb-e010994f6dfe"
   },
   "outputs": [
    {
     "name": "stdout",
     "output_type": "stream",
     "text": [
      "Original:  this is a cute little book that is fairly short and easy to read this author fell in love with a silver camper bought it refurbished it and off she went to camp for six months those six months turned into a trip of a life time and a move across the country by the time it was over\n",
      "\n",
      "i give it a little bit lower score than others because i didnt find it laugh out loud hilarious it was funny in a cute way and for someone who owns a camper and goes camping often much of this book is right on target about how not to  and it was right on target about life in a campground\n",
      "\n",
      "overall this is an enjoyable book it is cute and clever it is not a long read and it is right on target in many ways \n",
      "enjoy\n",
      "Token IDs: [101, 2023, 2003, 1037, 10140, 2210, 2338, 2008, 2003, 7199, 2460, 1998, 3733, 2000, 3191, 2023, 3166, 3062, 1999, 2293, 2007, 1037, 3165, 3409, 2121, 4149, 2009, 18662, 2009, 1998, 2125, 2016, 2253, 2000, 3409, 2005, 2416, 2706, 2216, 2416, 2706, 2357, 2046, 1037, 4440, 1997, 1037, 2166, 2051, 1998, 1037, 2693, 2408, 1996, 2406, 2011, 1996, 2051, 2009, 2001, 2058, 1045, 2507, 2009, 1037, 2210, 2978, 2896, 3556, 2084, 2500, 2138, 1045, 2134, 2102, 2424, 2009, 4756, 2041, 5189, 26316, 2009, 2001, 6057, 1999, 1037, 10140, 2126, 1998, 2005, 2619, 2040, 8617, 1037, 3409, 2121, 1998, 3632, 13215, 2411, 2172, 1997, 2023, 2338, 2003, 2157, 2006, 4539, 2055, 2129, 2025, 2000, 1998, 2009, 2001, 2157, 2006, 4539, 2055, 2166, 1999, 1037, 29144, 3452, 2023, 2003, 2019, 102]\n"
     ]
    }
   ],
   "source": [
    "# To tokenize texts and map the tokens to corresponding IDs\n",
    "input_ids = [] # creating empty list to keep input ids\n",
    "\n",
    "# Loop for each element in text\n",
    "for element in text:\n",
    "\n",
    "    encoded_text = tokenizer.encode(element,add_special_tokens = True, # Add '[CLS]' and '[SEP]'\n",
    "                                         max_length = 128)  # setting all sentences to max_len\n",
    "                                \n",
    "    # firstly I tried it for 512 and I tried for 128, last trial belongs to 128 so values are for 128\n",
    "    # there were no significant difference between 128 or 512 \n",
    "    \n",
    "    # keeping encoded texts as list\n",
    "    input_ids.append(encoded_text)\n",
    "\n",
    "# printing to check\n",
    "print('Original: ', text[0])\n",
    "print('Token IDs:', input_ids[0])"
   ]
  },
  {
   "cell_type": "markdown",
   "metadata": {
    "colab_type": "text",
    "id": "mjnH0kL3hAuA"
   },
   "source": [
    "For padding part, I will use pad_sequences function from keras.preprocessing.sequence library."
   ]
  },
  {
   "cell_type": "code",
   "execution_count": 17,
   "metadata": {
    "colab": {
     "base_uri": "https://localhost:8080/",
     "height": 119
    },
    "colab_type": "code",
    "id": "Cp9BPRd1tMIo",
    "outputId": "473ddeb0-569f-477f-e2f6-54098f69bff0"
   },
   "outputs": [
    {
     "name": "stdout",
     "output_type": "stream",
     "text": [
      "\n",
      "Padding/truncating all sentences to 128 values...\n",
      "\n",
      "Padding token: \"[PAD]\", ID: 0\n",
      "\n",
      "Done.\n"
     ]
    }
   ],
   "source": [
    "max_length = 128 # for 512, I set it to 512\n",
    "\n",
    "print(f'\\nPadding/truncating all sentences to {max_length} values...')\n",
    "\n",
    "print(f'\\nPadding token: \"{tokenizer.pad_token}\", ID: {tokenizer.pad_token_id}')\n",
    "\n",
    "# pad sequence function for pad tokens and assign zeros for shorter than max lenght\n",
    "input_ids = pad_sequences(input_ids, maxlen=max_length, dtype=\"long\", \n",
    "                          value=0, truncating=\"post\", padding=\"post\")\n",
    "\n",
    "print('\\nDone.')"
   ]
  },
  {
   "cell_type": "code",
   "execution_count": 0,
   "metadata": {
    "colab": {},
    "colab_type": "code",
    "id": "7ojtKhuPatXT"
   },
   "outputs": [],
   "source": [
    "# To keep attention masks\n",
    "attention_masks = []\n",
    "\n",
    "# Loop for each element in inputs\n",
    "for element in input_ids:\n",
    "    \n",
    "    #   I assigned the empty tokens to 0 in above cell so if token is 0, setting the mask zero\n",
    "    #   If token is larger than zero it means it is real token ID and set it to 1\n",
    "    att_mask = [int(token_id > 0) for token_id in element]\n",
    "    \n",
    "    # keeping attention masks\n",
    "    attention_masks.append(att_mask)"
   ]
  },
  {
   "cell_type": "markdown",
   "metadata": {
    "colab_type": "text",
    "id": "jheo34PRhAuG"
   },
   "source": [
    "Now, I have to split my data for validation. I choose same random state and test size to compare my results with previous models."
   ]
  },
  {
   "cell_type": "code",
   "execution_count": 0,
   "metadata": {
    "colab": {},
    "colab_type": "code",
    "id": "F92-y3sJawbO"
   },
   "outputs": [],
   "source": [
    "train_inputs, validation_inputs, train_labels, validation_labels = train_test_split(input_ids, target, \n",
    "                                                            random_state=42, test_size=0.2)\n",
    "# Splitting masks also with same parameters\n",
    "train_masks, validation_masks, _, _ = train_test_split(attention_masks, target,\n",
    "                                             random_state=42, test_size=0.2)"
   ]
  },
  {
   "cell_type": "markdown",
   "metadata": {
    "colab_type": "text",
    "id": "aE2LGnDEhAuN"
   },
   "source": [
    "I will concert all inputs and targets to torch tensors, it is required datatype for BERT."
   ]
  },
  {
   "cell_type": "code",
   "execution_count": 0,
   "metadata": {
    "colab": {},
    "colab_type": "code",
    "id": "mdQSuZ94a7f2"
   },
   "outputs": [],
   "source": [
    "# for inputs\n",
    "train_inputs = torch.tensor(train_inputs)\n",
    "validation_inputs = torch.tensor(validation_inputs)\n",
    "\n",
    "# for target values\n",
    "train_labels = torch.tensor(train_labels)\n",
    "validation_labels = torch.tensor(validation_labels)\n",
    "\n",
    "# for masks\n",
    "train_masks = torch.tensor(train_masks)\n",
    "validation_masks = torch.tensor(validation_masks)"
   ]
  },
  {
   "cell_type": "code",
   "execution_count": 0,
   "metadata": {
    "colab": {},
    "colab_type": "code",
    "id": "8m5nE_wKbSCA"
   },
   "outputs": [],
   "source": [
    "batch_size = 32 # in tutorial it is recommended that to set 16 or 32. I choose 32 for more batches\n",
    "\n",
    "# creating dataloader for train set\n",
    "train_data = TensorDataset(train_inputs, train_masks, train_labels)\n",
    "train_sampler = RandomSampler(train_data)\n",
    "train_dataloader = DataLoader(train_data, sampler=train_sampler, batch_size=32)\n",
    "\n",
    "# creating dataloader for validation set\n",
    "validation_data = TensorDataset(validation_inputs, validation_masks, validation_labels)\n",
    "validation_sampler = SequentialSampler(validation_data)\n",
    "validation_dataloader = DataLoader(validation_data, sampler=validation_sampler, batch_size=32)"
   ]
  },
  {
   "cell_type": "markdown",
   "metadata": {
    "colab_type": "text",
    "id": "sDJcTsahhAuS"
   },
   "source": [
    "# Pre-trained Model "
   ]
  },
  {
   "cell_type": "markdown",
   "metadata": {
    "colab_type": "text",
    "id": "Hz6vz6SAhAuT"
   },
   "source": [
    "I have formatted data for BERT, so I wil begin fine tuning of BERT. BERT has many classes for fine tuning, such as BertModel, BertForNextSentencePrediction etc. In this notebook, I will use BertForSequenceClassification. This is the simple BERT model with an added single layer on top for classification. There are different pre-trained BERT models. “bert-base-uncased” is the version that has only lowercase letters (“uncased”) and is the smaller version of the two (“base” vs “large”)."
   ]
  },
  {
   "cell_type": "code",
   "execution_count": 22,
   "metadata": {
    "colab": {
     "base_uri": "https://localhost:8080/",
     "height": 1000,
     "referenced_widgets": [
      "abbc04b4375e44a29d4e4b72e0a17ddc",
      "4ae10cc6fe9a46a88c52ad56a93f80be",
      "6a309c31776c490cba4e1a6b50a00310",
      "ef904c4376514ea19c43d9c5bf00fc48",
      "d41bf1f7e9c84326a417a039ba18b051",
      "d21cffd4fe2f4b23b33660171258f1b3",
      "a87b027c20344c588c9f24797b6c5196",
      "71e8d4bceb874a6393ded5c0dd1bc623",
      "231c99254ea64e2cbf7a301b42f48da8",
      "218e8495c5374aeb944dcc4be1676b08",
      "a65cbda0a4264b9bb05fbfe68dbc1b50",
      "210c1900677048aca380294fc94182f7",
      "46a011e796e241c6807b48cdfed0ccd1",
      "ee5121d2e2aa44fd83be75842ce1d288",
      "660cfc5586714404b7c0dfe74f05b5e9",
      "c86995273de742f29382438b10f1868b"
     ]
    },
    "colab_type": "code",
    "id": "KwAKvngYbYSB",
    "outputId": "be123fe1-7244-4158-dacc-eb4c1d02c45d"
   },
   "outputs": [
    {
     "data": {
      "application/vnd.jupyter.widget-view+json": {
       "model_id": "abbc04b4375e44a29d4e4b72e0a17ddc",
       "version_major": 2,
       "version_minor": 0
      },
      "text/plain": [
       "HBox(children=(FloatProgress(value=0.0, description='Downloading', max=433.0, style=ProgressStyle(description_…"
      ]
     },
     "metadata": {
      "tags": []
     },
     "output_type": "display_data"
    },
    {
     "name": "stdout",
     "output_type": "stream",
     "text": [
      "\n"
     ]
    },
    {
     "data": {
      "application/vnd.jupyter.widget-view+json": {
       "model_id": "231c99254ea64e2cbf7a301b42f48da8",
       "version_major": 2,
       "version_minor": 0
      },
      "text/plain": [
       "HBox(children=(FloatProgress(value=0.0, description='Downloading', max=440473133.0, style=ProgressStyle(descri…"
      ]
     },
     "metadata": {
      "tags": []
     },
     "output_type": "display_data"
    },
    {
     "name": "stdout",
     "output_type": "stream",
     "text": [
      "\n"
     ]
    },
    {
     "data": {
      "text/plain": [
       "BertForSequenceClassification(\n",
       "  (bert): BertModel(\n",
       "    (embeddings): BertEmbeddings(\n",
       "      (word_embeddings): Embedding(30522, 768, padding_idx=0)\n",
       "      (position_embeddings): Embedding(512, 768)\n",
       "      (token_type_embeddings): Embedding(2, 768)\n",
       "      (LayerNorm): LayerNorm((768,), eps=1e-12, elementwise_affine=True)\n",
       "      (dropout): Dropout(p=0.1, inplace=False)\n",
       "    )\n",
       "    (encoder): BertEncoder(\n",
       "      (layer): ModuleList(\n",
       "        (0): BertLayer(\n",
       "          (attention): BertAttention(\n",
       "            (self): BertSelfAttention(\n",
       "              (query): Linear(in_features=768, out_features=768, bias=True)\n",
       "              (key): Linear(in_features=768, out_features=768, bias=True)\n",
       "              (value): Linear(in_features=768, out_features=768, bias=True)\n",
       "              (dropout): Dropout(p=0.1, inplace=False)\n",
       "            )\n",
       "            (output): BertSelfOutput(\n",
       "              (dense): Linear(in_features=768, out_features=768, bias=True)\n",
       "              (LayerNorm): LayerNorm((768,), eps=1e-12, elementwise_affine=True)\n",
       "              (dropout): Dropout(p=0.1, inplace=False)\n",
       "            )\n",
       "          )\n",
       "          (intermediate): BertIntermediate(\n",
       "            (dense): Linear(in_features=768, out_features=3072, bias=True)\n",
       "          )\n",
       "          (output): BertOutput(\n",
       "            (dense): Linear(in_features=3072, out_features=768, bias=True)\n",
       "            (LayerNorm): LayerNorm((768,), eps=1e-12, elementwise_affine=True)\n",
       "            (dropout): Dropout(p=0.1, inplace=False)\n",
       "          )\n",
       "        )\n",
       "        (1): BertLayer(\n",
       "          (attention): BertAttention(\n",
       "            (self): BertSelfAttention(\n",
       "              (query): Linear(in_features=768, out_features=768, bias=True)\n",
       "              (key): Linear(in_features=768, out_features=768, bias=True)\n",
       "              (value): Linear(in_features=768, out_features=768, bias=True)\n",
       "              (dropout): Dropout(p=0.1, inplace=False)\n",
       "            )\n",
       "            (output): BertSelfOutput(\n",
       "              (dense): Linear(in_features=768, out_features=768, bias=True)\n",
       "              (LayerNorm): LayerNorm((768,), eps=1e-12, elementwise_affine=True)\n",
       "              (dropout): Dropout(p=0.1, inplace=False)\n",
       "            )\n",
       "          )\n",
       "          (intermediate): BertIntermediate(\n",
       "            (dense): Linear(in_features=768, out_features=3072, bias=True)\n",
       "          )\n",
       "          (output): BertOutput(\n",
       "            (dense): Linear(in_features=3072, out_features=768, bias=True)\n",
       "            (LayerNorm): LayerNorm((768,), eps=1e-12, elementwise_affine=True)\n",
       "            (dropout): Dropout(p=0.1, inplace=False)\n",
       "          )\n",
       "        )\n",
       "        (2): BertLayer(\n",
       "          (attention): BertAttention(\n",
       "            (self): BertSelfAttention(\n",
       "              (query): Linear(in_features=768, out_features=768, bias=True)\n",
       "              (key): Linear(in_features=768, out_features=768, bias=True)\n",
       "              (value): Linear(in_features=768, out_features=768, bias=True)\n",
       "              (dropout): Dropout(p=0.1, inplace=False)\n",
       "            )\n",
       "            (output): BertSelfOutput(\n",
       "              (dense): Linear(in_features=768, out_features=768, bias=True)\n",
       "              (LayerNorm): LayerNorm((768,), eps=1e-12, elementwise_affine=True)\n",
       "              (dropout): Dropout(p=0.1, inplace=False)\n",
       "            )\n",
       "          )\n",
       "          (intermediate): BertIntermediate(\n",
       "            (dense): Linear(in_features=768, out_features=3072, bias=True)\n",
       "          )\n",
       "          (output): BertOutput(\n",
       "            (dense): Linear(in_features=3072, out_features=768, bias=True)\n",
       "            (LayerNorm): LayerNorm((768,), eps=1e-12, elementwise_affine=True)\n",
       "            (dropout): Dropout(p=0.1, inplace=False)\n",
       "          )\n",
       "        )\n",
       "        (3): BertLayer(\n",
       "          (attention): BertAttention(\n",
       "            (self): BertSelfAttention(\n",
       "              (query): Linear(in_features=768, out_features=768, bias=True)\n",
       "              (key): Linear(in_features=768, out_features=768, bias=True)\n",
       "              (value): Linear(in_features=768, out_features=768, bias=True)\n",
       "              (dropout): Dropout(p=0.1, inplace=False)\n",
       "            )\n",
       "            (output): BertSelfOutput(\n",
       "              (dense): Linear(in_features=768, out_features=768, bias=True)\n",
       "              (LayerNorm): LayerNorm((768,), eps=1e-12, elementwise_affine=True)\n",
       "              (dropout): Dropout(p=0.1, inplace=False)\n",
       "            )\n",
       "          )\n",
       "          (intermediate): BertIntermediate(\n",
       "            (dense): Linear(in_features=768, out_features=3072, bias=True)\n",
       "          )\n",
       "          (output): BertOutput(\n",
       "            (dense): Linear(in_features=3072, out_features=768, bias=True)\n",
       "            (LayerNorm): LayerNorm((768,), eps=1e-12, elementwise_affine=True)\n",
       "            (dropout): Dropout(p=0.1, inplace=False)\n",
       "          )\n",
       "        )\n",
       "        (4): BertLayer(\n",
       "          (attention): BertAttention(\n",
       "            (self): BertSelfAttention(\n",
       "              (query): Linear(in_features=768, out_features=768, bias=True)\n",
       "              (key): Linear(in_features=768, out_features=768, bias=True)\n",
       "              (value): Linear(in_features=768, out_features=768, bias=True)\n",
       "              (dropout): Dropout(p=0.1, inplace=False)\n",
       "            )\n",
       "            (output): BertSelfOutput(\n",
       "              (dense): Linear(in_features=768, out_features=768, bias=True)\n",
       "              (LayerNorm): LayerNorm((768,), eps=1e-12, elementwise_affine=True)\n",
       "              (dropout): Dropout(p=0.1, inplace=False)\n",
       "            )\n",
       "          )\n",
       "          (intermediate): BertIntermediate(\n",
       "            (dense): Linear(in_features=768, out_features=3072, bias=True)\n",
       "          )\n",
       "          (output): BertOutput(\n",
       "            (dense): Linear(in_features=3072, out_features=768, bias=True)\n",
       "            (LayerNorm): LayerNorm((768,), eps=1e-12, elementwise_affine=True)\n",
       "            (dropout): Dropout(p=0.1, inplace=False)\n",
       "          )\n",
       "        )\n",
       "        (5): BertLayer(\n",
       "          (attention): BertAttention(\n",
       "            (self): BertSelfAttention(\n",
       "              (query): Linear(in_features=768, out_features=768, bias=True)\n",
       "              (key): Linear(in_features=768, out_features=768, bias=True)\n",
       "              (value): Linear(in_features=768, out_features=768, bias=True)\n",
       "              (dropout): Dropout(p=0.1, inplace=False)\n",
       "            )\n",
       "            (output): BertSelfOutput(\n",
       "              (dense): Linear(in_features=768, out_features=768, bias=True)\n",
       "              (LayerNorm): LayerNorm((768,), eps=1e-12, elementwise_affine=True)\n",
       "              (dropout): Dropout(p=0.1, inplace=False)\n",
       "            )\n",
       "          )\n",
       "          (intermediate): BertIntermediate(\n",
       "            (dense): Linear(in_features=768, out_features=3072, bias=True)\n",
       "          )\n",
       "          (output): BertOutput(\n",
       "            (dense): Linear(in_features=3072, out_features=768, bias=True)\n",
       "            (LayerNorm): LayerNorm((768,), eps=1e-12, elementwise_affine=True)\n",
       "            (dropout): Dropout(p=0.1, inplace=False)\n",
       "          )\n",
       "        )\n",
       "        (6): BertLayer(\n",
       "          (attention): BertAttention(\n",
       "            (self): BertSelfAttention(\n",
       "              (query): Linear(in_features=768, out_features=768, bias=True)\n",
       "              (key): Linear(in_features=768, out_features=768, bias=True)\n",
       "              (value): Linear(in_features=768, out_features=768, bias=True)\n",
       "              (dropout): Dropout(p=0.1, inplace=False)\n",
       "            )\n",
       "            (output): BertSelfOutput(\n",
       "              (dense): Linear(in_features=768, out_features=768, bias=True)\n",
       "              (LayerNorm): LayerNorm((768,), eps=1e-12, elementwise_affine=True)\n",
       "              (dropout): Dropout(p=0.1, inplace=False)\n",
       "            )\n",
       "          )\n",
       "          (intermediate): BertIntermediate(\n",
       "            (dense): Linear(in_features=768, out_features=3072, bias=True)\n",
       "          )\n",
       "          (output): BertOutput(\n",
       "            (dense): Linear(in_features=3072, out_features=768, bias=True)\n",
       "            (LayerNorm): LayerNorm((768,), eps=1e-12, elementwise_affine=True)\n",
       "            (dropout): Dropout(p=0.1, inplace=False)\n",
       "          )\n",
       "        )\n",
       "        (7): BertLayer(\n",
       "          (attention): BertAttention(\n",
       "            (self): BertSelfAttention(\n",
       "              (query): Linear(in_features=768, out_features=768, bias=True)\n",
       "              (key): Linear(in_features=768, out_features=768, bias=True)\n",
       "              (value): Linear(in_features=768, out_features=768, bias=True)\n",
       "              (dropout): Dropout(p=0.1, inplace=False)\n",
       "            )\n",
       "            (output): BertSelfOutput(\n",
       "              (dense): Linear(in_features=768, out_features=768, bias=True)\n",
       "              (LayerNorm): LayerNorm((768,), eps=1e-12, elementwise_affine=True)\n",
       "              (dropout): Dropout(p=0.1, inplace=False)\n",
       "            )\n",
       "          )\n",
       "          (intermediate): BertIntermediate(\n",
       "            (dense): Linear(in_features=768, out_features=3072, bias=True)\n",
       "          )\n",
       "          (output): BertOutput(\n",
       "            (dense): Linear(in_features=3072, out_features=768, bias=True)\n",
       "            (LayerNorm): LayerNorm((768,), eps=1e-12, elementwise_affine=True)\n",
       "            (dropout): Dropout(p=0.1, inplace=False)\n",
       "          )\n",
       "        )\n",
       "        (8): BertLayer(\n",
       "          (attention): BertAttention(\n",
       "            (self): BertSelfAttention(\n",
       "              (query): Linear(in_features=768, out_features=768, bias=True)\n",
       "              (key): Linear(in_features=768, out_features=768, bias=True)\n",
       "              (value): Linear(in_features=768, out_features=768, bias=True)\n",
       "              (dropout): Dropout(p=0.1, inplace=False)\n",
       "            )\n",
       "            (output): BertSelfOutput(\n",
       "              (dense): Linear(in_features=768, out_features=768, bias=True)\n",
       "              (LayerNorm): LayerNorm((768,), eps=1e-12, elementwise_affine=True)\n",
       "              (dropout): Dropout(p=0.1, inplace=False)\n",
       "            )\n",
       "          )\n",
       "          (intermediate): BertIntermediate(\n",
       "            (dense): Linear(in_features=768, out_features=3072, bias=True)\n",
       "          )\n",
       "          (output): BertOutput(\n",
       "            (dense): Linear(in_features=3072, out_features=768, bias=True)\n",
       "            (LayerNorm): LayerNorm((768,), eps=1e-12, elementwise_affine=True)\n",
       "            (dropout): Dropout(p=0.1, inplace=False)\n",
       "          )\n",
       "        )\n",
       "        (9): BertLayer(\n",
       "          (attention): BertAttention(\n",
       "            (self): BertSelfAttention(\n",
       "              (query): Linear(in_features=768, out_features=768, bias=True)\n",
       "              (key): Linear(in_features=768, out_features=768, bias=True)\n",
       "              (value): Linear(in_features=768, out_features=768, bias=True)\n",
       "              (dropout): Dropout(p=0.1, inplace=False)\n",
       "            )\n",
       "            (output): BertSelfOutput(\n",
       "              (dense): Linear(in_features=768, out_features=768, bias=True)\n",
       "              (LayerNorm): LayerNorm((768,), eps=1e-12, elementwise_affine=True)\n",
       "              (dropout): Dropout(p=0.1, inplace=False)\n",
       "            )\n",
       "          )\n",
       "          (intermediate): BertIntermediate(\n",
       "            (dense): Linear(in_features=768, out_features=3072, bias=True)\n",
       "          )\n",
       "          (output): BertOutput(\n",
       "            (dense): Linear(in_features=3072, out_features=768, bias=True)\n",
       "            (LayerNorm): LayerNorm((768,), eps=1e-12, elementwise_affine=True)\n",
       "            (dropout): Dropout(p=0.1, inplace=False)\n",
       "          )\n",
       "        )\n",
       "        (10): BertLayer(\n",
       "          (attention): BertAttention(\n",
       "            (self): BertSelfAttention(\n",
       "              (query): Linear(in_features=768, out_features=768, bias=True)\n",
       "              (key): Linear(in_features=768, out_features=768, bias=True)\n",
       "              (value): Linear(in_features=768, out_features=768, bias=True)\n",
       "              (dropout): Dropout(p=0.1, inplace=False)\n",
       "            )\n",
       "            (output): BertSelfOutput(\n",
       "              (dense): Linear(in_features=768, out_features=768, bias=True)\n",
       "              (LayerNorm): LayerNorm((768,), eps=1e-12, elementwise_affine=True)\n",
       "              (dropout): Dropout(p=0.1, inplace=False)\n",
       "            )\n",
       "          )\n",
       "          (intermediate): BertIntermediate(\n",
       "            (dense): Linear(in_features=768, out_features=3072, bias=True)\n",
       "          )\n",
       "          (output): BertOutput(\n",
       "            (dense): Linear(in_features=3072, out_features=768, bias=True)\n",
       "            (LayerNorm): LayerNorm((768,), eps=1e-12, elementwise_affine=True)\n",
       "            (dropout): Dropout(p=0.1, inplace=False)\n",
       "          )\n",
       "        )\n",
       "        (11): BertLayer(\n",
       "          (attention): BertAttention(\n",
       "            (self): BertSelfAttention(\n",
       "              (query): Linear(in_features=768, out_features=768, bias=True)\n",
       "              (key): Linear(in_features=768, out_features=768, bias=True)\n",
       "              (value): Linear(in_features=768, out_features=768, bias=True)\n",
       "              (dropout): Dropout(p=0.1, inplace=False)\n",
       "            )\n",
       "            (output): BertSelfOutput(\n",
       "              (dense): Linear(in_features=768, out_features=768, bias=True)\n",
       "              (LayerNorm): LayerNorm((768,), eps=1e-12, elementwise_affine=True)\n",
       "              (dropout): Dropout(p=0.1, inplace=False)\n",
       "            )\n",
       "          )\n",
       "          (intermediate): BertIntermediate(\n",
       "            (dense): Linear(in_features=768, out_features=3072, bias=True)\n",
       "          )\n",
       "          (output): BertOutput(\n",
       "            (dense): Linear(in_features=3072, out_features=768, bias=True)\n",
       "            (LayerNorm): LayerNorm((768,), eps=1e-12, elementwise_affine=True)\n",
       "            (dropout): Dropout(p=0.1, inplace=False)\n",
       "          )\n",
       "        )\n",
       "      )\n",
       "    )\n",
       "    (pooler): BertPooler(\n",
       "      (dense): Linear(in_features=768, out_features=768, bias=True)\n",
       "      (activation): Tanh()\n",
       "    )\n",
       "  )\n",
       "  (dropout): Dropout(p=0.1, inplace=False)\n",
       "  (classifier): Linear(in_features=768, out_features=2, bias=True)\n",
       ")"
      ]
     },
     "execution_count": 22,
     "metadata": {
      "tags": []
     },
     "output_type": "execute_result"
    }
   ],
   "source": [
    "model = BertForSequenceClassification.from_pretrained(\n",
    "    \"bert-base-uncased\", # use base with lower case\n",
    "    num_labels = 2, # my target is binary so I choose 2   \n",
    "    output_attentions = False, # model does not return attentions weights\n",
    "    output_hidden_states = False) # for returning all hidden-states\n",
    "\n",
    "# inform Pytorch to run model in GPU\n",
    "model.cuda()"
   ]
  },
  {
   "cell_type": "markdown",
   "metadata": {
    "colab_type": "text",
    "id": "hxEvSgjdhAuW"
   },
   "source": [
    "To understand parameters and what embedding layer, transformers and output layer contains, I will print them."
   ]
  },
  {
   "cell_type": "code",
   "execution_count": 23,
   "metadata": {
    "colab": {
     "base_uri": "https://localhost:8080/",
     "height": 612
    },
    "colab_type": "code",
    "id": "Oh4ApNSjbcAS",
    "outputId": "67dee7d3-adba-48dc-869d-2ea71ab798db"
   },
   "outputs": [
    {
     "name": "stdout",
     "output_type": "stream",
     "text": [
      "The BERT model has 201 different named parameters.\n",
      "\n",
      "==== Embedding Layer ====\n",
      "\n",
      "bert.embeddings.word_embeddings.weight                  (30522, 768)\n",
      "bert.embeddings.position_embeddings.weight                (512, 768)\n",
      "bert.embeddings.token_type_embeddings.weight                (2, 768)\n",
      "bert.embeddings.LayerNorm.weight                              (768,)\n",
      "bert.embeddings.LayerNorm.bias                                (768,)\n",
      "\n",
      "==== First Transformer ====\n",
      "\n",
      "bert.encoder.layer.0.attention.self.query.weight          (768, 768)\n",
      "bert.encoder.layer.0.attention.self.query.bias                (768,)\n",
      "bert.encoder.layer.0.attention.self.key.weight            (768, 768)\n",
      "bert.encoder.layer.0.attention.self.key.bias                  (768,)\n",
      "bert.encoder.layer.0.attention.self.value.weight          (768, 768)\n",
      "bert.encoder.layer.0.attention.self.value.bias                (768,)\n",
      "bert.encoder.layer.0.attention.output.dense.weight        (768, 768)\n",
      "bert.encoder.layer.0.attention.output.dense.bias              (768,)\n",
      "bert.encoder.layer.0.attention.output.LayerNorm.weight        (768,)\n",
      "bert.encoder.layer.0.attention.output.LayerNorm.bias          (768,)\n",
      "bert.encoder.layer.0.intermediate.dense.weight           (3072, 768)\n",
      "bert.encoder.layer.0.intermediate.dense.bias                 (3072,)\n",
      "bert.encoder.layer.0.output.dense.weight                 (768, 3072)\n",
      "bert.encoder.layer.0.output.dense.bias                        (768,)\n",
      "bert.encoder.layer.0.output.LayerNorm.weight                  (768,)\n",
      "bert.encoder.layer.0.output.LayerNorm.bias                    (768,)\n",
      "\n",
      "==== Output Layer ====\n",
      "\n",
      "bert.pooler.dense.weight                                  (768, 768)\n",
      "bert.pooler.dense.bias                                        (768,)\n",
      "classifier.weight                                           (2, 768)\n",
      "classifier.bias                                                 (2,)\n"
     ]
    }
   ],
   "source": [
    "params = list(model.named_parameters())\n",
    "\n",
    "print('The BERT model has {:} different named parameters.\\n'.format(len(params)))\n",
    "\n",
    "print('==== Embedding Layer ====\\n')\n",
    "\n",
    "for p in params[0:5]:\n",
    "    print(\"{:<55} {:>12}\".format(p[0], str(tuple(p[1].size()))))\n",
    "\n",
    "print('\\n==== First Transformer ====\\n')\n",
    "\n",
    "for p in params[5:21]:\n",
    "    print(\"{:<55} {:>12}\".format(p[0], str(tuple(p[1].size()))))\n",
    "\n",
    "print('\\n==== Output Layer ====\\n')\n",
    "\n",
    "for p in params[-4:]:\n",
    "    print(\"{:<55} {:>12}\".format(p[0], str(tuple(p[1].size()))))"
   ]
  },
  {
   "cell_type": "markdown",
   "metadata": {
    "colab_type": "text",
    "id": "-gJWEF4GhAuZ"
   },
   "source": [
    "# Optimizer"
   ]
  },
  {
   "cell_type": "markdown",
   "metadata": {
    "colab_type": "text",
    "id": "fixiN366hAuZ"
   },
   "source": [
    "To tune the optimizer, it is recommended in tutorial to choose learning rate for AdamW optimizer 5e-5, 3e-5 or 2e-5. I prefer 2-e5 to be more precise. 1e-8 is also very small for epsilon value but it is good to prevent any division by zero in the implementation, detailed [here](https://machinelearningmastery.com/adam-optimization-algorithm-for-deep-learning/). "
   ]
  },
  {
   "cell_type": "code",
   "execution_count": 0,
   "metadata": {
    "colab": {},
    "colab_type": "code",
    "id": "KekfSfNPbnR_"
   },
   "outputs": [],
   "source": [
    "optimizer = AdamW(model.parameters(),lr = 2e-5, eps = 1e-8)"
   ]
  },
  {
   "cell_type": "code",
   "execution_count": 0,
   "metadata": {
    "colab": {},
    "colab_type": "code",
    "id": "SPUUU-AnbuPd"
   },
   "outputs": [],
   "source": [
    "# 5 epoches is too much for this model, but to get better results and make sure model is learning or not, I choose it\n",
    "epochs = 5\n",
    "\n",
    "# number of steps data loader times epoch number\n",
    "total_steps = len(train_dataloader) * epochs\n",
    "\n",
    "# setting scheduler\n",
    "scheduler = get_linear_schedule_with_warmup(optimizer, num_warmup_steps = 0,\n",
    "                                            num_training_steps = total_steps)"
   ]
  },
  {
   "cell_type": "code",
   "execution_count": 0,
   "metadata": {
    "colab": {},
    "colab_type": "code",
    "id": "ZM2FxwESb0Ru"
   },
   "outputs": [],
   "source": [
    "def flat_accuracy(pred, true):\n",
    "    '''function for flatten accuracy'''\n",
    "    pred_flat = np.argmax(pred, axis=1).flatten()\n",
    "    labels_flat = true.flatten()\n",
    "    return np.sum(pred_flat == labels_flat) / len(labels_flat)"
   ]
  },
  {
   "cell_type": "code",
   "execution_count": 0,
   "metadata": {
    "colab": {},
    "colab_type": "code",
    "id": "u9EkYZgHb8nH"
   },
   "outputs": [],
   "source": [
    "def format_time(elapsed):\n",
    "    '''\n",
    "    to see time taking second and returns time as string with hour, min, sec\n",
    "    '''\n",
    "    elapsed_rounded = int(round((elapsed)))\n",
    "    return str(datetime.timedelta(seconds=elapsed_rounded))"
   ]
  },
  {
   "cell_type": "markdown",
   "metadata": {
    "colab": {},
    "colab_type": "code",
    "id": "rX2Qzc_7ws73"
   },
   "source": [
    "# Training the Model"
   ]
  },
  {
   "cell_type": "markdown",
   "metadata": {
    "colab_type": "text",
    "id": "wTqX1oGPhAup"
   },
   "source": [
    "My training cell generally consists of two parts. First one for training, second one for evaluation from validation data. Training part is unpacking my data, loading data to GPU, clear gradients which calculated in the previous pass. As a default, gradients are kept in PyTorch, so I will clear out them explicitly. There are forward and backward passes also in training loop because forward is needed for feeding input data through network and backward for backpropagation. And last steps for training part is optimizer and observe variables for monitoring progress.\n",
    "\n",
    "For evaluation part, data is unpacked again, it is loaded GPU like train part. There is forward pass to feed input data through network and calculating progress. "
   ]
  },
  {
   "cell_type": "code",
   "execution_count": 28,
   "metadata": {
    "colab": {
     "base_uri": "https://localhost:8080/",
     "height": 1000
    },
    "colab_type": "code",
    "id": "6Gra5nFriTDM",
    "outputId": "3307fe4f-10a5-4b96-a1f6-c2b5faa4dcd6"
   },
   "outputs": [
    {
     "name": "stdout",
     "output_type": "stream",
     "text": [
      "\n",
      "======== Epoch 1 / 5 ========\n",
      "Training...\n",
      "  Batch    40  of  2,000.    Elapsed: 0:00:15.\n",
      "  Batch    80  of  2,000.    Elapsed: 0:00:30.\n",
      "  Batch   120  of  2,000.    Elapsed: 0:00:45.\n",
      "  Batch   160  of  2,000.    Elapsed: 0:01:00.\n",
      "  Batch   200  of  2,000.    Elapsed: 0:01:15.\n",
      "  Batch   240  of  2,000.    Elapsed: 0:01:30.\n",
      "  Batch   280  of  2,000.    Elapsed: 0:01:45.\n",
      "  Batch   320  of  2,000.    Elapsed: 0:02:00.\n",
      "  Batch   360  of  2,000.    Elapsed: 0:02:15.\n",
      "  Batch   400  of  2,000.    Elapsed: 0:02:30.\n",
      "  Batch   440  of  2,000.    Elapsed: 0:02:45.\n",
      "  Batch   480  of  2,000.    Elapsed: 0:03:00.\n",
      "  Batch   520  of  2,000.    Elapsed: 0:03:15.\n",
      "  Batch   560  of  2,000.    Elapsed: 0:03:30.\n",
      "  Batch   600  of  2,000.    Elapsed: 0:03:45.\n",
      "  Batch   640  of  2,000.    Elapsed: 0:04:00.\n",
      "  Batch   680  of  2,000.    Elapsed: 0:04:15.\n",
      "  Batch   720  of  2,000.    Elapsed: 0:04:30.\n",
      "  Batch   760  of  2,000.    Elapsed: 0:04:45.\n",
      "  Batch   800  of  2,000.    Elapsed: 0:05:00.\n",
      "  Batch   840  of  2,000.    Elapsed: 0:05:15.\n",
      "  Batch   880  of  2,000.    Elapsed: 0:05:30.\n",
      "  Batch   920  of  2,000.    Elapsed: 0:05:45.\n",
      "  Batch   960  of  2,000.    Elapsed: 0:06:00.\n",
      "  Batch 1,000  of  2,000.    Elapsed: 0:06:15.\n",
      "  Batch 1,040  of  2,000.    Elapsed: 0:06:30.\n",
      "  Batch 1,080  of  2,000.    Elapsed: 0:06:45.\n",
      "  Batch 1,120  of  2,000.    Elapsed: 0:07:00.\n",
      "  Batch 1,160  of  2,000.    Elapsed: 0:07:15.\n",
      "  Batch 1,200  of  2,000.    Elapsed: 0:07:30.\n",
      "  Batch 1,240  of  2,000.    Elapsed: 0:07:45.\n",
      "  Batch 1,280  of  2,000.    Elapsed: 0:08:00.\n",
      "  Batch 1,320  of  2,000.    Elapsed: 0:08:15.\n",
      "  Batch 1,360  of  2,000.    Elapsed: 0:08:30.\n",
      "  Batch 1,400  of  2,000.    Elapsed: 0:08:45.\n",
      "  Batch 1,440  of  2,000.    Elapsed: 0:09:00.\n",
      "  Batch 1,480  of  2,000.    Elapsed: 0:09:15.\n",
      "  Batch 1,520  of  2,000.    Elapsed: 0:09:30.\n",
      "  Batch 1,560  of  2,000.    Elapsed: 0:09:45.\n",
      "  Batch 1,600  of  2,000.    Elapsed: 0:10:00.\n",
      "  Batch 1,640  of  2,000.    Elapsed: 0:10:15.\n",
      "  Batch 1,680  of  2,000.    Elapsed: 0:10:30.\n",
      "  Batch 1,720  of  2,000.    Elapsed: 0:10:45.\n",
      "  Batch 1,760  of  2,000.    Elapsed: 0:11:00.\n",
      "  Batch 1,800  of  2,000.    Elapsed: 0:11:15.\n",
      "  Batch 1,840  of  2,000.    Elapsed: 0:11:30.\n",
      "  Batch 1,880  of  2,000.    Elapsed: 0:11:45.\n",
      "  Batch 1,920  of  2,000.    Elapsed: 0:12:00.\n",
      "  Batch 1,960  of  2,000.    Elapsed: 0:12:15.\n",
      "\n",
      "  Average training loss: 0.15\n",
      "  Training epcoh took: 0:12:30\n",
      "\n",
      "Running Validation...\n",
      "  Accuracy: 0.95\n",
      "  Validation Loss: 0.12\n",
      "  Validation took: 0:00:58\n",
      "\n",
      "======== Epoch 2 / 5 ========\n",
      "Training...\n",
      "  Batch    40  of  2,000.    Elapsed: 0:00:15.\n",
      "  Batch    80  of  2,000.    Elapsed: 0:00:30.\n",
      "  Batch   120  of  2,000.    Elapsed: 0:00:45.\n",
      "  Batch   160  of  2,000.    Elapsed: 0:01:00.\n",
      "  Batch   200  of  2,000.    Elapsed: 0:01:15.\n",
      "  Batch   240  of  2,000.    Elapsed: 0:01:30.\n",
      "  Batch   280  of  2,000.    Elapsed: 0:01:45.\n",
      "  Batch   320  of  2,000.    Elapsed: 0:02:00.\n",
      "  Batch   360  of  2,000.    Elapsed: 0:02:15.\n",
      "  Batch   400  of  2,000.    Elapsed: 0:02:30.\n",
      "  Batch   440  of  2,000.    Elapsed: 0:02:45.\n",
      "  Batch   480  of  2,000.    Elapsed: 0:02:59.\n",
      "  Batch   520  of  2,000.    Elapsed: 0:03:14.\n",
      "  Batch   560  of  2,000.    Elapsed: 0:03:29.\n",
      "  Batch   600  of  2,000.    Elapsed: 0:03:44.\n",
      "  Batch   640  of  2,000.    Elapsed: 0:03:59.\n",
      "  Batch   680  of  2,000.    Elapsed: 0:04:14.\n",
      "  Batch   720  of  2,000.    Elapsed: 0:04:29.\n",
      "  Batch   760  of  2,000.    Elapsed: 0:04:44.\n",
      "  Batch   800  of  2,000.    Elapsed: 0:04:59.\n",
      "  Batch   840  of  2,000.    Elapsed: 0:05:14.\n",
      "  Batch   880  of  2,000.    Elapsed: 0:05:29.\n",
      "  Batch   920  of  2,000.    Elapsed: 0:05:44.\n",
      "  Batch   960  of  2,000.    Elapsed: 0:05:59.\n",
      "  Batch 1,000  of  2,000.    Elapsed: 0:06:14.\n",
      "  Batch 1,040  of  2,000.    Elapsed: 0:06:29.\n",
      "  Batch 1,080  of  2,000.    Elapsed: 0:06:44.\n",
      "  Batch 1,120  of  2,000.    Elapsed: 0:06:59.\n",
      "  Batch 1,160  of  2,000.    Elapsed: 0:07:14.\n",
      "  Batch 1,200  of  2,000.    Elapsed: 0:07:29.\n",
      "  Batch 1,240  of  2,000.    Elapsed: 0:07:44.\n",
      "  Batch 1,280  of  2,000.    Elapsed: 0:07:59.\n",
      "  Batch 1,320  of  2,000.    Elapsed: 0:08:13.\n",
      "  Batch 1,360  of  2,000.    Elapsed: 0:08:28.\n",
      "  Batch 1,400  of  2,000.    Elapsed: 0:08:43.\n",
      "  Batch 1,440  of  2,000.    Elapsed: 0:08:58.\n",
      "  Batch 1,480  of  2,000.    Elapsed: 0:09:13.\n",
      "  Batch 1,520  of  2,000.    Elapsed: 0:09:28.\n",
      "  Batch 1,560  of  2,000.    Elapsed: 0:09:43.\n",
      "  Batch 1,600  of  2,000.    Elapsed: 0:09:58.\n",
      "  Batch 1,640  of  2,000.    Elapsed: 0:10:13.\n",
      "  Batch 1,680  of  2,000.    Elapsed: 0:10:28.\n",
      "  Batch 1,720  of  2,000.    Elapsed: 0:10:43.\n",
      "  Batch 1,760  of  2,000.    Elapsed: 0:10:58.\n",
      "  Batch 1,800  of  2,000.    Elapsed: 0:11:13.\n",
      "  Batch 1,840  of  2,000.    Elapsed: 0:11:28.\n",
      "  Batch 1,880  of  2,000.    Elapsed: 0:11:43.\n",
      "  Batch 1,920  of  2,000.    Elapsed: 0:11:58.\n",
      "  Batch 1,960  of  2,000.    Elapsed: 0:12:13.\n",
      "\n",
      "  Average training loss: 0.10\n",
      "  Training epcoh took: 0:12:28\n",
      "\n",
      "Running Validation...\n",
      "  Accuracy: 0.95\n",
      "  Validation Loss: 0.15\n",
      "  Validation took: 0:00:58\n",
      "\n",
      "======== Epoch 3 / 5 ========\n",
      "Training...\n",
      "  Batch    40  of  2,000.    Elapsed: 0:00:15.\n",
      "  Batch    80  of  2,000.    Elapsed: 0:00:30.\n",
      "  Batch   120  of  2,000.    Elapsed: 0:00:45.\n",
      "  Batch   160  of  2,000.    Elapsed: 0:01:00.\n",
      "  Batch   200  of  2,000.    Elapsed: 0:01:15.\n",
      "  Batch   240  of  2,000.    Elapsed: 0:01:30.\n",
      "  Batch   280  of  2,000.    Elapsed: 0:01:45.\n",
      "  Batch   320  of  2,000.    Elapsed: 0:02:00.\n",
      "  Batch   360  of  2,000.    Elapsed: 0:02:15.\n",
      "  Batch   400  of  2,000.    Elapsed: 0:02:30.\n",
      "  Batch   440  of  2,000.    Elapsed: 0:02:44.\n",
      "  Batch   480  of  2,000.    Elapsed: 0:02:59.\n",
      "  Batch   520  of  2,000.    Elapsed: 0:03:14.\n",
      "  Batch   560  of  2,000.    Elapsed: 0:03:29.\n",
      "  Batch   600  of  2,000.    Elapsed: 0:03:44.\n",
      "  Batch   640  of  2,000.    Elapsed: 0:03:59.\n",
      "  Batch   680  of  2,000.    Elapsed: 0:04:14.\n",
      "  Batch   720  of  2,000.    Elapsed: 0:04:29.\n",
      "  Batch   760  of  2,000.    Elapsed: 0:04:44.\n",
      "  Batch   800  of  2,000.    Elapsed: 0:04:59.\n",
      "  Batch   840  of  2,000.    Elapsed: 0:05:14.\n",
      "  Batch   880  of  2,000.    Elapsed: 0:05:29.\n",
      "  Batch   920  of  2,000.    Elapsed: 0:05:44.\n",
      "  Batch   960  of  2,000.    Elapsed: 0:05:59.\n",
      "  Batch 1,000  of  2,000.    Elapsed: 0:06:14.\n",
      "  Batch 1,040  of  2,000.    Elapsed: 0:06:29.\n",
      "  Batch 1,080  of  2,000.    Elapsed: 0:06:43.\n",
      "  Batch 1,120  of  2,000.    Elapsed: 0:06:58.\n",
      "  Batch 1,160  of  2,000.    Elapsed: 0:07:13.\n",
      "  Batch 1,200  of  2,000.    Elapsed: 0:07:28.\n",
      "  Batch 1,240  of  2,000.    Elapsed: 0:07:43.\n",
      "  Batch 1,280  of  2,000.    Elapsed: 0:07:58.\n",
      "  Batch 1,320  of  2,000.    Elapsed: 0:08:13.\n",
      "  Batch 1,360  of  2,000.    Elapsed: 0:08:28.\n",
      "  Batch 1,400  of  2,000.    Elapsed: 0:08:43.\n",
      "  Batch 1,440  of  2,000.    Elapsed: 0:08:58.\n",
      "  Batch 1,480  of  2,000.    Elapsed: 0:09:13.\n",
      "  Batch 1,520  of  2,000.    Elapsed: 0:09:28.\n",
      "  Batch 1,560  of  2,000.    Elapsed: 0:09:43.\n",
      "  Batch 1,600  of  2,000.    Elapsed: 0:09:58.\n",
      "  Batch 1,640  of  2,000.    Elapsed: 0:10:12.\n",
      "  Batch 1,680  of  2,000.    Elapsed: 0:10:27.\n",
      "  Batch 1,720  of  2,000.    Elapsed: 0:10:42.\n",
      "  Batch 1,760  of  2,000.    Elapsed: 0:10:57.\n",
      "  Batch 1,800  of  2,000.    Elapsed: 0:11:12.\n",
      "  Batch 1,840  of  2,000.    Elapsed: 0:11:27.\n",
      "  Batch 1,880  of  2,000.    Elapsed: 0:11:42.\n",
      "  Batch 1,920  of  2,000.    Elapsed: 0:11:57.\n",
      "  Batch 1,960  of  2,000.    Elapsed: 0:12:12.\n",
      "\n",
      "  Average training loss: 0.06\n",
      "  Training epcoh took: 0:12:27\n",
      "\n",
      "Running Validation...\n",
      "  Accuracy: 0.95\n",
      "  Validation Loss: 0.18\n",
      "  Validation took: 0:00:58\n",
      "\n",
      "======== Epoch 4 / 5 ========\n",
      "Training...\n",
      "  Batch    40  of  2,000.    Elapsed: 0:00:15.\n",
      "  Batch    80  of  2,000.    Elapsed: 0:00:30.\n",
      "  Batch   120  of  2,000.    Elapsed: 0:00:45.\n",
      "  Batch   160  of  2,000.    Elapsed: 0:01:00.\n",
      "  Batch   200  of  2,000.    Elapsed: 0:01:15.\n",
      "  Batch   240  of  2,000.    Elapsed: 0:01:30.\n",
      "  Batch   280  of  2,000.    Elapsed: 0:01:44.\n",
      "  Batch   320  of  2,000.    Elapsed: 0:01:59.\n",
      "  Batch   360  of  2,000.    Elapsed: 0:02:14.\n",
      "  Batch   400  of  2,000.    Elapsed: 0:02:29.\n",
      "  Batch   440  of  2,000.    Elapsed: 0:02:44.\n",
      "  Batch   480  of  2,000.    Elapsed: 0:02:59.\n",
      "  Batch   520  of  2,000.    Elapsed: 0:03:14.\n",
      "  Batch   560  of  2,000.    Elapsed: 0:03:29.\n",
      "  Batch   600  of  2,000.    Elapsed: 0:03:44.\n",
      "  Batch   640  of  2,000.    Elapsed: 0:03:59.\n",
      "  Batch   680  of  2,000.    Elapsed: 0:04:14.\n",
      "  Batch   720  of  2,000.    Elapsed: 0:04:29.\n",
      "  Batch   760  of  2,000.    Elapsed: 0:04:44.\n",
      "  Batch   800  of  2,000.    Elapsed: 0:04:59.\n",
      "  Batch   840  of  2,000.    Elapsed: 0:05:13.\n",
      "  Batch   880  of  2,000.    Elapsed: 0:05:28.\n",
      "  Batch   920  of  2,000.    Elapsed: 0:05:43.\n",
      "  Batch   960  of  2,000.    Elapsed: 0:05:58.\n",
      "  Batch 1,000  of  2,000.    Elapsed: 0:06:13.\n",
      "  Batch 1,040  of  2,000.    Elapsed: 0:06:28.\n",
      "  Batch 1,080  of  2,000.    Elapsed: 0:06:43.\n",
      "  Batch 1,120  of  2,000.    Elapsed: 0:06:58.\n",
      "  Batch 1,160  of  2,000.    Elapsed: 0:07:13.\n",
      "  Batch 1,200  of  2,000.    Elapsed: 0:07:28.\n",
      "  Batch 1,240  of  2,000.    Elapsed: 0:07:43.\n",
      "  Batch 1,280  of  2,000.    Elapsed: 0:07:58.\n",
      "  Batch 1,320  of  2,000.    Elapsed: 0:08:12.\n",
      "  Batch 1,360  of  2,000.    Elapsed: 0:08:27.\n",
      "  Batch 1,400  of  2,000.    Elapsed: 0:08:42.\n",
      "  Batch 1,440  of  2,000.    Elapsed: 0:08:57.\n",
      "  Batch 1,480  of  2,000.    Elapsed: 0:09:12.\n",
      "  Batch 1,520  of  2,000.    Elapsed: 0:09:27.\n",
      "  Batch 1,560  of  2,000.    Elapsed: 0:09:42.\n",
      "  Batch 1,600  of  2,000.    Elapsed: 0:09:57.\n",
      "  Batch 1,640  of  2,000.    Elapsed: 0:10:12.\n",
      "  Batch 1,680  of  2,000.    Elapsed: 0:10:27.\n",
      "  Batch 1,720  of  2,000.    Elapsed: 0:10:42.\n",
      "  Batch 1,760  of  2,000.    Elapsed: 0:10:57.\n",
      "  Batch 1,800  of  2,000.    Elapsed: 0:11:11.\n",
      "  Batch 1,840  of  2,000.    Elapsed: 0:11:26.\n",
      "  Batch 1,880  of  2,000.    Elapsed: 0:11:41.\n",
      "  Batch 1,920  of  2,000.    Elapsed: 0:11:56.\n",
      "  Batch 1,960  of  2,000.    Elapsed: 0:12:11.\n",
      "\n",
      "  Average training loss: 0.03\n",
      "  Training epcoh took: 0:12:26\n",
      "\n",
      "Running Validation...\n",
      "  Accuracy: 0.95\n",
      "  Validation Loss: 0.25\n",
      "  Validation took: 0:00:58\n",
      "\n",
      "======== Epoch 5 / 5 ========\n",
      "Training...\n",
      "  Batch    40  of  2,000.    Elapsed: 0:00:15.\n",
      "  Batch    80  of  2,000.    Elapsed: 0:00:30.\n",
      "  Batch   120  of  2,000.    Elapsed: 0:00:45.\n",
      "  Batch   160  of  2,000.    Elapsed: 0:01:00.\n",
      "  Batch   200  of  2,000.    Elapsed: 0:01:15.\n",
      "  Batch   240  of  2,000.    Elapsed: 0:01:29.\n",
      "  Batch   280  of  2,000.    Elapsed: 0:01:44.\n",
      "  Batch   320  of  2,000.    Elapsed: 0:01:59.\n",
      "  Batch   360  of  2,000.    Elapsed: 0:02:14.\n",
      "  Batch   400  of  2,000.    Elapsed: 0:02:29.\n",
      "  Batch   440  of  2,000.    Elapsed: 0:02:44.\n",
      "  Batch   480  of  2,000.    Elapsed: 0:02:59.\n",
      "  Batch   520  of  2,000.    Elapsed: 0:03:14.\n",
      "  Batch   560  of  2,000.    Elapsed: 0:03:29.\n",
      "  Batch   600  of  2,000.    Elapsed: 0:03:44.\n",
      "  Batch   640  of  2,000.    Elapsed: 0:03:58.\n",
      "  Batch   680  of  2,000.    Elapsed: 0:04:13.\n",
      "  Batch   720  of  2,000.    Elapsed: 0:04:28.\n",
      "  Batch   760  of  2,000.    Elapsed: 0:04:43.\n",
      "  Batch   800  of  2,000.    Elapsed: 0:04:58.\n",
      "  Batch   840  of  2,000.    Elapsed: 0:05:13.\n",
      "  Batch   880  of  2,000.    Elapsed: 0:05:28.\n",
      "  Batch   920  of  2,000.    Elapsed: 0:05:43.\n",
      "  Batch   960  of  2,000.    Elapsed: 0:05:58.\n",
      "  Batch 1,000  of  2,000.    Elapsed: 0:06:13.\n",
      "  Batch 1,040  of  2,000.    Elapsed: 0:06:27.\n",
      "  Batch 1,080  of  2,000.    Elapsed: 0:06:42.\n",
      "  Batch 1,120  of  2,000.    Elapsed: 0:06:57.\n",
      "  Batch 1,160  of  2,000.    Elapsed: 0:07:12.\n",
      "  Batch 1,200  of  2,000.    Elapsed: 0:07:27.\n",
      "  Batch 1,240  of  2,000.    Elapsed: 0:07:42.\n",
      "  Batch 1,280  of  2,000.    Elapsed: 0:07:57.\n",
      "  Batch 1,320  of  2,000.    Elapsed: 0:08:12.\n",
      "  Batch 1,360  of  2,000.    Elapsed: 0:08:27.\n",
      "  Batch 1,400  of  2,000.    Elapsed: 0:08:42.\n",
      "  Batch 1,440  of  2,000.    Elapsed: 0:08:56.\n",
      "  Batch 1,480  of  2,000.    Elapsed: 0:09:11.\n",
      "  Batch 1,520  of  2,000.    Elapsed: 0:09:26.\n",
      "  Batch 1,560  of  2,000.    Elapsed: 0:09:41.\n",
      "  Batch 1,600  of  2,000.    Elapsed: 0:09:56.\n",
      "  Batch 1,640  of  2,000.    Elapsed: 0:10:11.\n",
      "  Batch 1,680  of  2,000.    Elapsed: 0:10:26.\n",
      "  Batch 1,720  of  2,000.    Elapsed: 0:10:41.\n",
      "  Batch 1,760  of  2,000.    Elapsed: 0:10:56.\n",
      "  Batch 1,800  of  2,000.    Elapsed: 0:11:11.\n",
      "  Batch 1,840  of  2,000.    Elapsed: 0:11:26.\n",
      "  Batch 1,880  of  2,000.    Elapsed: 0:11:41.\n",
      "  Batch 1,920  of  2,000.    Elapsed: 0:11:56.\n",
      "  Batch 1,960  of  2,000.    Elapsed: 0:12:10.\n",
      "\n",
      "  Average training loss: 0.02\n",
      "  Training epcoh took: 0:12:25\n",
      "\n",
      "Running Validation...\n",
      "  Accuracy: 0.95\n",
      "  Validation Loss: 0.28\n",
      "  Validation took: 0:00:58\n",
      "\n",
      "Training complete!\n",
      "Total training took 1:07:07 (h:mm:ss)\n"
     ]
    }
   ],
   "source": [
    "# seed value for reproducibility\n",
    "seed_no = 42\n",
    "\n",
    "random.seed(seed_no)\n",
    "np.random.seed(seed_no)\n",
    "torch.manual_seed(seed_no)\n",
    "torch.cuda.manual_seed_all(seed_no)\n",
    "\n",
    "# Keeping accuracy, loss and timing values\n",
    "training_stats = []\n",
    "\n",
    "# to see the total time for all epoches\n",
    "total_t0 = time.time()\n",
    "\n",
    "# Training loop\n",
    "for epoch_i in range(0, epochs):\n",
    "    \n",
    "    # to see results in proper way\n",
    "    print(\"\")\n",
    "    print('======== Epoch {:} / {:} ========'.format(epoch_i + 1, epochs))\n",
    "    print('Training...')\n",
    "\n",
    "    # to see the time for each epoch\n",
    "    t0 = time.time()\n",
    "\n",
    "    # cleaning loss for every epoch\n",
    "    total_train_loss = 0\n",
    "  \n",
    "    model.train() # not to perform training, it changes the mode\n",
    "\n",
    "    # each batch of training data\n",
    "    for step, batch in enumerate(train_dataloader):\n",
    "\n",
    "        # setting progress for each 40 batches\n",
    "        if step % 40 == 0 and not step == 0:\n",
    "            elapsed = format_time(time.time() - t0)\n",
    "            \n",
    "             # printing progress of results\n",
    "            print('  Batch {:>5,}  of  {:>5,}.    Elapsed: {:}.'.format(step, len(train_dataloader), elapsed))\n",
    "        # unpack the batch for each tensor with 'to' function \n",
    "        b_input_ids = batch[0].to(device)\n",
    "        b_input_mask = batch[1].to(device)\n",
    "        b_labels = batch[2].to(device)\n",
    "\n",
    "        # before backward pass, clearing previous gradients\n",
    "        model.zero_grad()        \n",
    "\n",
    "        # forward pass which calculates the model on this training batch \n",
    "        # it returns loss on model outputs as logits\n",
    "        loss, logits = model(b_input_ids, \n",
    "                             token_type_ids=None, \n",
    "                             attention_mask=b_input_mask, \n",
    "                             labels=b_labels)\n",
    "\n",
    "        # adding training loss for each steps \n",
    "        total_train_loss += loss.item()\n",
    "\n",
    "        # backward pass for gradient calculates \n",
    "        loss.backward()\n",
    "\n",
    "        # to prevent 'exploding gradient' problem, clip_grad_norm tool usage\n",
    "        torch.nn.utils.clip_grad_norm_(model.parameters(), 1.0)\n",
    "\n",
    "        # AdamW optimizer for learning rate etc.\n",
    "        optimizer.step()\n",
    "\n",
    "        # new learning rate\n",
    "        scheduler.step()\n",
    "\n",
    "    # mean of the all losses of training data\n",
    "    avg_train_loss = total_train_loss / len(train_dataloader)            \n",
    "    \n",
    "    # calculates time values \n",
    "    training_time = format_time(time.time() - t0)\n",
    "    \n",
    "    # printing training results\n",
    "    print(\"\")\n",
    "    print(\"  Average training loss: {0:.2f}\".format(avg_train_loss))\n",
    "    print(\"  Training epoch took: {:}\".format(training_time))\n",
    "    # for printing in proper way \n",
    "    print(\"\")\n",
    "    print(\"Running Validation...\")\n",
    "\n",
    "    t0 = time.time()\n",
    "\n",
    "    model.eval() # changing mode from train to evaluation\n",
    "\n",
    "    # for keeping values \n",
    "    total_eval_accuracy = 0\n",
    "    total_eval_loss = 0\n",
    "    nb_eval_steps = 0\n",
    "\n",
    "    # loop for each batch\n",
    "    for batch in validation_dataloader:\n",
    "        \n",
    "        # unpack the batch for each tensor with 'to' function \n",
    "        b_input_ids = batch[0].to(device)\n",
    "        b_input_mask = batch[1].to(device)\n",
    "        b_labels = batch[2].to(device)\n",
    "        \n",
    "        # no zero_grad bec. it is only needed for training part\n",
    "        with torch.no_grad():        \n",
    "\n",
    "            # forward pass and calculating logit predictions \n",
    "            (loss, logits) = model(b_input_ids, \n",
    "                                   token_type_ids=None, \n",
    "                                   attention_mask=b_input_mask,\n",
    "                                   labels=b_labels)\n",
    "            \n",
    "        # keepong validation loss values\n",
    "        total_eval_loss += loss.item()\n",
    "\n",
    "        # sent logits and labels to CPU\n",
    "        logits = logits.detach().cpu().numpy()\n",
    "        label_ids = b_labels.to('cpu').numpy()\n",
    "\n",
    "        # for all batches keeping the accuracy\n",
    "        total_eval_accuracy += flat_accuracy(logits, label_ids)\n",
    "        \n",
    "\n",
    "    # printing final accuracy value\n",
    "    avg_val_accuracy = total_eval_accuracy / len(validation_dataloader)\n",
    "    print(\"  Accuracy: {0:.2f}\".format(avg_val_accuracy))\n",
    "\n",
    "    # mean loss for all batches\n",
    "    avg_val_loss = total_eval_loss / len(validation_dataloader)\n",
    "    \n",
    "    # time measurement\n",
    "    validation_time = format_time(time.time() - t0)\n",
    "    \n",
    "    print(\"  Validation Loss: {0:.2f}\".format(avg_val_loss))\n",
    "    print(\"  Validation took: {:}\".format(validation_time))\n",
    "\n",
    "    # keeping all results from this epoch\n",
    "    training_stats.append(\n",
    "        {\n",
    "            'epoch': epoch_i + 1,\n",
    "            'Training Loss': avg_train_loss,\n",
    "            'Valid. Loss': avg_val_loss,\n",
    "            'Valid. Accur.': avg_val_accuracy,\n",
    "            'Training Time': training_time,\n",
    "            'Validation Time': validation_time\n",
    "        }\n",
    "    )\n",
    "\n",
    "print(\"\")\n",
    "print(\"Training complete!\")\n",
    "\n",
    "print(\"Total training took {:} (h:mm:ss)\".format(format_time(time.time()-total_t0)))"
   ]
  },
  {
   "cell_type": "code",
   "execution_count": 32,
   "metadata": {
    "colab": {
     "base_uri": "https://localhost:8080/",
     "height": 235
    },
    "colab_type": "code",
    "id": "oAAQ3SY4zH-w",
    "outputId": "1d13f57a-437b-400c-c0cc-3a06025dac13"
   },
   "outputs": [
    {
     "data": {
      "text/html": [
       "<div>\n",
       "<style scoped>\n",
       "    .dataframe tbody tr th:only-of-type {\n",
       "        vertical-align: middle;\n",
       "    }\n",
       "\n",
       "    .dataframe tbody tr th {\n",
       "        vertical-align: top;\n",
       "    }\n",
       "\n",
       "    .dataframe thead th {\n",
       "        text-align: right;\n",
       "    }\n",
       "</style>\n",
       "<table border=\"1\" class=\"dataframe\">\n",
       "  <thead>\n",
       "    <tr style=\"text-align: right;\">\n",
       "      <th></th>\n",
       "      <th>Training Loss</th>\n",
       "      <th>Valid. Loss</th>\n",
       "      <th>Valid. Accur.</th>\n",
       "      <th>Training Time</th>\n",
       "      <th>Validation Time</th>\n",
       "    </tr>\n",
       "    <tr>\n",
       "      <th>epoch</th>\n",
       "      <th></th>\n",
       "      <th></th>\n",
       "      <th></th>\n",
       "      <th></th>\n",
       "      <th></th>\n",
       "    </tr>\n",
       "  </thead>\n",
       "  <tbody>\n",
       "    <tr>\n",
       "      <th>1</th>\n",
       "      <td>0.15</td>\n",
       "      <td>0.12</td>\n",
       "      <td>0.95</td>\n",
       "      <td>0:12:30</td>\n",
       "      <td>0:00:58</td>\n",
       "    </tr>\n",
       "    <tr>\n",
       "      <th>2</th>\n",
       "      <td>0.10</td>\n",
       "      <td>0.15</td>\n",
       "      <td>0.95</td>\n",
       "      <td>0:12:28</td>\n",
       "      <td>0:00:58</td>\n",
       "    </tr>\n",
       "    <tr>\n",
       "      <th>3</th>\n",
       "      <td>0.06</td>\n",
       "      <td>0.18</td>\n",
       "      <td>0.95</td>\n",
       "      <td>0:12:27</td>\n",
       "      <td>0:00:58</td>\n",
       "    </tr>\n",
       "    <tr>\n",
       "      <th>4</th>\n",
       "      <td>0.03</td>\n",
       "      <td>0.25</td>\n",
       "      <td>0.95</td>\n",
       "      <td>0:12:26</td>\n",
       "      <td>0:00:58</td>\n",
       "    </tr>\n",
       "    <tr>\n",
       "      <th>5</th>\n",
       "      <td>0.02</td>\n",
       "      <td>0.28</td>\n",
       "      <td>0.95</td>\n",
       "      <td>0:12:25</td>\n",
       "      <td>0:00:58</td>\n",
       "    </tr>\n",
       "  </tbody>\n",
       "</table>\n",
       "</div>"
      ],
      "text/plain": [
       "       Training Loss  Valid. Loss  Valid. Accur. Training Time Validation Time\n",
       "epoch                                                                         \n",
       "1               0.15         0.12           0.95       0:12:30         0:00:58\n",
       "2               0.10         0.15           0.95       0:12:28         0:00:58\n",
       "3               0.06         0.18           0.95       0:12:27         0:00:58\n",
       "4               0.03         0.25           0.95       0:12:26         0:00:58\n",
       "5               0.02         0.28           0.95       0:12:25         0:00:58"
      ]
     },
     "execution_count": 32,
     "metadata": {
      "tags": []
     },
     "output_type": "execute_result"
    }
   ],
   "source": [
    "pd.set_option('precision', 2)\n",
    "\n",
    "# results dataframe\n",
    "df_results = pd.DataFrame(data=training_stats)\n",
    "\n",
    "# to see each epoch as index\n",
    "df_results = df_results.set_index('epoch')\n",
    "\n",
    "df_results"
   ]
  },
  {
   "cell_type": "code",
   "execution_count": 33,
   "metadata": {
    "colab": {
     "base_uri": "https://localhost:8080/",
     "height": 427
    },
    "colab_type": "code",
    "id": "rrDX2NIszSpL",
    "outputId": "cf1cc787-48e3-4efe-9d82-d4aba9a80194"
   },
   "outputs": [
    {
     "data": {
      "image/png": "[encoded data removed]",
      "text/plain": [
       "<Figure size 864x432 with 1 Axes>"
      ]
     },
     "metadata": {
      "tags": []
     },
     "output_type": "display_data"
    }
   ],
   "source": [
    "plt.rcParams[\"figure.figsize\"] = (12,6)\n",
    "\n",
    "# plotting the learning curve\n",
    "plt.plot(df_results['Training Loss'], 'b-o', label=\"Training\")\n",
    "plt.plot(df_results['Valid. Loss'], 'g-o', label=\"Validation\")\n",
    "\n",
    "plt.title(\"Training & Validation Loss for Each Epoch\")\n",
    "plt.xlabel(\"Epoch #\")\n",
    "plt.ylabel(\"Loss Values\")\n",
    "plt.legend()\n",
    "plt.xticks([1, 2, 3, 4, 5])\n",
    "\n",
    "plt.show()"
   ]
  },
  {
   "cell_type": "markdown",
   "metadata": {
    "colab": {},
    "colab_type": "code",
    "id": "weMCdBHitrOm"
   },
   "source": [
    "If I only look at accuracy values, I can believe every epoch is same, so looking to loss values is more accurate than accuracy. While the training loss is decreasing in each epoch, validation loss is increasing. It means that I trained my model too much long that over-fitting occured. I take results of this pre-trained model as 0.12 validation loss and 0.95 validation accuracy which is the results of first epoch. \n",
    "\n",
    "### Future Improvements for This Notebook\n",
    "\n",
    "- Setting epoch as 1, and use less batches than 64\n",
    "- Changing learning rate and epsilon value for optimizer"
   ]
  },
  {
   "cell_type": "code",
   "execution_count": null,
   "metadata": {},
   "outputs": [],
   "source": []
  }
 ],
 "metadata": {
  "accelerator": "GPU",
  "colab": {
   "collapsed_sections": [],
   "name": "7_Pre-trained_BERT_model.ipynb",
   "provenance": []
  },
  "kernelspec": {
   "display_name": "Python 3",
   "language": "python",
   "name": "python3"
  },
  "language_info": {
   "codemirror_mode": {
    "name": "ipython",
    "version": 3
   },
   "file_extension": ".py",
   "mimetype": "text/x-python",
   "name": "python",
   "nbconvert_exporter": "python",
   "pygments_lexer": "ipython3",
   "version": "3.6.9"
  },
  "widgets": {
   "application/vnd.jupyter.widget-state+json": {
    "1221df09c2cd4c969db6546b76504886": {
     "model_module": "@jupyter-widgets/controls",
     "model_name": "HBoxModel",
     "state": {
      "_dom_classes": [],
      "_model_module": "@jupyter-widgets/controls",
      "_model_module_version": "1.5.0",
      "_model_name": "HBoxModel",
      "_view_count": null,
      "_view_module": "@jupyter-widgets/controls",
      "_view_module_version": "1.5.0",
      "_view_name": "HBoxView",
      "box_style": "",
      "children": [
       "IPY_MODEL_6ed090fbe52c47f2b3038d48b05f9d0f",
       "IPY_MODEL_4388cda8b677438f8e89e1c9c4a386b7"
      ],
      "layout": "IPY_MODEL_ce69c8b1cbbf4ced800784099cd54c3e"
     }
    },
    "178db16194c04743a79c3c4144b658e5": {
     "model_module": "@jupyter-widgets/controls",
     "model_name": "DescriptionStyleModel",
     "state": {
      "_model_module": "@jupyter-widgets/controls",
      "_model_module_version": "1.5.0",
      "_model_name": "DescriptionStyleModel",
      "_view_count": null,
      "_view_module": "@jupyter-widgets/base",
      "_view_module_version": "1.2.0",
      "_view_name": "StyleView",
      "description_width": ""
     }
    },
    "1b4bbefd5982432fbf1cbe5b62ef6046": {
     "model_module": "@jupyter-widgets/base",
     "model_name": "LayoutModel",
     "state": {
      "_model_module": "@jupyter-widgets/base",
      "_model_module_version": "1.2.0",
      "_model_name": "LayoutModel",
      "_view_count": null,
      "_view_module": "@jupyter-widgets/base",
      "_view_module_version": "1.2.0",
      "_view_name": "LayoutView",
      "align_content": null,
      "align_items": null,
      "align_self": null,
      "border": null,
      "bottom": null,
      "display": null,
      "flex": null,
      "flex_flow": null,
      "grid_area": null,
      "grid_auto_columns": null,
      "grid_auto_flow": null,
      "grid_auto_rows": null,
      "grid_column": null,
      "grid_gap": null,
      "grid_row": null,
      "grid_template_areas": null,
      "grid_template_columns": null,
      "grid_template_rows": null,
      "height": null,
      "justify_content": null,
      "justify_items": null,
      "left": null,
      "margin": null,
      "max_height": null,
      "max_width": null,
      "min_height": null,
      "min_width": null,
      "object_fit": null,
      "object_position": null,
      "order": null,
      "overflow": null,
      "overflow_x": null,
      "overflow_y": null,
      "padding": null,
      "right": null,
      "top": null,
      "visibility": null,
      "width": null
     }
    },
    "210c1900677048aca380294fc94182f7": {
     "model_module": "@jupyter-widgets/controls",
     "model_name": "HTMLModel",
     "state": {
      "_dom_classes": [],
      "_model_module": "@jupyter-widgets/controls",
      "_model_module_version": "1.5.0",
      "_model_name": "HTMLModel",
      "_view_count": null,
      "_view_module": "@jupyter-widgets/controls",
      "_view_module_version": "1.5.0",
      "_view_name": "HTMLView",
      "description": "",
      "description_tooltip": null,
      "layout": "IPY_MODEL_c86995273de742f29382438b10f1868b",
      "placeholder": "​",
      "style": "IPY_MODEL_660cfc5586714404b7c0dfe74f05b5e9",
      "value": " 440M/440M [00:08&lt;00:00, 51.9MB/s]"
     }
    },
    "218e8495c5374aeb944dcc4be1676b08": {
     "model_module": "@jupyter-widgets/base",
     "model_name": "LayoutModel",
     "state": {
      "_model_module": "@jupyter-widgets/base",
      "_model_module_version": "1.2.0",
      "_model_name": "LayoutModel",
      "_view_count": null,
      "_view_module": "@jupyter-widgets/base",
      "_view_module_version": "1.2.0",
      "_view_name": "LayoutView",
      "align_content": null,
      "align_items": null,
      "align_self": null,
      "border": null,
      "bottom": null,
      "display": null,
      "flex": null,
      "flex_flow": null,
      "grid_area": null,
      "grid_auto_columns": null,
      "grid_auto_flow": null,
      "grid_auto_rows": null,
      "grid_column": null,
      "grid_gap": null,
      "grid_row": null,
      "grid_template_areas": null,
      "grid_template_columns": null,
      "grid_template_rows": null,
      "height": null,
      "justify_content": null,
      "justify_items": null,
      "left": null,
      "margin": null,
      "max_height": null,
      "max_width": null,
      "min_height": null,
      "min_width": null,
      "object_fit": null,
      "object_position": null,
      "order": null,
      "overflow": null,
      "overflow_x": null,
      "overflow_y": null,
      "padding": null,
      "right": null,
      "top": null,
      "visibility": null,
      "width": null
     }
    },
    "231c99254ea64e2cbf7a301b42f48da8": {
     "model_module": "@jupyter-widgets/controls",
     "model_name": "HBoxModel",
     "state": {
      "_dom_classes": [],
      "_model_module": "@jupyter-widgets/controls",
      "_model_module_version": "1.5.0",
      "_model_name": "HBoxModel",
      "_view_count": null,
      "_view_module": "@jupyter-widgets/controls",
      "_view_module_version": "1.5.0",
      "_view_name": "HBoxView",
      "box_style": "",
      "children": [
       "IPY_MODEL_a65cbda0a4264b9bb05fbfe68dbc1b50",
       "IPY_MODEL_210c1900677048aca380294fc94182f7"
      ],
      "layout": "IPY_MODEL_218e8495c5374aeb944dcc4be1676b08"
     }
    },
    "2d1b451e4d4d46d78a463e18b9c87ae3": {
     "model_module": "@jupyter-widgets/base",
     "model_name": "LayoutModel",
     "state": {
      "_model_module": "@jupyter-widgets/base",
      "_model_module_version": "1.2.0",
      "_model_name": "LayoutModel",
      "_view_count": null,
      "_view_module": "@jupyter-widgets/base",
      "_view_module_version": "1.2.0",
      "_view_name": "LayoutView",
      "align_content": null,
      "align_items": null,
      "align_self": null,
      "border": null,
      "bottom": null,
      "display": null,
      "flex": null,
      "flex_flow": null,
      "grid_area": null,
      "grid_auto_columns": null,
      "grid_auto_flow": null,
      "grid_auto_rows": null,
      "grid_column": null,
      "grid_gap": null,
      "grid_row": null,
      "grid_template_areas": null,
      "grid_template_columns": null,
      "grid_template_rows": null,
      "height": null,
      "justify_content": null,
      "justify_items": null,
      "left": null,
      "margin": null,
      "max_height": null,
      "max_width": null,
      "min_height": null,
      "min_width": null,
      "object_fit": null,
      "object_position": null,
      "order": null,
      "overflow": null,
      "overflow_x": null,
      "overflow_y": null,
      "padding": null,
      "right": null,
      "top": null,
      "visibility": null,
      "width": null
     }
    },
    "4388cda8b677438f8e89e1c9c4a386b7": {
     "model_module": "@jupyter-widgets/controls",
     "model_name": "HTMLModel",
     "state": {
      "_dom_classes": [],
      "_model_module": "@jupyter-widgets/controls",
      "_model_module_version": "1.5.0",
      "_model_name": "HTMLModel",
      "_view_count": null,
      "_view_module": "@jupyter-widgets/controls",
      "_view_module_version": "1.5.0",
      "_view_name": "HTMLView",
      "description": "",
      "description_tooltip": null,
      "layout": "IPY_MODEL_2d1b451e4d4d46d78a463e18b9c87ae3",
      "placeholder": "​",
      "style": "IPY_MODEL_178db16194c04743a79c3c4144b658e5",
      "value": " 232k/232k [00:00&lt;00:00, 627kB/s]"
     }
    },
    "46a011e796e241c6807b48cdfed0ccd1": {
     "model_module": "@jupyter-widgets/controls",
     "model_name": "ProgressStyleModel",
     "state": {
      "_model_module": "@jupyter-widgets/controls",
      "_model_module_version": "1.5.0",
      "_model_name": "ProgressStyleModel",
      "_view_count": null,
      "_view_module": "@jupyter-widgets/base",
      "_view_module_version": "1.2.0",
      "_view_name": "StyleView",
      "bar_color": null,
      "description_width": "initial"
     }
    },
    "4ae10cc6fe9a46a88c52ad56a93f80be": {
     "model_module": "@jupyter-widgets/base",
     "model_name": "LayoutModel",
     "state": {
      "_model_module": "@jupyter-widgets/base",
      "_model_module_version": "1.2.0",
      "_model_name": "LayoutModel",
      "_view_count": null,
      "_view_module": "@jupyter-widgets/base",
      "_view_module_version": "1.2.0",
      "_view_name": "LayoutView",
      "align_content": null,
      "align_items": null,
      "align_self": null,
      "border": null,
      "bottom": null,
      "display": null,
      "flex": null,
      "flex_flow": null,
      "grid_area": null,
      "grid_auto_columns": null,
      "grid_auto_flow": null,
      "grid_auto_rows": null,
      "grid_column": null,
      "grid_gap": null,
      "grid_row": null,
      "grid_template_areas": null,
      "grid_template_columns": null,
      "grid_template_rows": null,
      "height": null,
      "justify_content": null,
      "justify_items": null,
      "left": null,
      "margin": null,
      "max_height": null,
      "max_width": null,
      "min_height": null,
      "min_width": null,
      "object_fit": null,
      "object_position": null,
      "order": null,
      "overflow": null,
      "overflow_x": null,
      "overflow_y": null,
      "padding": null,
      "right": null,
      "top": null,
      "visibility": null,
      "width": null
     }
    },
    "660cfc5586714404b7c0dfe74f05b5e9": {
     "model_module": "@jupyter-widgets/controls",
     "model_name": "DescriptionStyleModel",
     "state": {
      "_model_module": "@jupyter-widgets/controls",
      "_model_module_version": "1.5.0",
      "_model_name": "DescriptionStyleModel",
      "_view_count": null,
      "_view_module": "@jupyter-widgets/base",
      "_view_module_version": "1.2.0",
      "_view_name": "StyleView",
      "description_width": ""
     }
    },
    "6a309c31776c490cba4e1a6b50a00310": {
     "model_module": "@jupyter-widgets/controls",
     "model_name": "FloatProgressModel",
     "state": {
      "_dom_classes": [],
      "_model_module": "@jupyter-widgets/controls",
      "_model_module_version": "1.5.0",
      "_model_name": "FloatProgressModel",
      "_view_count": null,
      "_view_module": "@jupyter-widgets/controls",
      "_view_module_version": "1.5.0",
      "_view_name": "ProgressView",
      "bar_style": "success",
      "description": "Downloading: 100%",
      "description_tooltip": null,
      "layout": "IPY_MODEL_d21cffd4fe2f4b23b33660171258f1b3",
      "max": 433,
      "min": 0,
      "orientation": "horizontal",
      "style": "IPY_MODEL_d41bf1f7e9c84326a417a039ba18b051",
      "value": 433
     }
    },
    "6ed090fbe52c47f2b3038d48b05f9d0f": {
     "model_module": "@jupyter-widgets/controls",
     "model_name": "FloatProgressModel",
     "state": {
      "_dom_classes": [],
      "_model_module": "@jupyter-widgets/controls",
      "_model_module_version": "1.5.0",
      "_model_name": "FloatProgressModel",
      "_view_count": null,
      "_view_module": "@jupyter-widgets/controls",
      "_view_module_version": "1.5.0",
      "_view_name": "ProgressView",
      "bar_style": "success",
      "description": "Downloading: 100%",
      "description_tooltip": null,
      "layout": "IPY_MODEL_1b4bbefd5982432fbf1cbe5b62ef6046",
      "max": 231508,
      "min": 0,
      "orientation": "horizontal",
      "style": "IPY_MODEL_ed9f67484fe747b0bab16c18b34e69b9",
      "value": 231508
     }
    },
    "71e8d4bceb874a6393ded5c0dd1bc623": {
     "model_module": "@jupyter-widgets/base",
     "model_name": "LayoutModel",
     "state": {
      "_model_module": "@jupyter-widgets/base",
      "_model_module_version": "1.2.0",
      "_model_name": "LayoutModel",
      "_view_count": null,
      "_view_module": "@jupyter-widgets/base",
      "_view_module_version": "1.2.0",
      "_view_name": "LayoutView",
      "align_content": null,
      "align_items": null,
      "align_self": null,
      "border": null,
      "bottom": null,
      "display": null,
      "flex": null,
      "flex_flow": null,
      "grid_area": null,
      "grid_auto_columns": null,
      "grid_auto_flow": null,
      "grid_auto_rows": null,
      "grid_column": null,
      "grid_gap": null,
      "grid_row": null,
      "grid_template_areas": null,
      "grid_template_columns": null,
      "grid_template_rows": null,
      "height": null,
      "justify_content": null,
      "justify_items": null,
      "left": null,
      "margin": null,
      "max_height": null,
      "max_width": null,
      "min_height": null,
      "min_width": null,
      "object_fit": null,
      "object_position": null,
      "order": null,
      "overflow": null,
      "overflow_x": null,
      "overflow_y": null,
      "padding": null,
      "right": null,
      "top": null,
      "visibility": null,
      "width": null
     }
    },
    "a65cbda0a4264b9bb05fbfe68dbc1b50": {
     "model_module": "@jupyter-widgets/controls",
     "model_name": "FloatProgressModel",
     "state": {
      "_dom_classes": [],
      "_model_module": "@jupyter-widgets/controls",
      "_model_module_version": "1.5.0",
      "_model_name": "FloatProgressModel",
      "_view_count": null,
      "_view_module": "@jupyter-widgets/controls",
      "_view_module_version": "1.5.0",
      "_view_name": "ProgressView",
      "bar_style": "success",
      "description": "Downloading: 100%",
      "description_tooltip": null,
      "layout": "IPY_MODEL_ee5121d2e2aa44fd83be75842ce1d288",
      "max": 440473133,
      "min": 0,
      "orientation": "horizontal",
      "style": "IPY_MODEL_46a011e796e241c6807b48cdfed0ccd1",
      "value": 440473133
     }
    },
    "a87b027c20344c588c9f24797b6c5196": {
     "model_module": "@jupyter-widgets/controls",
     "model_name": "DescriptionStyleModel",
     "state": {
      "_model_module": "@jupyter-widgets/controls",
      "_model_module_version": "1.5.0",
      "_model_name": "DescriptionStyleModel",
      "_view_count": null,
      "_view_module": "@jupyter-widgets/base",
      "_view_module_version": "1.2.0",
      "_view_name": "StyleView",
      "description_width": ""
     }
    },
    "abbc04b4375e44a29d4e4b72e0a17ddc": {
     "model_module": "@jupyter-widgets/controls",
     "model_name": "HBoxModel",
     "state": {
      "_dom_classes": [],
      "_model_module": "@jupyter-widgets/controls",
      "_model_module_version": "1.5.0",
      "_model_name": "HBoxModel",
      "_view_count": null,
      "_view_module": "@jupyter-widgets/controls",
      "_view_module_version": "1.5.0",
      "_view_name": "HBoxView",
      "box_style": "",
      "children": [
       "IPY_MODEL_6a309c31776c490cba4e1a6b50a00310",
       "IPY_MODEL_ef904c4376514ea19c43d9c5bf00fc48"
      ],
      "layout": "IPY_MODEL_4ae10cc6fe9a46a88c52ad56a93f80be"
     }
    },
    "c86995273de742f29382438b10f1868b": {
     "model_module": "@jupyter-widgets/base",
     "model_name": "LayoutModel",
     "state": {
      "_model_module": "@jupyter-widgets/base",
      "_model_module_version": "1.2.0",
      "_model_name": "LayoutModel",
      "_view_count": null,
      "_view_module": "@jupyter-widgets/base",
      "_view_module_version": "1.2.0",
      "_view_name": "LayoutView",
      "align_content": null,
      "align_items": null,
      "align_self": null,
      "border": null,
      "bottom": null,
      "display": null,
      "flex": null,
      "flex_flow": null,
      "grid_area": null,
      "grid_auto_columns": null,
      "grid_auto_flow": null,
      "grid_auto_rows": null,
      "grid_column": null,
      "grid_gap": null,
      "grid_row": null,
      "grid_template_areas": null,
      "grid_template_columns": null,
      "grid_template_rows": null,
      "height": null,
      "justify_content": null,
      "justify_items": null,
      "left": null,
      "margin": null,
      "max_height": null,
      "max_width": null,
      "min_height": null,
      "min_width": null,
      "object_fit": null,
      "object_position": null,
      "order": null,
      "overflow": null,
      "overflow_x": null,
      "overflow_y": null,
      "padding": null,
      "right": null,
      "top": null,
      "visibility": null,
      "width": null
     }
    },
    "ce69c8b1cbbf4ced800784099cd54c3e": {
     "model_module": "@jupyter-widgets/base",
     "model_name": "LayoutModel",
     "state": {
      "_model_module": "@jupyter-widgets/base",
      "_model_module_version": "1.2.0",
      "_model_name": "LayoutModel",
      "_view_count": null,
      "_view_module": "@jupyter-widgets/base",
      "_view_module_version": "1.2.0",
      "_view_name": "LayoutView",
      "align_content": null,
      "align_items": null,
      "align_self": null,
      "border": null,
      "bottom": null,
      "display": null,
      "flex": null,
      "flex_flow": null,
      "grid_area": null,
      "grid_auto_columns": null,
      "grid_auto_flow": null,
      "grid_auto_rows": null,
      "grid_column": null,
      "grid_gap": null,
      "grid_row": null,
      "grid_template_areas": null,
      "grid_template_columns": null,
      "grid_template_rows": null,
      "height": null,
      "justify_content": null,
      "justify_items": null,
      "left": null,
      "margin": null,
      "max_height": null,
      "max_width": null,
      "min_height": null,
      "min_width": null,
      "object_fit": null,
      "object_position": null,
      "order": null,
      "overflow": null,
      "overflow_x": null,
      "overflow_y": null,
      "padding": null,
      "right": null,
      "top": null,
      "visibility": null,
      "width": null
     }
    },
    "d21cffd4fe2f4b23b33660171258f1b3": {
     "model_module": "@jupyter-widgets/base",
     "model_name": "LayoutModel",
     "state": {
      "_model_module": "@jupyter-widgets/base",
      "_model_module_version": "1.2.0",
      "_model_name": "LayoutModel",
      "_view_count": null,
      "_view_module": "@jupyter-widgets/base",
      "_view_module_version": "1.2.0",
      "_view_name": "LayoutView",
      "align_content": null,
      "align_items": null,
      "align_self": null,
      "border": null,
      "bottom": null,
      "display": null,
      "flex": null,
      "flex_flow": null,
      "grid_area": null,
      "grid_auto_columns": null,
      "grid_auto_flow": null,
      "grid_auto_rows": null,
      "grid_column": null,
      "grid_gap": null,
      "grid_row": null,
      "grid_template_areas": null,
      "grid_template_columns": null,
      "grid_template_rows": null,
      "height": null,
      "justify_content": null,
      "justify_items": null,
      "left": null,
      "margin": null,
      "max_height": null,
      "max_width": null,
      "min_height": null,
      "min_width": null,
      "object_fit": null,
      "object_position": null,
      "order": null,
      "overflow": null,
      "overflow_x": null,
      "overflow_y": null,
      "padding": null,
      "right": null,
      "top": null,
      "visibility": null,
      "width": null
     }
    },
    "d41bf1f7e9c84326a417a039ba18b051": {
     "model_module": "@jupyter-widgets/controls",
     "model_name": "ProgressStyleModel",
     "state": {
      "_model_module": "@jupyter-widgets/controls",
      "_model_module_version": "1.5.0",
      "_model_name": "ProgressStyleModel",
      "_view_count": null,
      "_view_module": "@jupyter-widgets/base",
      "_view_module_version": "1.2.0",
      "_view_name": "StyleView",
      "bar_color": null,
      "description_width": "initial"
     }
    },
    "ed9f67484fe747b0bab16c18b34e69b9": {
     "model_module": "@jupyter-widgets/controls",
     "model_name": "ProgressStyleModel",
     "state": {
      "_model_module": "@jupyter-widgets/controls",
      "_model_module_version": "1.5.0",
      "_model_name": "ProgressStyleModel",
      "_view_count": null,
      "_view_module": "@jupyter-widgets/base",
      "_view_module_version": "1.2.0",
      "_view_name": "StyleView",
      "bar_color": null,
      "description_width": "initial"
     }
    },
    "ee5121d2e2aa44fd83be75842ce1d288": {
     "model_module": "@jupyter-widgets/base",
     "model_name": "LayoutModel",
     "state": {
      "_model_module": "@jupyter-widgets/base",
      "_model_module_version": "1.2.0",
      "_model_name": "LayoutModel",
      "_view_count": null,
      "_view_module": "@jupyter-widgets/base",
      "_view_module_version": "1.2.0",
      "_view_name": "LayoutView",
      "align_content": null,
      "align_items": null,
      "align_self": null,
      "border": null,
      "bottom": null,
      "display": null,
      "flex": null,
      "flex_flow": null,
      "grid_area": null,
      "grid_auto_columns": null,
      "grid_auto_flow": null,
      "grid_auto_rows": null,
      "grid_column": null,
      "grid_gap": null,
      "grid_row": null,
      "grid_template_areas": null,
      "grid_template_columns": null,
      "grid_template_rows": null,
      "height": null,
      "justify_content": null,
      "justify_items": null,
      "left": null,
      "margin": null,
      "max_height": null,
      "max_width": null,
      "min_height": null,
      "min_width": null,
      "object_fit": null,
      "object_position": null,
      "order": null,
      "overflow": null,
      "overflow_x": null,
      "overflow_y": null,
      "padding": null,
      "right": null,
      "top": null,
      "visibility": null,
      "width": null
     }
    },
    "ef904c4376514ea19c43d9c5bf00fc48": {
     "model_module": "@jupyter-widgets/controls",
     "model_name": "HTMLModel",
     "state": {
      "_dom_classes": [],
      "_model_module": "@jupyter-widgets/controls",
      "_model_module_version": "1.5.0",
      "_model_name": "HTMLModel",
      "_view_count": null,
      "_view_module": "@jupyter-widgets/controls",
      "_view_module_version": "1.5.0",
      "_view_name": "HTMLView",
      "description": "",
      "description_tooltip": null,
      "layout": "IPY_MODEL_71e8d4bceb874a6393ded5c0dd1bc623",
      "placeholder": "​",
      "style": "IPY_MODEL_a87b027c20344c588c9f24797b6c5196",
      "value": " 433/433 [00:00&lt;00:00, 3.62kB/s]"
     }
    }
   }
  }
 },
 "nbformat": 4,
 "nbformat_minor": 1
}
