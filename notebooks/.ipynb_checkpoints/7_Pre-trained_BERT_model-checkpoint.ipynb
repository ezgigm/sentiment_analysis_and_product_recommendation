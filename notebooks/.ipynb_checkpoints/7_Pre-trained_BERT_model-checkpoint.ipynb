{
 "cells": [
  {
   "cell_type": "markdown",
   "metadata": {},
   "source": [
    "# Modeling with Pre-trained BERT"
   ]
  },
  {
   "cell_type": "markdown",
   "metadata": {},
   "source": [
    "In this notebook, my aim is to try pre-trained model (BERT) to figure out how results will change when I use pre-trained model. \n",
    "\n",
    "BERT (Bidirectional Encoder Representations from Transformers) is a model which released in late 2018 for transfer learning in NLP. Advantages of pre-trained BERT;\n",
    "\n",
    "- Model already has a lot of information so less time needs to tune model.\n",
    "- It is already pre-trained so less data is needed to train the model.\n",
    "- Because of simple fine-tuning procedure, it generally gives better results.\n",
    "\n",
    "To get my results more quickly, I used Google Colab in this model with offered free GPU. \n",
    "\n",
    "To learn how to use BERT, I used the tutorial below,\n",
    "\n",
    "http://mccormickml.com/2019/07/22/BERT-fine-tuning/\n"
   ]
  },
  {
   "cell_type": "code",
   "execution_count": 1,
   "metadata": {
    "colab": {
     "base_uri": "https://localhost:8080/",
     "height": 34
    },
    "colab_type": "code",
    "id": "brprw0cBT-2C",
    "outputId": "46985094-e8ae-4b42-e732-51281a23ec41"
   },
   "outputs": [
    {
     "name": "stdout",
     "output_type": "stream",
     "text": [
      "Found GPU at: /device:GPU:0\n"
     ]
    }
   ],
   "source": [
    "import tensorflow as tf\n",
    "\n",
    "# find the exact GPU name and assign it to this notebook\n",
    "device_name = tf.test.gpu_device_name()\n",
    "\n",
    "# To check the device name is found like below\n",
    "if device_name == '/device:GPU:0':\n",
    "    print('Found GPU at: {}'.format(device_name))\n",
    "else:\n",
    "    raise SystemError('GPU device not found')"
   ]
  },
  {
   "cell_type": "code",
   "execution_count": 2,
   "metadata": {
    "colab": {
     "base_uri": "https://localhost:8080/",
     "height": 51
    },
    "colab_type": "code",
    "id": "IAZGL6_fUFNq",
    "outputId": "4ba216f4-ada5-4e48-f34f-861c7f41ca1f"
   },
   "outputs": [
    {
     "name": "stdout",
     "output_type": "stream",
     "text": [
      "There are 1 GPU(s) available.\n",
      "We will use the GPU: Tesla P100-PCIE-16GB\n"
     ]
    }
   ],
   "source": [
    "import torch\n",
    "\n",
    "# If GPU is available setting to use this\n",
    "if torch.cuda.is_available():    \n",
    "\n",
    "    # Setting the PyTorch to use GPU as memory\n",
    "    device = torch.device(\"cuda\")\n",
    "\n",
    "    print('There are %d GPU(s) available.' % torch.cuda.device_count())\n",
    "\n",
    "    print('We will use the GPU:', torch.cuda.get_device_name(0))\n",
    "\n",
    "# To check is GPU is not found\n",
    "else:\n",
    "    print('No GPU available, using the CPU instead.')\n",
    "    device = torch.device(\"cpu\")"
   ]
  },
  {
   "cell_type": "markdown",
   "metadata": {},
   "source": [
    "Now, I have to download transformers package because BERT can be used with it. Transformers library contains PyTorch and Tensorflow implementations, pre-trained model weights, usage scripts and conversion utilities for more than 10 different models, details can be found [here](https://huggingface.co/transformers/)."
   ]
  },
  {
   "cell_type": "code",
   "execution_count": 1,
   "metadata": {
    "colab": {
     "base_uri": "https://localhost:8080/",
     "height": 581
    },
    "colab_type": "code",
    "id": "-N6J8qsxUyKO",
    "outputId": "a004ffd8-a8ca-47cf-8eac-29fc2eebc73d"
   },
   "outputs": [],
   "source": [
    "# !pip install transformers "
   ]
  },
  {
   "cell_type": "code",
   "execution_count": null,
   "metadata": {},
   "outputs": [],
   "source": [
    "# to use pandas dataframe\n",
    "import pandas as pd \n",
    "import numpy as np\n",
    "\n",
    "from transformers import BertTokenizer\n",
    "from transformers import BertForSequenceClassification, AdamW, BertConfig\n",
    "from transformers import get_linear_schedule_with_warmup\n",
    "from keras.preprocessing.sequence import pad_sequences\n",
    "from sklearn.model_selection import train_test_split\n",
    "from torch.utils.data import TensorDataset, DataLoader, RandomSampler, SequentialSampler\n",
    "import random\n",
    "\n",
    "import time\n",
    "import datetime"
   ]
  },
  {
   "cell_type": "markdown",
   "metadata": {},
   "source": [
    "To download my data to Google Colab, I need to connect Colab with my Drive. So, I used the cell below and put the confirmation code to this cell."
   ]
  },
  {
   "cell_type": "code",
   "execution_count": 2,
   "metadata": {
    "colab": {
     "base_uri": "https://localhost:8080/",
     "height": 122
    },
    "colab_type": "code",
    "id": "jVbeyyADWb9E",
    "outputId": "1f1538be-fe38-4707-e3c7-c2ebc275799b"
   },
   "outputs": [],
   "source": [
    "from google.colab import drive\n",
    "drive.mount('/content/drive')"
   ]
  },
  {
   "cell_type": "code",
   "execution_count": 0,
   "metadata": {
    "colab": {},
    "colab_type": "code",
    "id": "QrgHKJkuViFo"
   },
   "outputs": [],
   "source": [
    "# taking data to df from Google Drive\n",
    "path = '/content/drive/My Drive/train/train.csv'\n",
    "df = pd.read_csv(path)"
   ]
  },
  {
   "cell_type": "code",
   "execution_count": 19,
   "metadata": {
    "colab": {
     "base_uri": "https://localhost:8080/",
     "height": 68
    },
    "colab_type": "code",
    "id": "cDaK2F8IXob8",
    "outputId": "678a6597-ee6e-42c3-a644-b1d079b8c902",
    "scrolled": true
   },
   "outputs": [
    {
     "data": {
      "text/plain": [
       "review_clean    0\n",
       "sentiment       0\n",
       "dtype: int64"
      ]
     },
     "execution_count": 19,
     "metadata": {
      "tags": []
     },
     "output_type": "execute_result"
    }
   ],
   "source": [
    "df.isna().sum() # to check the null values"
   ]
  },
  {
   "cell_type": "markdown",
   "metadata": {},
   "source": [
    "Now, I will assign my text and target values to lists to prepare them to model. "
   ]
  },
  {
   "cell_type": "code",
   "execution_count": 0,
   "metadata": {
    "colab": {},
    "colab_type": "code",
    "id": "ZSYeOlrUX74v"
   },
   "outputs": [],
   "source": [
    "text = df['review_clean'].values"
   ]
  },
  {
   "cell_type": "code",
   "execution_count": 0,
   "metadata": {
    "colab": {},
    "colab_type": "code",
    "id": "t_TCmxQIYUV2"
   },
   "outputs": [],
   "source": [
    "target = df['sentiment'].values"
   ]
  },
  {
   "cell_type": "markdown",
   "metadata": {},
   "source": [
    "I have to split my text to tokens to feed it to BERT. I also set lower case True, just in case because I have already preprocessed lower-case before. "
   ]
  },
  {
   "cell_type": "code",
   "execution_count": 3,
   "metadata": {
    "colab": {
     "base_uri": "https://localhost:8080/",
     "height": 83,
     "referenced_widgets": [
      "d7d24741db9a4cf59b701080fdc708e4",
      "fdbf18eb52a84873b92871328d41e6c6",
      "3560dab447db4fd7ae693b3c71bc110e",
      "73ac4055d22b43ceb0975a78af928f21",
      "943ed645d2084cfaa302247bcf5ea00a",
      "28f9d6f70b774a68882e79c809e1f5be",
      "881a66794b814e548fe39b2ccd7d80b1",
      "0e28fab1deae4b509e1b2e74dd362c3d"
     ]
    },
    "colab_type": "code",
    "id": "mzSyvFA5YYZp",
    "outputId": "85bc93ad-cb0c-4c49-e64a-4452c0ca2d53"
   },
   "outputs": [],
   "source": [
    "# using Bert-Tokenizer to tokenize text \n",
    "tokenizer = BertTokenizer.from_pretrained('bert-base-uncased', do_lower_case=True)"
   ]
  },
  {
   "cell_type": "markdown",
   "metadata": {},
   "source": [
    "Now, I will try tokenizer firstly to first text of my data to check and see the results."
   ]
  },
  {
   "cell_type": "code",
   "execution_count": 23,
   "metadata": {
    "colab": {
     "base_uri": "https://localhost:8080/",
     "height": 173
    },
    "colab_type": "code",
    "id": "UAytA7woYd-F",
    "outputId": "40154b88-d281-4409-dec4-e12804015215"
   },
   "outputs": [
    {
     "name": "stdout",
     "output_type": "stream",
     "text": [
      " Original:  this is a cute little book that is fairly short and easy to read this author fell in love with a silver camper bought it refurbished it and off she went to camp for six months those six months turned into a trip of a life time and a move across the country by the time it was over\n",
      "\n",
      "i give it a little bit lower score than others because i didnt find it laugh out loud hilarious it was funny in a cute way and for someone who owns a camper and goes camping often much of this book is right on target about how not to  and it was right on target about life in a campground\n",
      "\n",
      "overall this is an enjoyable book it is cute and clever it is not a long read and it is right on target in many ways \n",
      "enjoy\n",
      "Tokenized:  ['this', 'is', 'a', 'cute', 'little', 'book', 'that', 'is', 'fairly', 'short', 'and', 'easy', 'to', 'read', 'this', 'author', 'fell', 'in', 'love', 'with', 'a', 'silver', 'camp', '##er', 'bought', 'it', 'refurbished', 'it', 'and', 'off', 'she', 'went', 'to', 'camp', 'for', 'six', 'months', 'those', 'six', 'months', 'turned', 'into', 'a', 'trip', 'of', 'a', 'life', 'time', 'and', 'a', 'move', 'across', 'the', 'country', 'by', 'the', 'time', 'it', 'was', 'over', 'i', 'give', 'it', 'a', 'little', 'bit', 'lower', 'score', 'than', 'others', 'because', 'i', 'didn', '##t', 'find', 'it', 'laugh', 'out', 'loud', 'hilarious', 'it', 'was', 'funny', 'in', 'a', 'cute', 'way', 'and', 'for', 'someone', 'who', 'owns', 'a', 'camp', '##er', 'and', 'goes', 'camping', 'often', 'much', 'of', 'this', 'book', 'is', 'right', 'on', 'target', 'about', 'how', 'not', 'to', 'and', 'it', 'was', 'right', 'on', 'target', 'about', 'life', 'in', 'a', 'campground', 'overall', 'this', 'is', 'an', 'enjoyable', 'book', 'it', 'is', 'cute', 'and', 'clever', 'it', 'is', 'not', 'a', 'long', 'read', 'and', 'it', 'is', 'right', 'on', 'target', 'in', 'many', 'ways', 'enjoy']\n",
      "Token IDs:  [2023, 2003, 1037, 10140, 2210, 2338, 2008, 2003, 7199, 2460, 1998, 3733, 2000, 3191, 2023, 3166, 3062, 1999, 2293, 2007, 1037, 3165, 3409, 2121, 4149, 2009, 18662, 2009, 1998, 2125, 2016, 2253, 2000, 3409, 2005, 2416, 2706, 2216, 2416, 2706, 2357, 2046, 1037, 4440, 1997, 1037, 2166, 2051, 1998, 1037, 2693, 2408, 1996, 2406, 2011, 1996, 2051, 2009, 2001, 2058, 1045, 2507, 2009, 1037, 2210, 2978, 2896, 3556, 2084, 2500, 2138, 1045, 2134, 2102, 2424, 2009, 4756, 2041, 5189, 26316, 2009, 2001, 6057, 1999, 1037, 10140, 2126, 1998, 2005, 2619, 2040, 8617, 1037, 3409, 2121, 1998, 3632, 13215, 2411, 2172, 1997, 2023, 2338, 2003, 2157, 2006, 4539, 2055, 2129, 2025, 2000, 1998, 2009, 2001, 2157, 2006, 4539, 2055, 2166, 1999, 1037, 29144, 3452, 2023, 2003, 2019, 22249, 2338, 2009, 2003, 10140, 1998, 12266, 2009, 2003, 2025, 1037, 2146, 3191, 1998, 2009, 2003, 2157, 2006, 4539, 1999, 2116, 3971, 5959]\n"
     ]
    }
   ],
   "source": [
    "# to see the original text\n",
    "print(' Original: ', text[0])\n",
    "\n",
    "# to see the tokenized text\n",
    "print('Tokenized: ', tokenizer.tokenize(text[0]))\n",
    "\n",
    "# to see the token ids of text\n",
    "print('Token IDs: ', tokenizer.convert_tokens_to_ids(tokenizer.tokenize(text[0])))"
   ]
  },
  {
   "cell_type": "markdown",
   "metadata": {},
   "source": [
    "Now, I am sure my tokenizer is working and I will apply it to whole rows. In addition to this, BERT needs special formatting such as it needs special tokens at the end of the each text and at the begining of the each text. To prepare my text to BERT, I will do some preprocessing. "
   ]
  },
  {
   "cell_type": "markdown",
   "metadata": {},
   "source": [
    "# Pre-processing Text for BERT Formating"
   ]
  },
  {
   "cell_type": "markdown",
   "metadata": {},
   "source": [
    "In this step;\n",
    "\n",
    "- I will add special tokens to the begining and at the end of each text. At the end of the each text, I have to add [SEP] token. Also, [CLS] token will be added to begining of the each sentence for classification problems. \n",
    "- I will set all texts to a single constant length. For BERT, all texts must be padded to fixed lenght and it can be 512 token maximum. Padding is doing with [PAD] token, which is indexed as 0 in BERT vocabulary. If the tokens of the text is less than maximum token number [PAD] token assigns after the [SEP] token until reaching maximum token number. Also, attention mask value for these [PAD] tokens are 0. Because, if the token is padding, attention mask is 1, if not it is 0. In this notebook, I tried both 512 and 128 max lenght tokens. Training and evaluations of 512 took 2 times more than 128 and the results were not significantly different. So, I advice to set 128, if somebody wants to run this notebook with same data. The handycap of setting max length to 512 is that for my data, I also have some texts which are longer than 512, but when I checked their number, I found them not too much. So I assume that if I set the lenght to 512, I will not lose too much information. This is one of the weekest points of BERT, it allows maximum 512 tokens.\n",
    "- I will map tokens to their corresponding ids.\n",
    "\n",
    "To begin these steps, I will use .encode tool of BertTokenizer."
   ]
  },
  {
   "cell_type": "code",
   "execution_count": 25,
   "metadata": {
    "colab": {
     "base_uri": "https://localhost:8080/",
     "height": 156
    },
    "colab_type": "code",
    "id": "9Vm0MhHKYkIa",
    "outputId": "289f9f79-9abf-44c2-fae0-a2afb3a1a6d8"
   },
   "outputs": [
    {
     "name": "stdout",
     "output_type": "stream",
     "text": [
      "Original:  this is a cute little book that is fairly short and easy to read this author fell in love with a silver camper bought it refurbished it and off she went to camp for six months those six months turned into a trip of a life time and a move across the country by the time it was over\n",
      "\n",
      "i give it a little bit lower score than others because i didnt find it laugh out loud hilarious it was funny in a cute way and for someone who owns a camper and goes camping often much of this book is right on target about how not to  and it was right on target about life in a campground\n",
      "\n",
      "overall this is an enjoyable book it is cute and clever it is not a long read and it is right on target in many ways \n",
      "enjoy\n",
      "Token IDs: [101, 2023, 2003, 1037, 10140, 2210, 2338, 2008, 2003, 7199, 2460, 1998, 3733, 2000, 3191, 2023, 3166, 3062, 1999, 2293, 2007, 1037, 3165, 3409, 2121, 4149, 2009, 18662, 2009, 1998, 2125, 2016, 2253, 2000, 3409, 2005, 2416, 2706, 2216, 2416, 2706, 2357, 2046, 1037, 4440, 1997, 1037, 2166, 2051, 1998, 1037, 2693, 2408, 1996, 2406, 2011, 1996, 2051, 2009, 2001, 2058, 1045, 2507, 2009, 1037, 2210, 2978, 2896, 3556, 2084, 2500, 2138, 1045, 2134, 2102, 2424, 2009, 4756, 2041, 5189, 26316, 2009, 2001, 6057, 1999, 1037, 10140, 2126, 1998, 2005, 2619, 2040, 8617, 1037, 3409, 2121, 1998, 3632, 13215, 2411, 2172, 1997, 2023, 2338, 2003, 2157, 2006, 4539, 2055, 2129, 2025, 2000, 1998, 2009, 2001, 2157, 2006, 4539, 2055, 2166, 1999, 1037, 29144, 3452, 2023, 2003, 2019, 102]\n"
     ]
    }
   ],
   "source": [
    "# To tokenize texts and map the tokens to corresponding IDs\n",
    "input_ids = [] # creating empty list to keep input ids\n",
    "\n",
    "# Loop for each element in text\n",
    "for element in text:\n",
    "\n",
    "    encoded_text = tokenizer.encode(element,add_special_tokens = True, # Add '[CLS]' and '[SEP]'\n",
    "                                         max_length = 128)  # setting all sentences to max_len\n",
    "                                \n",
    "    # firstly I tried it for 512 and I tried for 128, last trial belongs to 128 so values are for 128\n",
    "    # there were no significant difference between 128 or 512 \n",
    "    \n",
    "    # keeping encoded texts as list\n",
    "    input_ids.append(encoded_text)\n",
    "\n",
    "# printing to check\n",
    "print('Original: ', text[0])\n",
    "print('Token IDs:', input_ids[0])"
   ]
  },
  {
   "cell_type": "markdown",
   "metadata": {},
   "source": [
    "For padding part, I will use pad_sequences function from keras.preprocessing.sequence library."
   ]
  },
  {
   "cell_type": "code",
   "execution_count": 45,
   "metadata": {
    "colab": {
     "base_uri": "https://localhost:8080/",
     "height": 119
    },
    "colab_type": "code",
    "id": "Cp9BPRd1tMIo",
    "outputId": "a3f2ca3f-f5f6-44ae-cc46-817cd69cfb9d"
   },
   "outputs": [
    {
     "name": "stdout",
     "output_type": "stream",
     "text": [
      "\n",
      "Padding/truncating all sentences to 128 values...\n",
      "\n",
      "Padding token: \"[PAD]\", ID: 0\n",
      "\n",
      "Done.\n"
     ]
    }
   ],
   "source": [
    "max_length = 128 # for 512, I set it to 512\n",
    "\n",
    "print(f'\\nPadding/truncating all sentences to {max_length} values...')\n",
    "\n",
    "print(f'\\nPadding token: \"{tokenizer.pad_token}\", ID: {tokenizer.pad_token_id}')\n",
    "\n",
    "# pad sequence function for pad tokens and assign zeros for shorter than max lenght\n",
    "input_ids = pad_sequences(input_ids, maxlen=max_length, dtype=\"long\", \n",
    "                          value=0, truncating=\"post\", padding=\"post\")\n",
    "\n",
    "print('\\nDone.')"
   ]
  },
  {
   "cell_type": "code",
   "execution_count": 0,
   "metadata": {
    "colab": {},
    "colab_type": "code",
    "id": "7ojtKhuPatXT"
   },
   "outputs": [],
   "source": [
    "# To keep attention masks\n",
    "attention_masks = []\n",
    "\n",
    "# Loop for each element in inputs\n",
    "for element in input_ids:\n",
    "    \n",
    "    #   I assigned the empty tokens to 0 in above cell so if token is 0, setting the mask zero\n",
    "    #   If token is larger than zero it means it is real token ID and set it to 1\n",
    "    att_mask = [int(token_id > 0) for token_id in element]\n",
    "    \n",
    "    # keeping attention masks\n",
    "    attention_masks.append(att_mask)"
   ]
  },
  {
   "cell_type": "markdown",
   "metadata": {},
   "source": [
    "Now, I have to split my data for validation. I choose same random state and test size to compare my results with previous models."
   ]
  },
  {
   "cell_type": "code",
   "execution_count": 0,
   "metadata": {
    "colab": {},
    "colab_type": "code",
    "id": "F92-y3sJawbO"
   },
   "outputs": [],
   "source": [
    "train_inputs, validation_inputs, train_labels, validation_labels = train_test_split(input_ids, target, \n",
    "                                                            random_state=42, test_size=0.2)\n",
    "# Splitting masks also with same parameters\n",
    "train_masks, validation_masks, _, _ = train_test_split(attention_masks, target,\n",
    "                                             random_state=42, test_size=0.2)"
   ]
  },
  {
   "cell_type": "markdown",
   "metadata": {},
   "source": [
    "I will concert all inputs and targets to torch tensors, it is required datatype for BERT."
   ]
  },
  {
   "cell_type": "code",
   "execution_count": 0,
   "metadata": {
    "colab": {},
    "colab_type": "code",
    "id": "mdQSuZ94a7f2"
   },
   "outputs": [],
   "source": [
    "# for inputs\n",
    "train_inputs = torch.tensor(train_inputs)\n",
    "validation_inputs = torch.tensor(validation_inputs)\n",
    "\n",
    "# for target values\n",
    "train_labels = torch.tensor(train_labels)\n",
    "validation_labels = torch.tensor(validation_labels)\n",
    "\n",
    "# for masks\n",
    "train_masks = torch.tensor(train_masks)\n",
    "validation_masks = torch.tensor(validation_masks)"
   ]
  },
  {
   "cell_type": "code",
   "execution_count": 0,
   "metadata": {
    "colab": {},
    "colab_type": "code",
    "id": "8m5nE_wKbSCA"
   },
   "outputs": [],
   "source": [
    "batch_size = 32 # in tutorial it is recommended that to set 16 or 32. I choose 32 for more batches\n",
    "\n",
    "# creating dataloader for train set\n",
    "train_data = TensorDataset(train_inputs, train_masks, train_labels)\n",
    "train_sampler = RandomSampler(train_data)\n",
    "train_dataloader = DataLoader(train_data, sampler=train_sampler, batch_size=32)\n",
    "\n",
    "# creating dataloader for validation set\n",
    "validation_data = TensorDataset(validation_inputs, validation_masks, validation_labels)\n",
    "validation_sampler = SequentialSampler(validation_data)\n",
    "validation_dataloader = DataLoader(validation_data, sampler=validation_sampler, batch_size=32)"
   ]
  },
  {
   "cell_type": "markdown",
   "metadata": {},
   "source": [
    "# Pre-trained Model "
   ]
  },
  {
   "cell_type": "markdown",
   "metadata": {},
   "source": [
    "I have formatted data for BERT, so I wil begin fine tuning of BERT. BERT has many classes for fine tuning, such as BertModel, BertForNextSentencePrediction etc. In this notebook, I will use BertForSequenceClassification. This is the simple BERT model with an added single layer on top for classification. There are different pre-trained BERT models. “bert-base-uncased” is the version that has only lowercase letters (“uncased”) and is the smaller version of the two (“base” vs “large”)."
   ]
  },
  {
   "cell_type": "code",
   "execution_count": 50,
   "metadata": {
    "colab": {
     "base_uri": "https://localhost:8080/",
     "height": 1000
    },
    "colab_type": "code",
    "id": "KwAKvngYbYSB",
    "outputId": "0cf0bbc3-e255-42b7-c193-2797f875abb1"
   },
   "outputs": [
    {
     "data": {
      "text/plain": [
       "BertForSequenceClassification(\n",
       "  (bert): BertModel(\n",
       "    (embeddings): BertEmbeddings(\n",
       "      (word_embeddings): Embedding(30522, 768, padding_idx=0)\n",
       "      (position_embeddings): Embedding(512, 768)\n",
       "      (token_type_embeddings): Embedding(2, 768)\n",
       "      (LayerNorm): LayerNorm((768,), eps=1e-12, elementwise_affine=True)\n",
       "      (dropout): Dropout(p=0.1, inplace=False)\n",
       "    )\n",
       "    (encoder): BertEncoder(\n",
       "      (layer): ModuleList(\n",
       "        (0): BertLayer(\n",
       "          (attention): BertAttention(\n",
       "            (self): BertSelfAttention(\n",
       "              (query): Linear(in_features=768, out_features=768, bias=True)\n",
       "              (key): Linear(in_features=768, out_features=768, bias=True)\n",
       "              (value): Linear(in_features=768, out_features=768, bias=True)\n",
       "              (dropout): Dropout(p=0.1, inplace=False)\n",
       "            )\n",
       "            (output): BertSelfOutput(\n",
       "              (dense): Linear(in_features=768, out_features=768, bias=True)\n",
       "              (LayerNorm): LayerNorm((768,), eps=1e-12, elementwise_affine=True)\n",
       "              (dropout): Dropout(p=0.1, inplace=False)\n",
       "            )\n",
       "          )\n",
       "          (intermediate): BertIntermediate(\n",
       "            (dense): Linear(in_features=768, out_features=3072, bias=True)\n",
       "          )\n",
       "          (output): BertOutput(\n",
       "            (dense): Linear(in_features=3072, out_features=768, bias=True)\n",
       "            (LayerNorm): LayerNorm((768,), eps=1e-12, elementwise_affine=True)\n",
       "            (dropout): Dropout(p=0.1, inplace=False)\n",
       "          )\n",
       "        )\n",
       "        (1): BertLayer(\n",
       "          (attention): BertAttention(\n",
       "            (self): BertSelfAttention(\n",
       "              (query): Linear(in_features=768, out_features=768, bias=True)\n",
       "              (key): Linear(in_features=768, out_features=768, bias=True)\n",
       "              (value): Linear(in_features=768, out_features=768, bias=True)\n",
       "              (dropout): Dropout(p=0.1, inplace=False)\n",
       "            )\n",
       "            (output): BertSelfOutput(\n",
       "              (dense): Linear(in_features=768, out_features=768, bias=True)\n",
       "              (LayerNorm): LayerNorm((768,), eps=1e-12, elementwise_affine=True)\n",
       "              (dropout): Dropout(p=0.1, inplace=False)\n",
       "            )\n",
       "          )\n",
       "          (intermediate): BertIntermediate(\n",
       "            (dense): Linear(in_features=768, out_features=3072, bias=True)\n",
       "          )\n",
       "          (output): BertOutput(\n",
       "            (dense): Linear(in_features=3072, out_features=768, bias=True)\n",
       "            (LayerNorm): LayerNorm((768,), eps=1e-12, elementwise_affine=True)\n",
       "            (dropout): Dropout(p=0.1, inplace=False)\n",
       "          )\n",
       "        )\n",
       "        (2): BertLayer(\n",
       "          (attention): BertAttention(\n",
       "            (self): BertSelfAttention(\n",
       "              (query): Linear(in_features=768, out_features=768, bias=True)\n",
       "              (key): Linear(in_features=768, out_features=768, bias=True)\n",
       "              (value): Linear(in_features=768, out_features=768, bias=True)\n",
       "              (dropout): Dropout(p=0.1, inplace=False)\n",
       "            )\n",
       "            (output): BertSelfOutput(\n",
       "              (dense): Linear(in_features=768, out_features=768, bias=True)\n",
       "              (LayerNorm): LayerNorm((768,), eps=1e-12, elementwise_affine=True)\n",
       "              (dropout): Dropout(p=0.1, inplace=False)\n",
       "            )\n",
       "          )\n",
       "          (intermediate): BertIntermediate(\n",
       "            (dense): Linear(in_features=768, out_features=3072, bias=True)\n",
       "          )\n",
       "          (output): BertOutput(\n",
       "            (dense): Linear(in_features=3072, out_features=768, bias=True)\n",
       "            (LayerNorm): LayerNorm((768,), eps=1e-12, elementwise_affine=True)\n",
       "            (dropout): Dropout(p=0.1, inplace=False)\n",
       "          )\n",
       "        )\n",
       "        (3): BertLayer(\n",
       "          (attention): BertAttention(\n",
       "            (self): BertSelfAttention(\n",
       "              (query): Linear(in_features=768, out_features=768, bias=True)\n",
       "              (key): Linear(in_features=768, out_features=768, bias=True)\n",
       "              (value): Linear(in_features=768, out_features=768, bias=True)\n",
       "              (dropout): Dropout(p=0.1, inplace=False)\n",
       "            )\n",
       "            (output): BertSelfOutput(\n",
       "              (dense): Linear(in_features=768, out_features=768, bias=True)\n",
       "              (LayerNorm): LayerNorm((768,), eps=1e-12, elementwise_affine=True)\n",
       "              (dropout): Dropout(p=0.1, inplace=False)\n",
       "            )\n",
       "          )\n",
       "          (intermediate): BertIntermediate(\n",
       "            (dense): Linear(in_features=768, out_features=3072, bias=True)\n",
       "          )\n",
       "          (output): BertOutput(\n",
       "            (dense): Linear(in_features=3072, out_features=768, bias=True)\n",
       "            (LayerNorm): LayerNorm((768,), eps=1e-12, elementwise_affine=True)\n",
       "            (dropout): Dropout(p=0.1, inplace=False)\n",
       "          )\n",
       "        )\n",
       "        (4): BertLayer(\n",
       "          (attention): BertAttention(\n",
       "            (self): BertSelfAttention(\n",
       "              (query): Linear(in_features=768, out_features=768, bias=True)\n",
       "              (key): Linear(in_features=768, out_features=768, bias=True)\n",
       "              (value): Linear(in_features=768, out_features=768, bias=True)\n",
       "              (dropout): Dropout(p=0.1, inplace=False)\n",
       "            )\n",
       "            (output): BertSelfOutput(\n",
       "              (dense): Linear(in_features=768, out_features=768, bias=True)\n",
       "              (LayerNorm): LayerNorm((768,), eps=1e-12, elementwise_affine=True)\n",
       "              (dropout): Dropout(p=0.1, inplace=False)\n",
       "            )\n",
       "          )\n",
       "          (intermediate): BertIntermediate(\n",
       "            (dense): Linear(in_features=768, out_features=3072, bias=True)\n",
       "          )\n",
       "          (output): BertOutput(\n",
       "            (dense): Linear(in_features=3072, out_features=768, bias=True)\n",
       "            (LayerNorm): LayerNorm((768,), eps=1e-12, elementwise_affine=True)\n",
       "            (dropout): Dropout(p=0.1, inplace=False)\n",
       "          )\n",
       "        )\n",
       "        (5): BertLayer(\n",
       "          (attention): BertAttention(\n",
       "            (self): BertSelfAttention(\n",
       "              (query): Linear(in_features=768, out_features=768, bias=True)\n",
       "              (key): Linear(in_features=768, out_features=768, bias=True)\n",
       "              (value): Linear(in_features=768, out_features=768, bias=True)\n",
       "              (dropout): Dropout(p=0.1, inplace=False)\n",
       "            )\n",
       "            (output): BertSelfOutput(\n",
       "              (dense): Linear(in_features=768, out_features=768, bias=True)\n",
       "              (LayerNorm): LayerNorm((768,), eps=1e-12, elementwise_affine=True)\n",
       "              (dropout): Dropout(p=0.1, inplace=False)\n",
       "            )\n",
       "          )\n",
       "          (intermediate): BertIntermediate(\n",
       "            (dense): Linear(in_features=768, out_features=3072, bias=True)\n",
       "          )\n",
       "          (output): BertOutput(\n",
       "            (dense): Linear(in_features=3072, out_features=768, bias=True)\n",
       "            (LayerNorm): LayerNorm((768,), eps=1e-12, elementwise_affine=True)\n",
       "            (dropout): Dropout(p=0.1, inplace=False)\n",
       "          )\n",
       "        )\n",
       "        (6): BertLayer(\n",
       "          (attention): BertAttention(\n",
       "            (self): BertSelfAttention(\n",
       "              (query): Linear(in_features=768, out_features=768, bias=True)\n",
       "              (key): Linear(in_features=768, out_features=768, bias=True)\n",
       "              (value): Linear(in_features=768, out_features=768, bias=True)\n",
       "              (dropout): Dropout(p=0.1, inplace=False)\n",
       "            )\n",
       "            (output): BertSelfOutput(\n",
       "              (dense): Linear(in_features=768, out_features=768, bias=True)\n",
       "              (LayerNorm): LayerNorm((768,), eps=1e-12, elementwise_affine=True)\n",
       "              (dropout): Dropout(p=0.1, inplace=False)\n",
       "            )\n",
       "          )\n",
       "          (intermediate): BertIntermediate(\n",
       "            (dense): Linear(in_features=768, out_features=3072, bias=True)\n",
       "          )\n",
       "          (output): BertOutput(\n",
       "            (dense): Linear(in_features=3072, out_features=768, bias=True)\n",
       "            (LayerNorm): LayerNorm((768,), eps=1e-12, elementwise_affine=True)\n",
       "            (dropout): Dropout(p=0.1, inplace=False)\n",
       "          )\n",
       "        )\n",
       "        (7): BertLayer(\n",
       "          (attention): BertAttention(\n",
       "            (self): BertSelfAttention(\n",
       "              (query): Linear(in_features=768, out_features=768, bias=True)\n",
       "              (key): Linear(in_features=768, out_features=768, bias=True)\n",
       "              (value): Linear(in_features=768, out_features=768, bias=True)\n",
       "              (dropout): Dropout(p=0.1, inplace=False)\n",
       "            )\n",
       "            (output): BertSelfOutput(\n",
       "              (dense): Linear(in_features=768, out_features=768, bias=True)\n",
       "              (LayerNorm): LayerNorm((768,), eps=1e-12, elementwise_affine=True)\n",
       "              (dropout): Dropout(p=0.1, inplace=False)\n",
       "            )\n",
       "          )\n",
       "          (intermediate): BertIntermediate(\n",
       "            (dense): Linear(in_features=768, out_features=3072, bias=True)\n",
       "          )\n",
       "          (output): BertOutput(\n",
       "            (dense): Linear(in_features=3072, out_features=768, bias=True)\n",
       "            (LayerNorm): LayerNorm((768,), eps=1e-12, elementwise_affine=True)\n",
       "            (dropout): Dropout(p=0.1, inplace=False)\n",
       "          )\n",
       "        )\n",
       "        (8): BertLayer(\n",
       "          (attention): BertAttention(\n",
       "            (self): BertSelfAttention(\n",
       "              (query): Linear(in_features=768, out_features=768, bias=True)\n",
       "              (key): Linear(in_features=768, out_features=768, bias=True)\n",
       "              (value): Linear(in_features=768, out_features=768, bias=True)\n",
       "              (dropout): Dropout(p=0.1, inplace=False)\n",
       "            )\n",
       "            (output): BertSelfOutput(\n",
       "              (dense): Linear(in_features=768, out_features=768, bias=True)\n",
       "              (LayerNorm): LayerNorm((768,), eps=1e-12, elementwise_affine=True)\n",
       "              (dropout): Dropout(p=0.1, inplace=False)\n",
       "            )\n",
       "          )\n",
       "          (intermediate): BertIntermediate(\n",
       "            (dense): Linear(in_features=768, out_features=3072, bias=True)\n",
       "          )\n",
       "          (output): BertOutput(\n",
       "            (dense): Linear(in_features=3072, out_features=768, bias=True)\n",
       "            (LayerNorm): LayerNorm((768,), eps=1e-12, elementwise_affine=True)\n",
       "            (dropout): Dropout(p=0.1, inplace=False)\n",
       "          )\n",
       "        )\n",
       "        (9): BertLayer(\n",
       "          (attention): BertAttention(\n",
       "            (self): BertSelfAttention(\n",
       "              (query): Linear(in_features=768, out_features=768, bias=True)\n",
       "              (key): Linear(in_features=768, out_features=768, bias=True)\n",
       "              (value): Linear(in_features=768, out_features=768, bias=True)\n",
       "              (dropout): Dropout(p=0.1, inplace=False)\n",
       "            )\n",
       "            (output): BertSelfOutput(\n",
       "              (dense): Linear(in_features=768, out_features=768, bias=True)\n",
       "              (LayerNorm): LayerNorm((768,), eps=1e-12, elementwise_affine=True)\n",
       "              (dropout): Dropout(p=0.1, inplace=False)\n",
       "            )\n",
       "          )\n",
       "          (intermediate): BertIntermediate(\n",
       "            (dense): Linear(in_features=768, out_features=3072, bias=True)\n",
       "          )\n",
       "          (output): BertOutput(\n",
       "            (dense): Linear(in_features=3072, out_features=768, bias=True)\n",
       "            (LayerNorm): LayerNorm((768,), eps=1e-12, elementwise_affine=True)\n",
       "            (dropout): Dropout(p=0.1, inplace=False)\n",
       "          )\n",
       "        )\n",
       "        (10): BertLayer(\n",
       "          (attention): BertAttention(\n",
       "            (self): BertSelfAttention(\n",
       "              (query): Linear(in_features=768, out_features=768, bias=True)\n",
       "              (key): Linear(in_features=768, out_features=768, bias=True)\n",
       "              (value): Linear(in_features=768, out_features=768, bias=True)\n",
       "              (dropout): Dropout(p=0.1, inplace=False)\n",
       "            )\n",
       "            (output): BertSelfOutput(\n",
       "              (dense): Linear(in_features=768, out_features=768, bias=True)\n",
       "              (LayerNorm): LayerNorm((768,), eps=1e-12, elementwise_affine=True)\n",
       "              (dropout): Dropout(p=0.1, inplace=False)\n",
       "            )\n",
       "          )\n",
       "          (intermediate): BertIntermediate(\n",
       "            (dense): Linear(in_features=768, out_features=3072, bias=True)\n",
       "          )\n",
       "          (output): BertOutput(\n",
       "            (dense): Linear(in_features=3072, out_features=768, bias=True)\n",
       "            (LayerNorm): LayerNorm((768,), eps=1e-12, elementwise_affine=True)\n",
       "            (dropout): Dropout(p=0.1, inplace=False)\n",
       "          )\n",
       "        )\n",
       "        (11): BertLayer(\n",
       "          (attention): BertAttention(\n",
       "            (self): BertSelfAttention(\n",
       "              (query): Linear(in_features=768, out_features=768, bias=True)\n",
       "              (key): Linear(in_features=768, out_features=768, bias=True)\n",
       "              (value): Linear(in_features=768, out_features=768, bias=True)\n",
       "              (dropout): Dropout(p=0.1, inplace=False)\n",
       "            )\n",
       "            (output): BertSelfOutput(\n",
       "              (dense): Linear(in_features=768, out_features=768, bias=True)\n",
       "              (LayerNorm): LayerNorm((768,), eps=1e-12, elementwise_affine=True)\n",
       "              (dropout): Dropout(p=0.1, inplace=False)\n",
       "            )\n",
       "          )\n",
       "          (intermediate): BertIntermediate(\n",
       "            (dense): Linear(in_features=768, out_features=3072, bias=True)\n",
       "          )\n",
       "          (output): BertOutput(\n",
       "            (dense): Linear(in_features=3072, out_features=768, bias=True)\n",
       "            (LayerNorm): LayerNorm((768,), eps=1e-12, elementwise_affine=True)\n",
       "            (dropout): Dropout(p=0.1, inplace=False)\n",
       "          )\n",
       "        )\n",
       "      )\n",
       "    )\n",
       "    (pooler): BertPooler(\n",
       "      (dense): Linear(in_features=768, out_features=768, bias=True)\n",
       "      (activation): Tanh()\n",
       "    )\n",
       "  )\n",
       "  (dropout): Dropout(p=0.1, inplace=False)\n",
       "  (classifier): Linear(in_features=768, out_features=2, bias=True)\n",
       ")"
      ]
     },
     "execution_count": 50,
     "metadata": {
      "tags": []
     },
     "output_type": "execute_result"
    }
   ],
   "source": [
    "model = BertForSequenceClassification.from_pretrained(\n",
    "    \"bert-base-uncased\", # use base with lower case\n",
    "    num_labels = 2, # my target is binary so I choose 2   \n",
    "    output_attentions = False, # model does not return attentions weights\n",
    "    output_hidden_states = False) # for returning all hidden-states\n",
    "\n",
    "# inform Pytorch to run model in GPU\n",
    "model.cuda()"
   ]
  },
  {
   "cell_type": "markdown",
   "metadata": {},
   "source": [
    "To understand parameters and what embedding layer, transformers and output layer contains, I will print them."
   ]
  },
  {
   "cell_type": "code",
   "execution_count": 51,
   "metadata": {
    "colab": {
     "base_uri": "https://localhost:8080/",
     "height": 612
    },
    "colab_type": "code",
    "id": "Oh4ApNSjbcAS",
    "outputId": "57ba1d32-2ab5-4321-875f-aa6ea6b6d146"
   },
   "outputs": [
    {
     "name": "stdout",
     "output_type": "stream",
     "text": [
      "The BERT model has 201 different named parameters.\n",
      "\n",
      "==== Embedding Layer ====\n",
      "\n",
      "bert.embeddings.word_embeddings.weight                  (30522, 768)\n",
      "bert.embeddings.position_embeddings.weight                (512, 768)\n",
      "bert.embeddings.token_type_embeddings.weight                (2, 768)\n",
      "bert.embeddings.LayerNorm.weight                              (768,)\n",
      "bert.embeddings.LayerNorm.bias                                (768,)\n",
      "\n",
      "==== First Transformer ====\n",
      "\n",
      "bert.encoder.layer.0.attention.self.query.weight          (768, 768)\n",
      "bert.encoder.layer.0.attention.self.query.bias                (768,)\n",
      "bert.encoder.layer.0.attention.self.key.weight            (768, 768)\n",
      "bert.encoder.layer.0.attention.self.key.bias                  (768,)\n",
      "bert.encoder.layer.0.attention.self.value.weight          (768, 768)\n",
      "bert.encoder.layer.0.attention.self.value.bias                (768,)\n",
      "bert.encoder.layer.0.attention.output.dense.weight        (768, 768)\n",
      "bert.encoder.layer.0.attention.output.dense.bias              (768,)\n",
      "bert.encoder.layer.0.attention.output.LayerNorm.weight        (768,)\n",
      "bert.encoder.layer.0.attention.output.LayerNorm.bias          (768,)\n",
      "bert.encoder.layer.0.intermediate.dense.weight           (3072, 768)\n",
      "bert.encoder.layer.0.intermediate.dense.bias                 (3072,)\n",
      "bert.encoder.layer.0.output.dense.weight                 (768, 3072)\n",
      "bert.encoder.layer.0.output.dense.bias                        (768,)\n",
      "bert.encoder.layer.0.output.LayerNorm.weight                  (768,)\n",
      "bert.encoder.layer.0.output.LayerNorm.bias                    (768,)\n",
      "\n",
      "==== Output Layer ====\n",
      "\n",
      "bert.pooler.dense.weight                                  (768, 768)\n",
      "bert.pooler.dense.bias                                        (768,)\n",
      "classifier.weight                                           (2, 768)\n",
      "classifier.bias                                                 (2,)\n"
     ]
    }
   ],
   "source": [
    "params = list(model.named_parameters())\n",
    "\n",
    "print('The BERT model has {:} different named parameters.\\n'.format(len(params)))\n",
    "\n",
    "print('==== Embedding Layer ====\\n')\n",
    "\n",
    "for p in params[0:5]:\n",
    "    print(\"{:<55} {:>12}\".format(p[0], str(tuple(p[1].size()))))\n",
    "\n",
    "print('\\n==== First Transformer ====\\n')\n",
    "\n",
    "for p in params[5:21]:\n",
    "    print(\"{:<55} {:>12}\".format(p[0], str(tuple(p[1].size()))))\n",
    "\n",
    "print('\\n==== Output Layer ====\\n')\n",
    "\n",
    "for p in params[-4:]:\n",
    "    print(\"{:<55} {:>12}\".format(p[0], str(tuple(p[1].size()))))"
   ]
  },
  {
   "cell_type": "markdown",
   "metadata": {},
   "source": [
    "# Optimizer"
   ]
  },
  {
   "cell_type": "markdown",
   "metadata": {},
   "source": [
    "To tune the optimizer, it is recommended in tutorial to choose learning rate for AdamW optimizer 5e-5, 3e-5 or 2e-5. I prefer 2-e5 to be more precise. 1e-8 is also very small for epsilon value but it is good to prevent any division by zero in the implementation, detailed [here](https://machinelearningmastery.com/adam-optimization-algorithm-for-deep-learning/). "
   ]
  },
  {
   "cell_type": "code",
   "execution_count": 0,
   "metadata": {
    "colab": {},
    "colab_type": "code",
    "id": "KekfSfNPbnR_"
   },
   "outputs": [],
   "source": [
    "optimizer = AdamW(model.parameters(),lr = 2e-5, eps = 1e-8)"
   ]
  },
  {
   "cell_type": "code",
   "execution_count": 0,
   "metadata": {
    "colab": {},
    "colab_type": "code",
    "id": "SPUUU-AnbuPd"
   },
   "outputs": [],
   "source": [
    "# 5 epoches is too much for this model, but to get better results and make sure model is learning or not, I choose it\n",
    "epochs = 5\n",
    "\n",
    "# number of steps data loader times epoch number\n",
    "total_steps = len(train_dataloader) * epochs\n",
    "\n",
    "# setting scheduler\n",
    "scheduler = get_linear_schedule_with_warmup(optimizer, num_warmup_steps = 0,\n",
    "                                            num_training_steps = total_steps)"
   ]
  },
  {
   "cell_type": "code",
   "execution_count": 0,
   "metadata": {
    "colab": {},
    "colab_type": "code",
    "id": "ZM2FxwESb0Ru"
   },
   "outputs": [],
   "source": [
    "def flat_accuracy(pred, true):\n",
    "    '''function for flatten accuracy'''\n",
    "    pred_flat = np.argmax(pred, axis=1).flatten()\n",
    "    labels_flat = true.flatten()\n",
    "    return np.sum(pred_flat == labels_flat) / len(labels_flat)"
   ]
  },
  {
   "cell_type": "code",
   "execution_count": 0,
   "metadata": {
    "colab": {},
    "colab_type": "code",
    "id": "u9EkYZgHb8nH"
   },
   "outputs": [],
   "source": [
    "def format_time(elapsed):\n",
    "    '''\n",
    "    to see time taking second and returns time as string with hour, min, sec\n",
    "    '''\n",
    "    elapsed_rounded = int(round((elapsed)))\n",
    "    return str(datetime.timedelta(seconds=elapsed_rounded))"
   ]
  },
  {
   "cell_type": "markdown",
   "metadata": {
    "colab": {},
    "colab_type": "code",
    "id": "rX2Qzc_7ws73"
   },
   "source": [
    "# Training the Model"
   ]
  },
  {
   "cell_type": "markdown",
   "metadata": {},
   "source": [
    "My training cell generally consists of two parts. First one for training, second one for evaluation from validation data. Training part is unpacking my data, loading data to GPU, clear gradients which calculated in the previous pass. As a default, gradients are kept in PyTorch, so I will clear out them explicitly. There are forward and backward passes also in training loop because forward is needed for feeding input data through network and backward for backpropagation. And last steps for training part is optimizer and observe variables for monitoring progress.\n",
    "\n",
    "For evaluation part, data is unpacked again, it is loaded GPU like train part. There is forward pass to feed input data through network and calculating progress. "
   ]
  },
  {
   "cell_type": "code",
   "execution_count": 56,
   "metadata": {
    "colab": {
     "base_uri": "https://localhost:8080/",
     "height": 1000
    },
    "colab_type": "code",
    "id": "_MUc3js8wu8T",
    "outputId": "b7b0aaee-6f57-4654-b28a-05c085b5929d"
   },
   "outputs": [
    {
     "name": "stdout",
     "output_type": "stream",
     "text": [
      "\n",
      "======== Epoch 1 / 5 ========\n",
      "Training...\n",
      "  Batch    40  of  2,000.    Elapsed: 0:00:15.\n",
      "  Batch    80  of  2,000.    Elapsed: 0:00:30.\n",
      "  Batch   120  of  2,000.    Elapsed: 0:00:45.\n",
      "  Batch   160  of  2,000.    Elapsed: 0:01:00.\n",
      "  Batch   200  of  2,000.    Elapsed: 0:01:15.\n",
      "  Batch   240  of  2,000.    Elapsed: 0:01:30.\n",
      "  Batch   280  of  2,000.    Elapsed: 0:01:45.\n",
      "  Batch   320  of  2,000.    Elapsed: 0:02:01.\n",
      "  Batch   360  of  2,000.    Elapsed: 0:02:16.\n",
      "  Batch   400  of  2,000.    Elapsed: 0:02:31.\n",
      "  Batch   440  of  2,000.    Elapsed: 0:02:46.\n",
      "  Batch   480  of  2,000.    Elapsed: 0:03:01.\n",
      "  Batch   520  of  2,000.    Elapsed: 0:03:16.\n",
      "  Batch   560  of  2,000.    Elapsed: 0:03:31.\n",
      "  Batch   600  of  2,000.    Elapsed: 0:03:46.\n",
      "  Batch   640  of  2,000.    Elapsed: 0:04:01.\n",
      "  Batch   680  of  2,000.    Elapsed: 0:04:16.\n",
      "  Batch   720  of  2,000.    Elapsed: 0:04:31.\n",
      "  Batch   760  of  2,000.    Elapsed: 0:04:46.\n",
      "  Batch   800  of  2,000.    Elapsed: 0:05:01.\n",
      "  Batch   840  of  2,000.    Elapsed: 0:05:16.\n",
      "  Batch   880  of  2,000.    Elapsed: 0:05:31.\n",
      "  Batch   920  of  2,000.    Elapsed: 0:05:46.\n",
      "  Batch   960  of  2,000.    Elapsed: 0:06:01.\n",
      "  Batch 1,000  of  2,000.    Elapsed: 0:06:16.\n",
      "  Batch 1,040  of  2,000.    Elapsed: 0:06:31.\n",
      "  Batch 1,080  of  2,000.    Elapsed: 0:06:46.\n",
      "  Batch 1,120  of  2,000.    Elapsed: 0:07:01.\n",
      "  Batch 1,160  of  2,000.    Elapsed: 0:07:16.\n",
      "  Batch 1,200  of  2,000.    Elapsed: 0:07:31.\n",
      "  Batch 1,240  of  2,000.    Elapsed: 0:07:46.\n",
      "  Batch 1,280  of  2,000.    Elapsed: 0:08:02.\n",
      "  Batch 1,320  of  2,000.    Elapsed: 0:08:17.\n",
      "  Batch 1,360  of  2,000.    Elapsed: 0:08:32.\n",
      "  Batch 1,400  of  2,000.    Elapsed: 0:08:47.\n",
      "  Batch 1,440  of  2,000.    Elapsed: 0:09:02.\n",
      "  Batch 1,480  of  2,000.    Elapsed: 0:09:17.\n",
      "  Batch 1,520  of  2,000.    Elapsed: 0:09:32.\n",
      "  Batch 1,560  of  2,000.    Elapsed: 0:09:47.\n",
      "  Batch 1,600  of  2,000.    Elapsed: 0:10:02.\n",
      "  Batch 1,640  of  2,000.    Elapsed: 0:10:17.\n",
      "  Batch 1,680  of  2,000.    Elapsed: 0:10:32.\n",
      "  Batch 1,720  of  2,000.    Elapsed: 0:10:47.\n",
      "  Batch 1,760  of  2,000.    Elapsed: 0:11:02.\n",
      "  Batch 1,800  of  2,000.    Elapsed: 0:11:17.\n",
      "  Batch 1,840  of  2,000.    Elapsed: 0:11:32.\n",
      "  Batch 1,880  of  2,000.    Elapsed: 0:11:47.\n",
      "  Batch 1,920  of  2,000.    Elapsed: 0:12:02.\n",
      "  Batch 1,960  of  2,000.    Elapsed: 0:12:17.\n",
      "\n",
      "  Average training loss: 0.15\n",
      "  Training epcoh took: 0:12:31\n",
      "\n",
      "Running Validation...\n",
      "  Accuracy: 0.95\n",
      "  Validation took: 0:00:58\n",
      "\n",
      "======== Epoch 2 / 5 ========\n",
      "Training...\n",
      "  Batch    40  of  2,000.    Elapsed: 0:00:15.\n",
      "  Batch    80  of  2,000.    Elapsed: 0:00:30.\n",
      "  Batch   120  of  2,000.    Elapsed: 0:00:45.\n",
      "  Batch   160  of  2,000.    Elapsed: 0:01:00.\n",
      "  Batch   200  of  2,000.    Elapsed: 0:01:15.\n",
      "  Batch   240  of  2,000.    Elapsed: 0:01:30.\n",
      "  Batch   280  of  2,000.    Elapsed: 0:01:45.\n",
      "  Batch   320  of  2,000.    Elapsed: 0:02:00.\n",
      "  Batch   360  of  2,000.    Elapsed: 0:02:15.\n",
      "  Batch   400  of  2,000.    Elapsed: 0:02:30.\n",
      "  Batch   440  of  2,000.    Elapsed: 0:02:45.\n",
      "  Batch   480  of  2,000.    Elapsed: 0:03:00.\n",
      "  Batch   520  of  2,000.    Elapsed: 0:03:15.\n",
      "  Batch   560  of  2,000.    Elapsed: 0:03:30.\n",
      "  Batch   600  of  2,000.    Elapsed: 0:03:45.\n",
      "  Batch   640  of  2,000.    Elapsed: 0:04:00.\n",
      "  Batch   680  of  2,000.    Elapsed: 0:04:15.\n",
      "  Batch   720  of  2,000.    Elapsed: 0:04:30.\n",
      "  Batch   760  of  2,000.    Elapsed: 0:04:45.\n",
      "  Batch   800  of  2,000.    Elapsed: 0:05:00.\n",
      "  Batch   840  of  2,000.    Elapsed: 0:05:15.\n",
      "  Batch   880  of  2,000.    Elapsed: 0:05:30.\n",
      "  Batch   920  of  2,000.    Elapsed: 0:05:45.\n",
      "  Batch   960  of  2,000.    Elapsed: 0:06:00.\n",
      "  Batch 1,000  of  2,000.    Elapsed: 0:06:15.\n",
      "  Batch 1,040  of  2,000.    Elapsed: 0:06:30.\n",
      "  Batch 1,080  of  2,000.    Elapsed: 0:06:45.\n",
      "  Batch 1,120  of  2,000.    Elapsed: 0:07:00.\n",
      "  Batch 1,160  of  2,000.    Elapsed: 0:07:15.\n",
      "  Batch 1,200  of  2,000.    Elapsed: 0:07:30.\n",
      "  Batch 1,240  of  2,000.    Elapsed: 0:07:45.\n",
      "  Batch 1,280  of  2,000.    Elapsed: 0:08:00.\n",
      "  Batch 1,320  of  2,000.    Elapsed: 0:08:15.\n",
      "  Batch 1,360  of  2,000.    Elapsed: 0:08:30.\n",
      "  Batch 1,400  of  2,000.    Elapsed: 0:08:45.\n",
      "  Batch 1,440  of  2,000.    Elapsed: 0:09:00.\n",
      "  Batch 1,480  of  2,000.    Elapsed: 0:09:15.\n",
      "  Batch 1,520  of  2,000.    Elapsed: 0:09:30.\n",
      "  Batch 1,560  of  2,000.    Elapsed: 0:09:44.\n",
      "  Batch 1,600  of  2,000.    Elapsed: 0:09:59.\n",
      "  Batch 1,640  of  2,000.    Elapsed: 0:10:14.\n",
      "  Batch 1,680  of  2,000.    Elapsed: 0:10:29.\n",
      "  Batch 1,720  of  2,000.    Elapsed: 0:10:44.\n",
      "  Batch 1,760  of  2,000.    Elapsed: 0:11:00.\n",
      "  Batch 1,800  of  2,000.    Elapsed: 0:11:15.\n",
      "  Batch 1,840  of  2,000.    Elapsed: 0:11:30.\n",
      "  Batch 1,880  of  2,000.    Elapsed: 0:11:45.\n",
      "  Batch 1,920  of  2,000.    Elapsed: 0:12:00.\n",
      "  Batch 1,960  of  2,000.    Elapsed: 0:12:15.\n",
      "\n",
      "  Average training loss: 0.10\n",
      "  Training epcoh took: 0:12:29\n",
      "\n",
      "Running Validation...\n",
      "  Accuracy: 0.95\n",
      "  Validation took: 0:00:58\n",
      "\n",
      "======== Epoch 3 / 5 ========\n",
      "Training...\n",
      "  Batch    40  of  2,000.    Elapsed: 0:00:15.\n",
      "  Batch    80  of  2,000.    Elapsed: 0:00:30.\n",
      "  Batch   120  of  2,000.    Elapsed: 0:00:45.\n",
      "  Batch   160  of  2,000.    Elapsed: 0:01:00.\n",
      "  Batch   200  of  2,000.    Elapsed: 0:01:15.\n",
      "  Batch   240  of  2,000.    Elapsed: 0:01:30.\n",
      "  Batch   280  of  2,000.    Elapsed: 0:01:45.\n",
      "  Batch   320  of  2,000.    Elapsed: 0:02:00.\n",
      "  Batch   360  of  2,000.    Elapsed: 0:02:15.\n",
      "  Batch   400  of  2,000.    Elapsed: 0:02:30.\n",
      "  Batch   440  of  2,000.    Elapsed: 0:02:45.\n",
      "  Batch   480  of  2,000.    Elapsed: 0:03:00.\n",
      "  Batch   520  of  2,000.    Elapsed: 0:03:15.\n",
      "  Batch   560  of  2,000.    Elapsed: 0:03:30.\n",
      "  Batch   600  of  2,000.    Elapsed: 0:03:45.\n",
      "  Batch   640  of  2,000.    Elapsed: 0:04:00.\n",
      "  Batch   680  of  2,000.    Elapsed: 0:04:15.\n",
      "  Batch   720  of  2,000.    Elapsed: 0:04:30.\n",
      "  Batch   760  of  2,000.    Elapsed: 0:04:45.\n",
      "  Batch   800  of  2,000.    Elapsed: 0:05:00.\n",
      "  Batch   840  of  2,000.    Elapsed: 0:05:15.\n",
      "  Batch   880  of  2,000.    Elapsed: 0:05:30.\n",
      "  Batch   920  of  2,000.    Elapsed: 0:05:45.\n",
      "  Batch   960  of  2,000.    Elapsed: 0:06:00.\n",
      "  Batch 1,000  of  2,000.    Elapsed: 0:06:15.\n",
      "  Batch 1,040  of  2,000.    Elapsed: 0:06:30.\n",
      "  Batch 1,080  of  2,000.    Elapsed: 0:06:45.\n",
      "  Batch 1,120  of  2,000.    Elapsed: 0:07:00.\n",
      "  Batch 1,160  of  2,000.    Elapsed: 0:07:15.\n",
      "  Batch 1,200  of  2,000.    Elapsed: 0:07:30.\n",
      "  Batch 1,240  of  2,000.    Elapsed: 0:07:45.\n",
      "  Batch 1,280  of  2,000.    Elapsed: 0:08:00.\n",
      "  Batch 1,320  of  2,000.    Elapsed: 0:08:15.\n",
      "  Batch 1,360  of  2,000.    Elapsed: 0:08:30.\n",
      "  Batch 1,400  of  2,000.    Elapsed: 0:08:45.\n",
      "  Batch 1,440  of  2,000.    Elapsed: 0:09:00.\n",
      "  Batch 1,480  of  2,000.    Elapsed: 0:09:15.\n",
      "  Batch 1,520  of  2,000.    Elapsed: 0:09:30.\n",
      "  Batch 1,560  of  2,000.    Elapsed: 0:09:45.\n",
      "  Batch 1,600  of  2,000.    Elapsed: 0:10:00.\n",
      "  Batch 1,640  of  2,000.    Elapsed: 0:10:15.\n",
      "  Batch 1,680  of  2,000.    Elapsed: 0:10:30.\n",
      "  Batch 1,720  of  2,000.    Elapsed: 0:10:45.\n",
      "  Batch 1,760  of  2,000.    Elapsed: 0:11:00.\n",
      "  Batch 1,800  of  2,000.    Elapsed: 0:11:15.\n",
      "  Batch 1,840  of  2,000.    Elapsed: 0:11:30.\n",
      "  Batch 1,880  of  2,000.    Elapsed: 0:11:45.\n",
      "  Batch 1,920  of  2,000.    Elapsed: 0:12:00.\n",
      "  Batch 1,960  of  2,000.    Elapsed: 0:12:15.\n",
      "\n",
      "  Average training loss: 0.06\n",
      "  Training epcoh took: 0:12:30\n",
      "\n",
      "Running Validation...\n",
      "  Accuracy: 0.95\n",
      "  Validation took: 0:00:58\n",
      "\n",
      "======== Epoch 4 / 5 ========\n",
      "Training...\n",
      "  Batch    40  of  2,000.    Elapsed: 0:00:15.\n",
      "  Batch    80  of  2,000.    Elapsed: 0:00:30.\n",
      "  Batch   120  of  2,000.    Elapsed: 0:00:45.\n",
      "  Batch   160  of  2,000.    Elapsed: 0:01:00.\n",
      "  Batch   200  of  2,000.    Elapsed: 0:01:15.\n",
      "  Batch   240  of  2,000.    Elapsed: 0:01:30.\n",
      "  Batch   280  of  2,000.    Elapsed: 0:01:45.\n",
      "  Batch   320  of  2,000.    Elapsed: 0:02:00.\n",
      "  Batch   360  of  2,000.    Elapsed: 0:02:15.\n",
      "  Batch   400  of  2,000.    Elapsed: 0:02:30.\n",
      "  Batch   440  of  2,000.    Elapsed: 0:02:45.\n",
      "  Batch   480  of  2,000.    Elapsed: 0:02:59.\n",
      "  Batch   520  of  2,000.    Elapsed: 0:03:14.\n",
      "  Batch   560  of  2,000.    Elapsed: 0:03:29.\n",
      "  Batch   600  of  2,000.    Elapsed: 0:03:44.\n",
      "  Batch   640  of  2,000.    Elapsed: 0:03:59.\n",
      "  Batch   680  of  2,000.    Elapsed: 0:04:14.\n",
      "  Batch   720  of  2,000.    Elapsed: 0:04:29.\n",
      "  Batch   760  of  2,000.    Elapsed: 0:04:44.\n",
      "  Batch   800  of  2,000.    Elapsed: 0:04:59.\n",
      "  Batch   840  of  2,000.    Elapsed: 0:05:14.\n",
      "  Batch   880  of  2,000.    Elapsed: 0:05:29.\n",
      "  Batch   920  of  2,000.    Elapsed: 0:05:44.\n",
      "  Batch   960  of  2,000.    Elapsed: 0:05:59.\n",
      "  Batch 1,000  of  2,000.    Elapsed: 0:06:14.\n",
      "  Batch 1,040  of  2,000.    Elapsed: 0:06:29.\n",
      "  Batch 1,080  of  2,000.    Elapsed: 0:06:43.\n",
      "  Batch 1,120  of  2,000.    Elapsed: 0:06:58.\n",
      "  Batch 1,160  of  2,000.    Elapsed: 0:07:13.\n",
      "  Batch 1,200  of  2,000.    Elapsed: 0:07:28.\n",
      "  Batch 1,240  of  2,000.    Elapsed: 0:07:43.\n",
      "  Batch 1,280  of  2,000.    Elapsed: 0:07:58.\n",
      "  Batch 1,320  of  2,000.    Elapsed: 0:08:13.\n",
      "  Batch 1,360  of  2,000.    Elapsed: 0:08:28.\n",
      "  Batch 1,400  of  2,000.    Elapsed: 0:08:43.\n",
      "  Batch 1,440  of  2,000.    Elapsed: 0:08:58.\n",
      "  Batch 1,480  of  2,000.    Elapsed: 0:09:13.\n",
      "  Batch 1,520  of  2,000.    Elapsed: 0:09:28.\n",
      "  Batch 1,560  of  2,000.    Elapsed: 0:09:43.\n",
      "  Batch 1,600  of  2,000.    Elapsed: 0:09:58.\n",
      "  Batch 1,640  of  2,000.    Elapsed: 0:10:13.\n",
      "  Batch 1,680  of  2,000.    Elapsed: 0:10:28.\n",
      "  Batch 1,720  of  2,000.    Elapsed: 0:10:43.\n",
      "  Batch 1,760  of  2,000.    Elapsed: 0:10:58.\n",
      "  Batch 1,800  of  2,000.    Elapsed: 0:11:13.\n",
      "  Batch 1,840  of  2,000.    Elapsed: 0:11:28.\n",
      "  Batch 1,880  of  2,000.    Elapsed: 0:11:43.\n",
      "  Batch 1,920  of  2,000.    Elapsed: 0:11:58.\n",
      "  Batch 1,960  of  2,000.    Elapsed: 0:12:13.\n",
      "\n",
      "  Average training loss: 0.03\n",
      "  Training epcoh took: 0:12:27\n",
      "\n",
      "Running Validation...\n",
      "  Accuracy: 0.95\n",
      "  Validation took: 0:00:58\n",
      "\n",
      "======== Epoch 5 / 5 ========\n",
      "Training...\n",
      "  Batch    40  of  2,000.    Elapsed: 0:00:15.\n",
      "  Batch    80  of  2,000.    Elapsed: 0:00:30.\n",
      "  Batch   120  of  2,000.    Elapsed: 0:00:45.\n",
      "  Batch   160  of  2,000.    Elapsed: 0:01:00.\n",
      "  Batch   200  of  2,000.    Elapsed: 0:01:15.\n",
      "  Batch   240  of  2,000.    Elapsed: 0:01:30.\n",
      "  Batch   280  of  2,000.    Elapsed: 0:01:45.\n",
      "  Batch   320  of  2,000.    Elapsed: 0:02:00.\n",
      "  Batch   360  of  2,000.    Elapsed: 0:02:15.\n",
      "  Batch   400  of  2,000.    Elapsed: 0:02:30.\n",
      "  Batch   440  of  2,000.    Elapsed: 0:02:45.\n",
      "  Batch   480  of  2,000.    Elapsed: 0:02:59.\n",
      "  Batch   520  of  2,000.    Elapsed: 0:03:14.\n",
      "  Batch   560  of  2,000.    Elapsed: 0:03:29.\n",
      "  Batch   600  of  2,000.    Elapsed: 0:03:44.\n",
      "  Batch   640  of  2,000.    Elapsed: 0:03:59.\n",
      "  Batch   680  of  2,000.    Elapsed: 0:04:14.\n",
      "  Batch   720  of  2,000.    Elapsed: 0:04:29.\n",
      "  Batch   760  of  2,000.    Elapsed: 0:04:44.\n",
      "  Batch   800  of  2,000.    Elapsed: 0:04:59.\n",
      "  Batch   840  of  2,000.    Elapsed: 0:05:14.\n",
      "  Batch   880  of  2,000.    Elapsed: 0:05:29.\n",
      "  Batch   920  of  2,000.    Elapsed: 0:05:44.\n",
      "  Batch   960  of  2,000.    Elapsed: 0:05:59.\n",
      "  Batch 1,000  of  2,000.    Elapsed: 0:06:14.\n",
      "  Batch 1,040  of  2,000.    Elapsed: 0:06:29.\n",
      "  Batch 1,080  of  2,000.    Elapsed: 0:06:44.\n",
      "  Batch 1,120  of  2,000.    Elapsed: 0:06:59.\n",
      "  Batch 1,160  of  2,000.    Elapsed: 0:07:14.\n",
      "  Batch 1,200  of  2,000.    Elapsed: 0:07:29.\n",
      "  Batch 1,240  of  2,000.    Elapsed: 0:07:44.\n",
      "  Batch 1,280  of  2,000.    Elapsed: 0:07:59.\n",
      "  Batch 1,320  of  2,000.    Elapsed: 0:08:14.\n",
      "  Batch 1,360  of  2,000.    Elapsed: 0:08:29.\n",
      "  Batch 1,400  of  2,000.    Elapsed: 0:08:44.\n",
      "  Batch 1,440  of  2,000.    Elapsed: 0:08:59.\n",
      "  Batch 1,480  of  2,000.    Elapsed: 0:09:14.\n",
      "  Batch 1,520  of  2,000.    Elapsed: 0:09:29.\n",
      "  Batch 1,560  of  2,000.    Elapsed: 0:09:44.\n",
      "  Batch 1,600  of  2,000.    Elapsed: 0:09:59.\n",
      "  Batch 1,640  of  2,000.    Elapsed: 0:10:14.\n",
      "  Batch 1,680  of  2,000.    Elapsed: 0:10:29.\n",
      "  Batch 1,720  of  2,000.    Elapsed: 0:10:44.\n",
      "  Batch 1,760  of  2,000.    Elapsed: 0:10:59.\n",
      "  Batch 1,800  of  2,000.    Elapsed: 0:11:14.\n",
      "  Batch 1,840  of  2,000.    Elapsed: 0:11:29.\n",
      "  Batch 1,880  of  2,000.    Elapsed: 0:11:44.\n",
      "  Batch 1,920  of  2,000.    Elapsed: 0:11:59.\n",
      "  Batch 1,960  of  2,000.    Elapsed: 0:12:14.\n",
      "\n",
      "  Average training loss: 0.02\n",
      "  Training epcoh took: 0:12:29\n",
      "\n",
      "Running Validation...\n",
      "  Accuracy: 0.95\n",
      "  Validation took: 0:00:58\n",
      "\n",
      "Training complete!\n"
     ]
    }
   ],
   "source": [
    "# seed value for reproduciblity\n",
    "seed_val = 42\n",
    "\n",
    "random.seed(seed_val)\n",
    "np.random.seed(seed_val)\n",
    "torch.manual_seed(seed_val)\n",
    "torch.cuda.manual_seed_all(seed_val)\n",
    "\n",
    "# Keeping loss values to observe them after modeling\n",
    "loss_values = []\n",
    "\n",
    "\n",
    "# training loop\n",
    "for epoch_i in range(0, epochs):\n",
    "  \n",
    "    # to see results in proper way\n",
    "    print(\"\")\n",
    "    print('======== Epoch {:} / {:} ========'.format(epoch_i + 1, epochs))\n",
    "    print('Training...')\n",
    "\n",
    "    # to see the time\n",
    "    t0 = time.time()\n",
    "\n",
    "    # clening loss for every epoch\n",
    "    total_loss = 0\n",
    "    \n",
    "    model.train() # not to perform training, it changes the mode\n",
    "\n",
    "    # each batch of training data\n",
    "    for step, batch in enumerate(train_dataloader):\n",
    "\n",
    "        # setting progress for each 40 batches\n",
    "        if step % 40 == 0 and not step == 0:\n",
    "            elapsed = format_time(time.time() - t0)\n",
    "            \n",
    "            # printing progress of results\n",
    "            print('  Batch {:>5,}  of  {:>5,}.    Elapsed: {:}.'.format(step, len(train_dataloader), elapsed))\n",
    "\n",
    "        # unpack the batch for each tensor with 'to' function\n",
    "        b_input_ids = batch[0].to(device) \n",
    "        b_input_mask = batch[1].to(device)\n",
    "        b_labels = batch[2].to(device)\n",
    "\n",
    "        # before backward pass, clearing previous gradinets\n",
    "        model.zero_grad()        \n",
    "\n",
    "        # forward pass which claculates the model on this training batch\n",
    "        outputs = model(b_input_ids, token_type_ids=None, \n",
    "                    attention_mask=b_input_mask, labels=b_labels)\n",
    "        \n",
    "        # The call to `model` always returns a tuple, so we need to pull the \n",
    "        # loss value out of the tuple.\n",
    "        loss = outputs[0]\n",
    "\n",
    "        # Accumulate the training loss over all of the batches so that we can\n",
    "        # calculate the average loss at the end. `loss` is a Tensor containing a\n",
    "        # single value; the `.item()` function just returns the Python value \n",
    "        # from the tensor.\n",
    "        total_loss += loss.item()\n",
    "\n",
    "        # Perform a backward pass to calculate the gradients.\n",
    "        loss.backward()\n",
    "\n",
    "        # Clip the norm of the gradients to 1.0.\n",
    "        # This is to help prevent the \"exploding gradients\" problem.\n",
    "        torch.nn.utils.clip_grad_norm_(model.parameters(), 1.0)\n",
    "\n",
    "        # Update parameters and take a step using the computed gradient.\n",
    "        # The optimizer dictates the \"update rule\"--how the parameters are\n",
    "        # modified based on their gradients, the learning rate, etc.\n",
    "        optimizer.step()\n",
    "\n",
    "        # Update the learning rate.\n",
    "        scheduler.step()\n",
    "\n",
    "    # Calculate the average loss over the training data.\n",
    "    avg_train_loss = total_loss / len(train_dataloader)            \n",
    "    \n",
    "    # Store the loss value for plotting the learning curve.\n",
    "    loss_values.append(avg_train_loss)\n",
    "\n",
    "    print(\"\")\n",
    "    print(\"  Average training loss: {0:.2f}\".format(avg_train_loss))\n",
    "    print(\"  Training epcoh took: {:}\".format(format_time(time.time() - t0)))\n",
    "        \n",
    "    # ========================================\n",
    "    #               Validation\n",
    "    # ========================================\n",
    "    # After the completion of each training epoch, measure our performance on\n",
    "    # our validation set.\n",
    "\n",
    "    print(\"\")\n",
    "    print(\"Running Validation...\")\n",
    "\n",
    "    t0 = time.time()\n",
    "\n",
    "    # Put the model in evaluation mode--the dropout layers behave differently\n",
    "    # during evaluation.\n",
    "    model.eval()\n",
    "\n",
    "    # Tracking variables \n",
    "    eval_loss, eval_accuracy = 0, 0\n",
    "    nb_eval_steps, nb_eval_examples = 0, 0\n",
    "\n",
    "    # Evaluate data for one epoch\n",
    "    for batch in validation_dataloader:\n",
    "        \n",
    "        # Add batch to GPU\n",
    "        batch = tuple(t.to(device) for t in batch)\n",
    "        \n",
    "        # Unpack the inputs from our dataloader\n",
    "        b_input_ids, b_input_mask, b_labels = batch\n",
    "        \n",
    "        # Telling the model not to compute or store gradients, saving memory and\n",
    "        # speeding up validation\n",
    "        with torch.no_grad():        \n",
    "\n",
    "            # Forward pass, calculate logit predictions.\n",
    "            # This will return the logits rather than the loss because we have\n",
    "            # not provided labels.\n",
    "            # token_type_ids is the same as the \"segment ids\", which \n",
    "            # differentiates sentence 1 and 2 in 2-sentence tasks.\n",
    "            # The documentation for this `model` function is here: \n",
    "            # https://huggingface.co/transformers/v2.2.0/model_doc/bert.html#transformers.BertForSequenceClassification\n",
    "            outputs = model(b_input_ids, \n",
    "                            token_type_ids=None, \n",
    "                            attention_mask=b_input_mask)\n",
    "        \n",
    "        # Get the \"logits\" output by the model. The \"logits\" are the output\n",
    "        # values prior to applying an activation function like the softmax.\n",
    "        logits = outputs[0]\n",
    "        \n",
    "\n",
    "        # Move logits and labels to CPU\n",
    "        logits = logits.detach().cpu().numpy()\n",
    "        label_ids = b_labels.to('cpu').numpy()\n",
    "        \n",
    "        # Calculate the accuracy for this batch of test sentences.\n",
    "        tmp_eval_accuracy = flat_accuracy(logits, label_ids)\n",
    "        \n",
    "        # Accumulate the total accuracy.\n",
    "        eval_accuracy += tmp_eval_accuracy\n",
    "\n",
    "        # Track the number of batches\n",
    "        nb_eval_steps += 1\n",
    "\n",
    "    \n",
    "    \n",
    "    \n",
    "    # Report the final accuracy for this validation run.\n",
    "   \n",
    "    print(\"  Accuracy: {0:.2f}\".format(eval_accuracy/nb_eval_steps))\n",
    "    print(\"  Validation took: {:}\".format(format_time(time.time() - t0)))\n",
    "\n",
    "print(\"\")\n",
    "print(\"Training complete!\")"
   ]
  },
  {
   "cell_type": "code",
   "execution_count": 57,
   "metadata": {
    "colab": {
     "base_uri": "https://localhost:8080/",
     "height": 427
    },
    "colab_type": "code",
    "id": "6ipjiFXBmH-o",
    "outputId": "6da60d59-bdff-4532-d656-c9776bd8a2af"
   },
   "outputs": [
    {
     "data": {
      "image/png": "[encoded data removed]",
      "text/plain": [
       "<Figure size 864x432 with 1 Axes>"
      ]
     },
     "metadata": {
      "tags": []
     },
     "output_type": "display_data"
    }
   ],
   "source": [
    "import matplotlib.pyplot as plt\n",
    "% matplotlib inline\n",
    "\n",
    "import seaborn as sns\n",
    "\n",
    "# Use plot styling from seaborn.\n",
    "sns.set(style='darkgrid')\n",
    "\n",
    "# Increase the plot size and font size.\n",
    "sns.set(font_scale=1.5)\n",
    "plt.rcParams[\"figure.figsize\"] = (12,6)\n",
    "\n",
    "# Plot the learning curve.\n",
    "plt.plot(loss_values, 'b-o')\n",
    "\n",
    "# Label the plot.\n",
    "plt.title(\"Loss\")\n",
    "plt.xlabel(\"Epoch\")\n",
    "plt.ylabel(\"Loss\")\n",
    "\n",
    "plt.show()"
   ]
  },
  {
   "cell_type": "code",
   "execution_count": 0,
   "metadata": {
    "colab": {},
    "colab_type": "code",
    "id": "weMCdBHitrOm"
   },
   "outputs": [],
   "source": []
  }
 ],
 "metadata": {
  "accelerator": "GPU",
  "colab": {
   "authorship_tag": "ABX9TyPBz1qYfeuLlLrzLypc46Sh",
   "collapsed_sections": [],
   "include_colab_link": true,
   "name": "BERT.ipynb",
   "provenance": []
  },
  "kernelspec": {
   "display_name": "Python 3",
   "language": "python",
   "name": "python3"
  },
  "language_info": {
   "codemirror_mode": {
    "name": "ipython",
    "version": 3
   },
   "file_extension": ".py",
   "mimetype": "text/x-python",
   "name": "python",
   "nbconvert_exporter": "python",
   "pygments_lexer": "ipython3",
   "version": "3.6.9"
  },
  "widgets": {
   "application/vnd.jupyter.widget-state+json": {
    "0e28fab1deae4b509e1b2e74dd362c3d": {
     "model_module": "@jupyter-widgets/base",
     "model_name": "LayoutModel",
     "state": {
      "_model_module": "@jupyter-widgets/base",
      "_model_module_version": "1.2.0",
      "_model_name": "LayoutModel",
      "_view_count": null,
      "_view_module": "@jupyter-widgets/base",
      "_view_module_version": "1.2.0",
      "_view_name": "LayoutView",
      "align_content": null,
      "align_items": null,
      "align_self": null,
      "border": null,
      "bottom": null,
      "display": null,
      "flex": null,
      "flex_flow": null,
      "grid_area": null,
      "grid_auto_columns": null,
      "grid_auto_flow": null,
      "grid_auto_rows": null,
      "grid_column": null,
      "grid_gap": null,
      "grid_row": null,
      "grid_template_areas": null,
      "grid_template_columns": null,
      "grid_template_rows": null,
      "height": null,
      "justify_content": null,
      "justify_items": null,
      "left": null,
      "margin": null,
      "max_height": null,
      "max_width": null,
      "min_height": null,
      "min_width": null,
      "object_fit": null,
      "object_position": null,
      "order": null,
      "overflow": null,
      "overflow_x": null,
      "overflow_y": null,
      "padding": null,
      "right": null,
      "top": null,
      "visibility": null,
      "width": null
     }
    },
    "28f9d6f70b774a68882e79c809e1f5be": {
     "model_module": "@jupyter-widgets/base",
     "model_name": "LayoutModel",
     "state": {
      "_model_module": "@jupyter-widgets/base",
      "_model_module_version": "1.2.0",
      "_model_name": "LayoutModel",
      "_view_count": null,
      "_view_module": "@jupyter-widgets/base",
      "_view_module_version": "1.2.0",
      "_view_name": "LayoutView",
      "align_content": null,
      "align_items": null,
      "align_self": null,
      "border": null,
      "bottom": null,
      "display": null,
      "flex": null,
      "flex_flow": null,
      "grid_area": null,
      "grid_auto_columns": null,
      "grid_auto_flow": null,
      "grid_auto_rows": null,
      "grid_column": null,
      "grid_gap": null,
      "grid_row": null,
      "grid_template_areas": null,
      "grid_template_columns": null,
      "grid_template_rows": null,
      "height": null,
      "justify_content": null,
      "justify_items": null,
      "left": null,
      "margin": null,
      "max_height": null,
      "max_width": null,
      "min_height": null,
      "min_width": null,
      "object_fit": null,
      "object_position": null,
      "order": null,
      "overflow": null,
      "overflow_x": null,
      "overflow_y": null,
      "padding": null,
      "right": null,
      "top": null,
      "visibility": null,
      "width": null
     }
    },
    "3560dab447db4fd7ae693b3c71bc110e": {
     "model_module": "@jupyter-widgets/controls",
     "model_name": "FloatProgressModel",
     "state": {
      "_dom_classes": [],
      "_model_module": "@jupyter-widgets/controls",
      "_model_module_version": "1.5.0",
      "_model_name": "FloatProgressModel",
      "_view_count": null,
      "_view_module": "@jupyter-widgets/controls",
      "_view_module_version": "1.5.0",
      "_view_name": "ProgressView",
      "bar_style": "success",
      "description": "Downloading: 100%",
      "description_tooltip": null,
      "layout": "IPY_MODEL_28f9d6f70b774a68882e79c809e1f5be",
      "max": 231508,
      "min": 0,
      "orientation": "horizontal",
      "style": "IPY_MODEL_943ed645d2084cfaa302247bcf5ea00a",
      "value": 231508
     }
    },
    "73ac4055d22b43ceb0975a78af928f21": {
     "model_module": "@jupyter-widgets/controls",
     "model_name": "HTMLModel",
     "state": {
      "_dom_classes": [],
      "_model_module": "@jupyter-widgets/controls",
      "_model_module_version": "1.5.0",
      "_model_name": "HTMLModel",
      "_view_count": null,
      "_view_module": "@jupyter-widgets/controls",
      "_view_module_version": "1.5.0",
      "_view_name": "HTMLView",
      "description": "",
      "description_tooltip": null,
      "layout": "IPY_MODEL_0e28fab1deae4b509e1b2e74dd362c3d",
      "placeholder": "​",
      "style": "IPY_MODEL_881a66794b814e548fe39b2ccd7d80b1",
      "value": " 232k/232k [01:50&lt;00:00, 2.10kB/s]"
     }
    },
    "881a66794b814e548fe39b2ccd7d80b1": {
     "model_module": "@jupyter-widgets/controls",
     "model_name": "DescriptionStyleModel",
     "state": {
      "_model_module": "@jupyter-widgets/controls",
      "_model_module_version": "1.5.0",
      "_model_name": "DescriptionStyleModel",
      "_view_count": null,
      "_view_module": "@jupyter-widgets/base",
      "_view_module_version": "1.2.0",
      "_view_name": "StyleView",
      "description_width": ""
     }
    },
    "943ed645d2084cfaa302247bcf5ea00a": {
     "model_module": "@jupyter-widgets/controls",
     "model_name": "ProgressStyleModel",
     "state": {
      "_model_module": "@jupyter-widgets/controls",
      "_model_module_version": "1.5.0",
      "_model_name": "ProgressStyleModel",
      "_view_count": null,
      "_view_module": "@jupyter-widgets/base",
      "_view_module_version": "1.2.0",
      "_view_name": "StyleView",
      "bar_color": null,
      "description_width": "initial"
     }
    },
    "d7d24741db9a4cf59b701080fdc708e4": {
     "model_module": "@jupyter-widgets/controls",
     "model_name": "HBoxModel",
     "state": {
      "_dom_classes": [],
      "_model_module": "@jupyter-widgets/controls",
      "_model_module_version": "1.5.0",
      "_model_name": "HBoxModel",
      "_view_count": null,
      "_view_module": "@jupyter-widgets/controls",
      "_view_module_version": "1.5.0",
      "_view_name": "HBoxView",
      "box_style": "",
      "children": [
       "IPY_MODEL_3560dab447db4fd7ae693b3c71bc110e",
       "IPY_MODEL_73ac4055d22b43ceb0975a78af928f21"
      ],
      "layout": "IPY_MODEL_fdbf18eb52a84873b92871328d41e6c6"
     }
    },
    "fdbf18eb52a84873b92871328d41e6c6": {
     "model_module": "@jupyter-widgets/base",
     "model_name": "LayoutModel",
     "state": {
      "_model_module": "@jupyter-widgets/base",
      "_model_module_version": "1.2.0",
      "_model_name": "LayoutModel",
      "_view_count": null,
      "_view_module": "@jupyter-widgets/base",
      "_view_module_version": "1.2.0",
      "_view_name": "LayoutView",
      "align_content": null,
      "align_items": null,
      "align_self": null,
      "border": null,
      "bottom": null,
      "display": null,
      "flex": null,
      "flex_flow": null,
      "grid_area": null,
      "grid_auto_columns": null,
      "grid_auto_flow": null,
      "grid_auto_rows": null,
      "grid_column": null,
      "grid_gap": null,
      "grid_row": null,
      "grid_template_areas": null,
      "grid_template_columns": null,
      "grid_template_rows": null,
      "height": null,
      "justify_content": null,
      "justify_items": null,
      "left": null,
      "margin": null,
      "max_height": null,
      "max_width": null,
      "min_height": null,
      "min_width": null,
      "object_fit": null,
      "object_position": null,
      "order": null,
      "overflow": null,
      "overflow_x": null,
      "overflow_y": null,
      "padding": null,
      "right": null,
      "top": null,
      "visibility": null,
      "width": null
     }
    }
   }
  }
 },
 "nbformat": 4,
 "nbformat_minor": 1
}
