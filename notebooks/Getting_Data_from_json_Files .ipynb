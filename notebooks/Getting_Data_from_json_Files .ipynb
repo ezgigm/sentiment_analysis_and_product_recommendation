{
 "cells": [
  {
   "cell_type": "markdown",
   "metadata": {},
   "source": [
    "# Aim of This Notebook"
   ]
  },
  {
   "cell_type": "markdown",
   "metadata": {},
   "source": [
    "In this notebook, I get the data from json files and write them to csv to use easily everytime. "
   ]
  },
  {
   "cell_type": "code",
   "execution_count": 2,
   "metadata": {},
   "outputs": [],
   "source": [
    "# to read the data\n",
    "import os\n",
    "import json\n",
    "import gzip\n",
    "\n",
    "from urllib.request import urlopen\n",
    "\n",
    "# dataframe and series \n",
    "import pandas as pd\n",
    "import numpy as np"
   ]
  },
  {
   "cell_type": "code",
   "execution_count": 4,
   "metadata": {},
   "outputs": [],
   "source": [
    "# getting data from json.gz file\n",
    "\n",
    "df_data = []\n",
    "with gzip.open('raw data/Kindle_Store_5.json.gz') as data:\n",
    "    for i in data:\n",
    "        df_data.append(json.loads(i.strip()))"
   ]
  },
  {
   "cell_type": "code",
   "execution_count": 5,
   "metadata": {},
   "outputs": [
    {
     "name": "stdout",
     "output_type": "stream",
     "text": [
      "2222983\n",
      "{'overall': 4.0, 'verified': True, 'reviewTime': '07 3, 2014', 'reviewerID': 'A2LSKD2H9U8N0J', 'asin': 'B000FA5KK0', 'style': {'Format:': ' Kindle Edition'}, 'reviewerName': 'sandra sue marsolek', 'reviewText': 'pretty good story, a little exaggerated, but I liked it pretty well.  liked the characters, the plot..it had mystery, action, love, all of the main things. I think most western lovers would injoy this book', 'summary': 'pretty good story', 'unixReviewTime': 1404345600}\n"
     ]
    }
   ],
   "source": [
    "# to see the length of the data, it means total number of reviews also\n",
    "print(len(df_data))\n",
    "\n",
    "# to see the first row of the list\n",
    "print(df_data[0])"
   ]
  },
  {
   "cell_type": "code",
   "execution_count": null,
   "metadata": {},
   "outputs": [],
   "source": [
    "df = pd.DataFrame.from_dict(df_data) # convert dictionary to dataframe"
   ]
  },
  {
   "cell_type": "code",
   "execution_count": null,
   "metadata": {},
   "outputs": [],
   "source": [
    "df.to_csv('kindle_data.csv', index = False) # to use easily everytime, I write it to csv"
   ]
  },
  {
   "cell_type": "markdown",
   "metadata": {},
   "source": [
    "# Getting Meta Data to Get More Information About Products"
   ]
  },
  {
   "cell_type": "code",
   "execution_count": 7,
   "metadata": {},
   "outputs": [],
   "source": [
    "data_meta = []\n",
    "with gzip.open('raw data/meta_Kindle_Store.json.gz') as d:\n",
    "    for i in d:\n",
    "        data_meta.append(json.loads(i.strip()))"
   ]
  },
  {
   "cell_type": "code",
   "execution_count": 8,
   "metadata": {},
   "outputs": [
    {
     "name": "stdout",
     "output_type": "stream",
     "text": [
      "493552\n",
      "{'category': ['Kindle Store', 'Kindle eBooks', 'Literature & Fiction'], 'tech1': '', 'description': [], 'fit': '', 'title': '', 'also_buy': [], 'image': [], 'tech2': '', 'brand': \"Visit Amazon's Rama Bijapurkar Page\", 'feature': [], 'rank': '1,857,911 Paid in Kindle Store (', 'also_view': [], 'main_cat': 'Buy a Kindle', 'similar_item': '', 'date': '', 'price': '', 'asin': '0143065971'}\n"
     ]
    }
   ],
   "source": [
    "# to see the length of the data, it means total number of products also\n",
    "print(len(data_meta))\n",
    "\n",
    "# to see the first row of the list\n",
    "print(data_meta[0])"
   ]
  },
  {
   "cell_type": "code",
   "execution_count": null,
   "metadata": {},
   "outputs": [],
   "source": [
    "df_meta = pd.DataFrame.from_dict(data_meta) #convert dictionary to dataframe"
   ]
  },
  {
   "cell_type": "code",
   "execution_count": null,
   "metadata": {},
   "outputs": [],
   "source": [
    "df_meta.to_csv('kindle_meta_last.csv', index = False) # to use easily everytime, I write it to csv"
   ]
  }
 ],
 "metadata": {
  "kernelspec": {
   "display_name": "Python 3",
   "language": "python",
   "name": "python3"
  },
  "language_info": {
   "codemirror_mode": {
    "name": "ipython",
    "version": 3
   },
   "file_extension": ".py",
   "mimetype": "text/x-python",
   "name": "python",
   "nbconvert_exporter": "python",
   "pygments_lexer": "ipython3",
   "version": "3.6.9"
  }
 },
 "nbformat": 4,
 "nbformat_minor": 2
}
